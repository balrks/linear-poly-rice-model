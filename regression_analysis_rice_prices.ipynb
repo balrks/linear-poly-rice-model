{
  "cells": [
    {
      "cell_type": "markdown",
      "source": [
        "#*Import Library*\n",
        "\n",
        "\n",
        "> Import library berfungsi untuk memanggil kumpulan kode (fungsi, class, modul) yang sudah tersedia agar dapat digunakan di program, sehingga mempermudah, mempercepat, dan memperkaya fitur tanpa harus menulis kode dari awal.\n",
        "\n",
        "\n"
      ],
      "metadata": {
        "id": "Z9UHN_ncUDXL"
      }
    },
    {
      "cell_type": "code",
      "execution_count": 1,
      "metadata": {
        "editable": true,
        "tags": [],
        "id": "7mSwl5npnJDL"
      },
      "outputs": [],
      "source": [
        "import pandas as pd\n",
        "import numpy as np\n",
        "import plotly.graph_objects as go\n",
        "from datetime import datetime\n",
        "from sklearn.linear_model import LinearRegression\n",
        "from sklearn.preprocessing import PolynomialFeatures\n",
        "from sklearn.model_selection import train_test_split\n",
        "from sklearn.metrics import mean_absolute_error\n",
        "from sklearn.metrics import root_mean_squared_error\n",
        "from sklearn.metrics import mean_absolute_percentage_error"
      ]
    },
    {
      "cell_type": "markdown",
      "source": [
        "# *Import Dataset*\n",
        "\n",
        "\n",
        "> Import dataset adalah proses memasukkan data dari sumber eksternal (seperti file CSV, Excel, SQL, dll.) ke dalam program agar data tersebut bisa diolah atau dianalisis.\n",
        "\n"
      ],
      "metadata": {
        "id": "iALZeIj6VCp1"
      }
    },
    {
      "cell_type": "code",
      "source": [
        "!git clone https://github.com/balrks/linear-poly-rice-model.git"
      ],
      "metadata": {
        "id": "pqiwLEpOOfYY",
        "outputId": "d8bd848a-22bc-4798-c8c8-258c7a79adb2",
        "colab": {
          "base_uri": "https://localhost:8080/"
        }
      },
      "execution_count": 2,
      "outputs": [
        {
          "output_type": "stream",
          "name": "stdout",
          "text": [
            "fatal: destination path 'linear-poly-rice-model' already exists and is not an empty directory.\n"
          ]
        }
      ]
    },
    {
      "cell_type": "code",
      "execution_count": 3,
      "metadata": {
        "id": "i-klEPSinJDP",
        "outputId": "b5506025-557a-46a2-fe6b-603a9396e929",
        "colab": {
          "base_uri": "https://localhost:8080/",
          "height": 423
        }
      },
      "outputs": [
        {
          "output_type": "execute_result",
          "data": {
            "text/plain": [
              "            Date  Semua Provinsi     Aceh  Kota Lhokseumawe\n",
              "0     2020-01-01         11800.0  10300.0           10000.0\n",
              "1     2020-01-02         11800.0  10300.0           10000.0\n",
              "2     2020-01-03         11850.0  10300.0           10000.0\n",
              "3     2020-01-06         11800.0  10350.0           10000.0\n",
              "4     2020-01-07         11800.0  10350.0           10000.0\n",
              "...          ...             ...      ...               ...\n",
              "1213  2024-08-26         15350.0  13900.0           13450.0\n",
              "1214  2024-08-27         15350.0  13900.0           13450.0\n",
              "1215  2024-08-28         15250.0  13900.0           13450.0\n",
              "1216  2024-08-29         15300.0  13900.0           13450.0\n",
              "1217  2024-08-30         15350.0  14100.0           13450.0\n",
              "\n",
              "[1218 rows x 4 columns]"
            ],
            "text/html": [
              "\n",
              "  <div id=\"df-e6185538-bf82-48ea-8b2d-1511f037b87c\" class=\"colab-df-container\">\n",
              "    <div>\n",
              "<style scoped>\n",
              "    .dataframe tbody tr th:only-of-type {\n",
              "        vertical-align: middle;\n",
              "    }\n",
              "\n",
              "    .dataframe tbody tr th {\n",
              "        vertical-align: top;\n",
              "    }\n",
              "\n",
              "    .dataframe thead th {\n",
              "        text-align: right;\n",
              "    }\n",
              "</style>\n",
              "<table border=\"1\" class=\"dataframe\">\n",
              "  <thead>\n",
              "    <tr style=\"text-align: right;\">\n",
              "      <th></th>\n",
              "      <th>Date</th>\n",
              "      <th>Semua Provinsi</th>\n",
              "      <th>Aceh</th>\n",
              "      <th>Kota Lhokseumawe</th>\n",
              "    </tr>\n",
              "  </thead>\n",
              "  <tbody>\n",
              "    <tr>\n",
              "      <th>0</th>\n",
              "      <td>2020-01-01</td>\n",
              "      <td>11800.0</td>\n",
              "      <td>10300.0</td>\n",
              "      <td>10000.0</td>\n",
              "    </tr>\n",
              "    <tr>\n",
              "      <th>1</th>\n",
              "      <td>2020-01-02</td>\n",
              "      <td>11800.0</td>\n",
              "      <td>10300.0</td>\n",
              "      <td>10000.0</td>\n",
              "    </tr>\n",
              "    <tr>\n",
              "      <th>2</th>\n",
              "      <td>2020-01-03</td>\n",
              "      <td>11850.0</td>\n",
              "      <td>10300.0</td>\n",
              "      <td>10000.0</td>\n",
              "    </tr>\n",
              "    <tr>\n",
              "      <th>3</th>\n",
              "      <td>2020-01-06</td>\n",
              "      <td>11800.0</td>\n",
              "      <td>10350.0</td>\n",
              "      <td>10000.0</td>\n",
              "    </tr>\n",
              "    <tr>\n",
              "      <th>4</th>\n",
              "      <td>2020-01-07</td>\n",
              "      <td>11800.0</td>\n",
              "      <td>10350.0</td>\n",
              "      <td>10000.0</td>\n",
              "    </tr>\n",
              "    <tr>\n",
              "      <th>...</th>\n",
              "      <td>...</td>\n",
              "      <td>...</td>\n",
              "      <td>...</td>\n",
              "      <td>...</td>\n",
              "    </tr>\n",
              "    <tr>\n",
              "      <th>1213</th>\n",
              "      <td>2024-08-26</td>\n",
              "      <td>15350.0</td>\n",
              "      <td>13900.0</td>\n",
              "      <td>13450.0</td>\n",
              "    </tr>\n",
              "    <tr>\n",
              "      <th>1214</th>\n",
              "      <td>2024-08-27</td>\n",
              "      <td>15350.0</td>\n",
              "      <td>13900.0</td>\n",
              "      <td>13450.0</td>\n",
              "    </tr>\n",
              "    <tr>\n",
              "      <th>1215</th>\n",
              "      <td>2024-08-28</td>\n",
              "      <td>15250.0</td>\n",
              "      <td>13900.0</td>\n",
              "      <td>13450.0</td>\n",
              "    </tr>\n",
              "    <tr>\n",
              "      <th>1216</th>\n",
              "      <td>2024-08-29</td>\n",
              "      <td>15300.0</td>\n",
              "      <td>13900.0</td>\n",
              "      <td>13450.0</td>\n",
              "    </tr>\n",
              "    <tr>\n",
              "      <th>1217</th>\n",
              "      <td>2024-08-30</td>\n",
              "      <td>15350.0</td>\n",
              "      <td>14100.0</td>\n",
              "      <td>13450.0</td>\n",
              "    </tr>\n",
              "  </tbody>\n",
              "</table>\n",
              "<p>1218 rows × 4 columns</p>\n",
              "</div>\n",
              "    <div class=\"colab-df-buttons\">\n",
              "\n",
              "  <div class=\"colab-df-container\">\n",
              "    <button class=\"colab-df-convert\" onclick=\"convertToInteractive('df-e6185538-bf82-48ea-8b2d-1511f037b87c')\"\n",
              "            title=\"Convert this dataframe to an interactive table.\"\n",
              "            style=\"display:none;\">\n",
              "\n",
              "  <svg xmlns=\"http://www.w3.org/2000/svg\" height=\"24px\" viewBox=\"0 -960 960 960\">\n",
              "    <path d=\"M120-120v-720h720v720H120Zm60-500h600v-160H180v160Zm220 220h160v-160H400v160Zm0 220h160v-160H400v160ZM180-400h160v-160H180v160Zm440 0h160v-160H620v160ZM180-180h160v-160H180v160Zm440 0h160v-160H620v160Z\"/>\n",
              "  </svg>\n",
              "    </button>\n",
              "\n",
              "  <style>\n",
              "    .colab-df-container {\n",
              "      display:flex;\n",
              "      gap: 12px;\n",
              "    }\n",
              "\n",
              "    .colab-df-convert {\n",
              "      background-color: #E8F0FE;\n",
              "      border: none;\n",
              "      border-radius: 50%;\n",
              "      cursor: pointer;\n",
              "      display: none;\n",
              "      fill: #1967D2;\n",
              "      height: 32px;\n",
              "      padding: 0 0 0 0;\n",
              "      width: 32px;\n",
              "    }\n",
              "\n",
              "    .colab-df-convert:hover {\n",
              "      background-color: #E2EBFA;\n",
              "      box-shadow: 0px 1px 2px rgba(60, 64, 67, 0.3), 0px 1px 3px 1px rgba(60, 64, 67, 0.15);\n",
              "      fill: #174EA6;\n",
              "    }\n",
              "\n",
              "    .colab-df-buttons div {\n",
              "      margin-bottom: 4px;\n",
              "    }\n",
              "\n",
              "    [theme=dark] .colab-df-convert {\n",
              "      background-color: #3B4455;\n",
              "      fill: #D2E3FC;\n",
              "    }\n",
              "\n",
              "    [theme=dark] .colab-df-convert:hover {\n",
              "      background-color: #434B5C;\n",
              "      box-shadow: 0px 1px 3px 1px rgba(0, 0, 0, 0.15);\n",
              "      filter: drop-shadow(0px 1px 2px rgba(0, 0, 0, 0.3));\n",
              "      fill: #FFFFFF;\n",
              "    }\n",
              "  </style>\n",
              "\n",
              "    <script>\n",
              "      const buttonEl =\n",
              "        document.querySelector('#df-e6185538-bf82-48ea-8b2d-1511f037b87c button.colab-df-convert');\n",
              "      buttonEl.style.display =\n",
              "        google.colab.kernel.accessAllowed ? 'block' : 'none';\n",
              "\n",
              "      async function convertToInteractive(key) {\n",
              "        const element = document.querySelector('#df-e6185538-bf82-48ea-8b2d-1511f037b87c');\n",
              "        const dataTable =\n",
              "          await google.colab.kernel.invokeFunction('convertToInteractive',\n",
              "                                                    [key], {});\n",
              "        if (!dataTable) return;\n",
              "\n",
              "        const docLinkHtml = 'Like what you see? Visit the ' +\n",
              "          '<a target=\"_blank\" href=https://colab.research.google.com/notebooks/data_table.ipynb>data table notebook</a>'\n",
              "          + ' to learn more about interactive tables.';\n",
              "        element.innerHTML = '';\n",
              "        dataTable['output_type'] = 'display_data';\n",
              "        await google.colab.output.renderOutput(dataTable, element);\n",
              "        const docLink = document.createElement('div');\n",
              "        docLink.innerHTML = docLinkHtml;\n",
              "        element.appendChild(docLink);\n",
              "      }\n",
              "    </script>\n",
              "  </div>\n",
              "\n",
              "\n",
              "    <div id=\"df-ff4550ef-87d8-41b1-97f9-8f713612d13a\">\n",
              "      <button class=\"colab-df-quickchart\" onclick=\"quickchart('df-ff4550ef-87d8-41b1-97f9-8f713612d13a')\"\n",
              "                title=\"Suggest charts\"\n",
              "                style=\"display:none;\">\n",
              "\n",
              "<svg xmlns=\"http://www.w3.org/2000/svg\" height=\"24px\"viewBox=\"0 0 24 24\"\n",
              "     width=\"24px\">\n",
              "    <g>\n",
              "        <path d=\"M19 3H5c-1.1 0-2 .9-2 2v14c0 1.1.9 2 2 2h14c1.1 0 2-.9 2-2V5c0-1.1-.9-2-2-2zM9 17H7v-7h2v7zm4 0h-2V7h2v10zm4 0h-2v-4h2v4z\"/>\n",
              "    </g>\n",
              "</svg>\n",
              "      </button>\n",
              "\n",
              "<style>\n",
              "  .colab-df-quickchart {\n",
              "      --bg-color: #E8F0FE;\n",
              "      --fill-color: #1967D2;\n",
              "      --hover-bg-color: #E2EBFA;\n",
              "      --hover-fill-color: #174EA6;\n",
              "      --disabled-fill-color: #AAA;\n",
              "      --disabled-bg-color: #DDD;\n",
              "  }\n",
              "\n",
              "  [theme=dark] .colab-df-quickchart {\n",
              "      --bg-color: #3B4455;\n",
              "      --fill-color: #D2E3FC;\n",
              "      --hover-bg-color: #434B5C;\n",
              "      --hover-fill-color: #FFFFFF;\n",
              "      --disabled-bg-color: #3B4455;\n",
              "      --disabled-fill-color: #666;\n",
              "  }\n",
              "\n",
              "  .colab-df-quickchart {\n",
              "    background-color: var(--bg-color);\n",
              "    border: none;\n",
              "    border-radius: 50%;\n",
              "    cursor: pointer;\n",
              "    display: none;\n",
              "    fill: var(--fill-color);\n",
              "    height: 32px;\n",
              "    padding: 0;\n",
              "    width: 32px;\n",
              "  }\n",
              "\n",
              "  .colab-df-quickchart:hover {\n",
              "    background-color: var(--hover-bg-color);\n",
              "    box-shadow: 0 1px 2px rgba(60, 64, 67, 0.3), 0 1px 3px 1px rgba(60, 64, 67, 0.15);\n",
              "    fill: var(--button-hover-fill-color);\n",
              "  }\n",
              "\n",
              "  .colab-df-quickchart-complete:disabled,\n",
              "  .colab-df-quickchart-complete:disabled:hover {\n",
              "    background-color: var(--disabled-bg-color);\n",
              "    fill: var(--disabled-fill-color);\n",
              "    box-shadow: none;\n",
              "  }\n",
              "\n",
              "  .colab-df-spinner {\n",
              "    border: 2px solid var(--fill-color);\n",
              "    border-color: transparent;\n",
              "    border-bottom-color: var(--fill-color);\n",
              "    animation:\n",
              "      spin 1s steps(1) infinite;\n",
              "  }\n",
              "\n",
              "  @keyframes spin {\n",
              "    0% {\n",
              "      border-color: transparent;\n",
              "      border-bottom-color: var(--fill-color);\n",
              "      border-left-color: var(--fill-color);\n",
              "    }\n",
              "    20% {\n",
              "      border-color: transparent;\n",
              "      border-left-color: var(--fill-color);\n",
              "      border-top-color: var(--fill-color);\n",
              "    }\n",
              "    30% {\n",
              "      border-color: transparent;\n",
              "      border-left-color: var(--fill-color);\n",
              "      border-top-color: var(--fill-color);\n",
              "      border-right-color: var(--fill-color);\n",
              "    }\n",
              "    40% {\n",
              "      border-color: transparent;\n",
              "      border-right-color: var(--fill-color);\n",
              "      border-top-color: var(--fill-color);\n",
              "    }\n",
              "    60% {\n",
              "      border-color: transparent;\n",
              "      border-right-color: var(--fill-color);\n",
              "    }\n",
              "    80% {\n",
              "      border-color: transparent;\n",
              "      border-right-color: var(--fill-color);\n",
              "      border-bottom-color: var(--fill-color);\n",
              "    }\n",
              "    90% {\n",
              "      border-color: transparent;\n",
              "      border-bottom-color: var(--fill-color);\n",
              "    }\n",
              "  }\n",
              "</style>\n",
              "\n",
              "      <script>\n",
              "        async function quickchart(key) {\n",
              "          const quickchartButtonEl =\n",
              "            document.querySelector('#' + key + ' button');\n",
              "          quickchartButtonEl.disabled = true;  // To prevent multiple clicks.\n",
              "          quickchartButtonEl.classList.add('colab-df-spinner');\n",
              "          try {\n",
              "            const charts = await google.colab.kernel.invokeFunction(\n",
              "                'suggestCharts', [key], {});\n",
              "          } catch (error) {\n",
              "            console.error('Error during call to suggestCharts:', error);\n",
              "          }\n",
              "          quickchartButtonEl.classList.remove('colab-df-spinner');\n",
              "          quickchartButtonEl.classList.add('colab-df-quickchart-complete');\n",
              "        }\n",
              "        (() => {\n",
              "          let quickchartButtonEl =\n",
              "            document.querySelector('#df-ff4550ef-87d8-41b1-97f9-8f713612d13a button');\n",
              "          quickchartButtonEl.style.display =\n",
              "            google.colab.kernel.accessAllowed ? 'block' : 'none';\n",
              "        })();\n",
              "      </script>\n",
              "    </div>\n",
              "\n",
              "  <div id=\"id_486af926-c434-4b5c-a551-1b463c1a4c03\">\n",
              "    <style>\n",
              "      .colab-df-generate {\n",
              "        background-color: #E8F0FE;\n",
              "        border: none;\n",
              "        border-radius: 50%;\n",
              "        cursor: pointer;\n",
              "        display: none;\n",
              "        fill: #1967D2;\n",
              "        height: 32px;\n",
              "        padding: 0 0 0 0;\n",
              "        width: 32px;\n",
              "      }\n",
              "\n",
              "      .colab-df-generate:hover {\n",
              "        background-color: #E2EBFA;\n",
              "        box-shadow: 0px 1px 2px rgba(60, 64, 67, 0.3), 0px 1px 3px 1px rgba(60, 64, 67, 0.15);\n",
              "        fill: #174EA6;\n",
              "      }\n",
              "\n",
              "      [theme=dark] .colab-df-generate {\n",
              "        background-color: #3B4455;\n",
              "        fill: #D2E3FC;\n",
              "      }\n",
              "\n",
              "      [theme=dark] .colab-df-generate:hover {\n",
              "        background-color: #434B5C;\n",
              "        box-shadow: 0px 1px 3px 1px rgba(0, 0, 0, 0.15);\n",
              "        filter: drop-shadow(0px 1px 2px rgba(0, 0, 0, 0.3));\n",
              "        fill: #FFFFFF;\n",
              "      }\n",
              "    </style>\n",
              "    <button class=\"colab-df-generate\" onclick=\"generateWithVariable('df')\"\n",
              "            title=\"Generate code using this dataframe.\"\n",
              "            style=\"display:none;\">\n",
              "\n",
              "  <svg xmlns=\"http://www.w3.org/2000/svg\" height=\"24px\"viewBox=\"0 0 24 24\"\n",
              "       width=\"24px\">\n",
              "    <path d=\"M7,19H8.4L18.45,9,17,7.55,7,17.6ZM5,21V16.75L18.45,3.32a2,2,0,0,1,2.83,0l1.4,1.43a1.91,1.91,0,0,1,.58,1.4,1.91,1.91,0,0,1-.58,1.4L9.25,21ZM18.45,9,17,7.55Zm-12,3A5.31,5.31,0,0,0,4.9,8.1,5.31,5.31,0,0,0,1,6.5,5.31,5.31,0,0,0,4.9,4.9,5.31,5.31,0,0,0,6.5,1,5.31,5.31,0,0,0,8.1,4.9,5.31,5.31,0,0,0,12,6.5,5.46,5.46,0,0,0,6.5,12Z\"/>\n",
              "  </svg>\n",
              "    </button>\n",
              "    <script>\n",
              "      (() => {\n",
              "      const buttonEl =\n",
              "        document.querySelector('#id_486af926-c434-4b5c-a551-1b463c1a4c03 button.colab-df-generate');\n",
              "      buttonEl.style.display =\n",
              "        google.colab.kernel.accessAllowed ? 'block' : 'none';\n",
              "\n",
              "      buttonEl.onclick = () => {\n",
              "        google.colab.notebook.generateWithVariable('df');\n",
              "      }\n",
              "      })();\n",
              "    </script>\n",
              "  </div>\n",
              "\n",
              "    </div>\n",
              "  </div>\n"
            ],
            "application/vnd.google.colaboratory.intrinsic+json": {
              "type": "dataframe",
              "variable_name": "df",
              "summary": "{\n  \"name\": \"df\",\n  \"rows\": 1218,\n  \"fields\": [\n    {\n      \"column\": \"Date\",\n      \"properties\": {\n        \"dtype\": \"object\",\n        \"num_unique_values\": 1218,\n        \"samples\": [\n          \"2022-01-27\",\n          \"2020-12-29\",\n          \"2020-03-02\"\n        ],\n        \"semantic_type\": \"\",\n        \"description\": \"\"\n      }\n    },\n    {\n      \"column\": \"Semua Provinsi\",\n      \"properties\": {\n        \"dtype\": \"number\",\n        \"std\": 1365.500659681482,\n        \"min\": 10900.0,\n        \"max\": 16000.0,\n        \"num_unique_values\": 94,\n        \"samples\": [\n          12700.0,\n          12800.0,\n          13900.0\n        ],\n        \"semantic_type\": \"\",\n        \"description\": \"\"\n      }\n    },\n    {\n      \"column\": \"Aceh\",\n      \"properties\": {\n        \"dtype\": \"number\",\n        \"std\": 1410.9949342295179,\n        \"min\": 9600.0,\n        \"max\": 14100.0,\n        \"num_unique_values\": 71,\n        \"samples\": [\n          10950.0,\n          10300.0,\n          12500.0\n        ],\n        \"semantic_type\": \"\",\n        \"description\": \"\"\n      }\n    },\n    {\n      \"column\": \"Kota Lhokseumawe\",\n      \"properties\": {\n        \"dtype\": \"number\",\n        \"std\": 1424.3893671408437,\n        \"min\": 9400.0,\n        \"max\": 13550.0,\n        \"num_unique_values\": 80,\n        \"samples\": [\n          10114.0,\n          10000.0,\n          10250.0\n        ],\n        \"semantic_type\": \"\",\n        \"description\": \"\"\n      }\n    }\n  ]\n}"
            }
          },
          "metadata": {},
          "execution_count": 3
        }
      ],
      "source": [
        "df = pd.read_csv('/content/linear-poly-rice-model/data_harga_beras_2020_2024.csv')\n",
        "df"
      ]
    },
    {
      "cell_type": "code",
      "execution_count": 4,
      "metadata": {
        "id": "ZlMNoI68nJDR"
      },
      "outputs": [],
      "source": [
        "# Load the data from the CSV file\n",
        "df = pd.read_csv('/content/linear-poly-rice-model/data_harga_beras_2020_2024.csv')\n",
        "\n",
        "# Mengubah kolom 'date' menjadi format datetime\n",
        "df['Date'] = pd.to_datetime(df['Date'])"
      ]
    },
    {
      "cell_type": "markdown",
      "source": [
        "# *Pre-processing Data*\n",
        "\n",
        "> Preprocessing data adalah tahap membersihkan, mengubah, dan menyiapkan data mentah agar siap digunakan untuk analisis atau pemodelan.\n",
        "\n"
      ],
      "metadata": {
        "id": "pAT5bX7jV8bh"
      }
    },
    {
      "cell_type": "code",
      "source": [
        "# Mengurutkan DataFrame berdasarkan kolom 'Date'\n",
        "df = df.sort_values(by='Date')\n",
        "df['Date'] = range(1, len(df) + 1)\n",
        "\n",
        "# Mengonversi kolom 'Date' menjadi tipe data integer (int64)\n",
        "df['Date'] = df['Date'].astype('int64')"
      ],
      "metadata": {
        "id": "U2Y06KeCZwl_"
      },
      "execution_count": 5,
      "outputs": []
    },
    {
      "cell_type": "code",
      "execution_count": 6,
      "metadata": {
        "id": "3SJJK2KCnJDT",
        "outputId": "67a2604e-a982-4127-b2fc-da2e2d8a9b2e",
        "colab": {
          "base_uri": "https://localhost:8080/",
          "height": 209
        }
      },
      "outputs": [
        {
          "output_type": "execute_result",
          "data": {
            "text/plain": [
              "Date                0\n",
              "Semua Provinsi      0\n",
              "Aceh                0\n",
              "Kota Lhokseumawe    0\n",
              "dtype: int64"
            ],
            "text/html": [
              "<div>\n",
              "<style scoped>\n",
              "    .dataframe tbody tr th:only-of-type {\n",
              "        vertical-align: middle;\n",
              "    }\n",
              "\n",
              "    .dataframe tbody tr th {\n",
              "        vertical-align: top;\n",
              "    }\n",
              "\n",
              "    .dataframe thead th {\n",
              "        text-align: right;\n",
              "    }\n",
              "</style>\n",
              "<table border=\"1\" class=\"dataframe\">\n",
              "  <thead>\n",
              "    <tr style=\"text-align: right;\">\n",
              "      <th></th>\n",
              "      <th>0</th>\n",
              "    </tr>\n",
              "  </thead>\n",
              "  <tbody>\n",
              "    <tr>\n",
              "      <th>Date</th>\n",
              "      <td>0</td>\n",
              "    </tr>\n",
              "    <tr>\n",
              "      <th>Semua Provinsi</th>\n",
              "      <td>0</td>\n",
              "    </tr>\n",
              "    <tr>\n",
              "      <th>Aceh</th>\n",
              "      <td>0</td>\n",
              "    </tr>\n",
              "    <tr>\n",
              "      <th>Kota Lhokseumawe</th>\n",
              "      <td>0</td>\n",
              "    </tr>\n",
              "  </tbody>\n",
              "</table>\n",
              "</div><br><label><b>dtype:</b> int64</label>"
            ]
          },
          "metadata": {},
          "execution_count": 6
        }
      ],
      "source": [
        "# Check missing values\n",
        "df.isnull().sum()"
      ]
    },
    {
      "cell_type": "markdown",
      "source": [
        "# *Data Splitting*\n",
        "\n",
        "> Data Splitting atau pemisahan data adalah proses membagi data menjadi dua bagian atau lebih. Tahap ini melibatkan pemisahan variabel independen dan dependen, Dalam pemisahan data, dataset dibagi menjadi set pelatihan (training) yang lebih besar dan set pengujian (testing) yang lebih kecil\n",
        "\n"
      ],
      "metadata": {
        "id": "bYHrJj96WUI4"
      }
    },
    {
      "cell_type": "code",
      "execution_count": 7,
      "metadata": {
        "id": "BS8iktggnJDT"
      },
      "outputs": [],
      "source": [
        "# Prepare data for regression\n",
        "X = df['Date'].values.reshape(-1, 1)  # Independent variable\n",
        "Y = df['Kota Lhokseumawe'].values     # Dependent variable"
      ]
    },
    {
      "cell_type": "code",
      "execution_count": 8,
      "metadata": {
        "id": "tvNW_ge9nJDU"
      },
      "outputs": [],
      "source": [
        "# Splitting data into training data and testing data.\n",
        "X_train, X_test, Y_train, Y_test = train_test_split(X, Y, test_size=0.2, random_state=42)"
      ]
    },
    {
      "cell_type": "code",
      "source": [
        "print('Shape of X_train :', X_train.shape)\n",
        "print('Shape of Y_train :', Y_train.shape)\n",
        "print('Shape of X_test :', X_test.shape)\n",
        "print('Shape of Y_test :', Y_test.shape)"
      ],
      "metadata": {
        "id": "-Nvrjf8kXUVh",
        "outputId": "6ba947c1-09cd-4168-bdce-0b987c4ee1b3",
        "colab": {
          "base_uri": "https://localhost:8080/"
        }
      },
      "execution_count": 9,
      "outputs": [
        {
          "output_type": "stream",
          "name": "stdout",
          "text": [
            "Shape of X_train : (974, 1)\n",
            "Shape of Y_train : (974,)\n",
            "Shape of X_test : (244, 1)\n",
            "Shape of Y_test : (244,)\n"
          ]
        }
      ]
    },
    {
      "cell_type": "markdown",
      "source": [
        "# *Model Building*\n",
        "\n",
        "> Proses pembuatan model dilakukan dengan menggunakan data training, Dalam hal ini pengolahan model pada metode Regresi Linear dan Regresi Polinomial\n",
        "\n"
      ],
      "metadata": {
        "id": "o6dLnFSDXipJ"
      }
    },
    {
      "cell_type": "code",
      "execution_count": 10,
      "metadata": {
        "id": "Ef1JY9EvnJDU",
        "outputId": "18bbfcae-7738-44ec-dbe5-abef3bf8a3d4",
        "colab": {
          "base_uri": "https://localhost:8080/"
        }
      },
      "outputs": [
        {
          "output_type": "stream",
          "name": "stdout",
          "text": [
            "Nilai intercept (a):  8805.79649552436\n",
            "Nilai slope (b):  [3.62721857]\n"
          ]
        }
      ],
      "source": [
        "# Fit the Linear Regression model on the train data\n",
        "linear = LinearRegression()\n",
        "model_linear = linear.fit(X_train, Y_train)\n",
        "\n",
        "# Print the coefficients and the intercept of the model\n",
        "print('Nilai intercept (a): ',linear.intercept_)\n",
        "print('Nilai slope (b): ',linear.coef_)"
      ]
    },
    {
      "cell_type": "code",
      "execution_count": 11,
      "metadata": {
        "id": "QJyuOGtdnJDU",
        "outputId": "0c9beee2-ef9e-42e4-cad3-f8c28e87499b",
        "colab": {
          "base_uri": "https://localhost:8080/"
        }
      },
      "outputs": [
        {
          "output_type": "stream",
          "name": "stdout",
          "text": [
            "Nilai Intercept: 9947.783130437068\n",
            "Nilai slope: [ 0.         -2.0219701   0.00463403]\n"
          ]
        }
      ],
      "source": [
        "# Initialize PolynomialFeatures\n",
        "poly_2 = PolynomialFeatures(degree=2)\n",
        "\n",
        "X_train_poly_2 = poly_2.fit_transform(X_train)\n",
        "\n",
        "poly_2_model = LinearRegression()\n",
        "poly_2_model.fit(X_train_poly_2, Y_train)\n",
        "\n",
        "# Print the coefficients and the intercept\n",
        "print('Nilai Intercept:', poly_2_model.intercept_)\n",
        "print(\"Nilai slope:\", poly_2_model.coef_)"
      ]
    },
    {
      "cell_type": "code",
      "execution_count": 12,
      "metadata": {
        "id": "c985O7ObnJDZ",
        "colab": {
          "base_uri": "https://localhost:8080/"
        },
        "outputId": "ca1faf72-5b16-4c10-c2da-43783ccd631b"
      },
      "outputs": [
        {
          "output_type": "stream",
          "name": "stdout",
          "text": [
            "Nilai Intercept: 10293.254164805698\n",
            "Nilai slope: [ 0.00000000e+00 -5.47311619e+00  1.17225001e-02 -3.87524452e-06]\n"
          ]
        }
      ],
      "source": [
        "# Initialize PolynomialFeatures\n",
        "poly_3 = PolynomialFeatures(degree=3)\n",
        "\n",
        "X_train_poly_3 = poly_3.fit_transform(X_train)\n",
        "\n",
        "poly_3_model = LinearRegression()\n",
        "poly_3_model.fit(X_train_poly_3, Y_train)\n",
        "\n",
        "# Print the coefficients and the intercept\n",
        "print('Nilai Intercept:', poly_3_model.intercept_)\n",
        "print(\"Nilai slope:\", poly_3_model.coef_)\n"
      ]
    },
    {
      "cell_type": "code",
      "source": [
        "# Initialize PolynomialFeatures\n",
        "poly_4 = PolynomialFeatures(degree=4)\n",
        "\n",
        "X_train_poly_4 = poly_4.fit_transform(X_train)\n",
        "\n",
        "poly_4_model = LinearRegression()\n",
        "poly_4_model.fit(X_train_poly_4, Y_train)\n",
        "\n",
        "# Print the coefficients and the intercept\n",
        "print('Nilai Intercept:', poly_4_model.intercept_)\n",
        "print(\"Nilai slope:\", poly_4_model.coef_)\n"
      ],
      "metadata": {
        "colab": {
          "base_uri": "https://localhost:8080/"
        },
        "id": "nAli-JvzfyzN",
        "outputId": "6f848599-117a-4fa4-8cfe-590dcd078e6a"
      },
      "execution_count": 13,
      "outputs": [
        {
          "output_type": "stream",
          "name": "stdout",
          "text": [
            "Nilai Intercept: 9731.313125044031\n",
            "Nilai slope: [ 0.00000000e+00  3.98026709e+00 -2.34633746e-02  4.12228435e-05\n",
            " -1.85505646e-08]\n"
          ]
        }
      ]
    },
    {
      "cell_type": "code",
      "source": [
        "# Initialize PolynomialFeatures\n",
        "poly_5 = PolynomialFeatures(degree=5)\n",
        "\n",
        "X_train_poly_5 = poly_5.fit_transform(X_train)\n",
        "\n",
        "poly_5_model = LinearRegression()\n",
        "poly_5_model.fit(X_train_poly_5, Y_train)\n",
        "\n",
        "# Print the coefficients and the intercept\n",
        "print('Nilai Intercept:', poly_5_model.intercept_)\n",
        "print(\"Nilai slope:\", poly_5_model.coef_)\n"
      ],
      "metadata": {
        "colab": {
          "base_uri": "https://localhost:8080/"
        },
        "id": "bfI0y3ljjN2a",
        "outputId": "99587105-3361-4c57-8429-1d1a31bf8802"
      },
      "execution_count": 14,
      "outputs": [
        {
          "output_type": "stream",
          "name": "stdout",
          "text": [
            "Nilai Intercept: 9902.910107716594\n",
            "Nilai slope: [ 0.00000000e+00 -7.29617638e-06 -1.47187878e-03 -5.64689117e-06\n",
            "  2.39139853e-08 -1.37466803e-11]\n"
          ]
        }
      ]
    },
    {
      "cell_type": "markdown",
      "source": [
        "# Prediction\n",
        "\n",
        "> Setelah model Regresi Linear dan Regresi Polinomial dibangun, tahap prediksi dilaksanakan dengan menerapkan kedua model tersebut pada data testing. Dalam proses ini, masing-masing model digunakan untuk memprediksi harga beras pada periode waktu yang sesuai dengan data testing.\n",
        "\n"
      ],
      "metadata": {
        "id": "Z8DgMYwEXzRp"
      }
    },
    {
      "cell_type": "code",
      "source": [
        "# Gabungkan data X_test dan Y_test untuk analisis data uji\n",
        "lin_pred = pd.DataFrame(X_test, columns=['X'])  # pakai X_test langsung\n",
        "lin_pred['Harga Beras (Y)'] = Y_test\n",
        "lin_pred['Prediksi'] = model_linear.predict(X_test)\n",
        "\n",
        "# Tampilkan data testing\n",
        "print(lin_pred)"
      ],
      "metadata": {
        "colab": {
          "base_uri": "https://localhost:8080/"
        },
        "id": "IDAPPwlAGngX",
        "outputId": "4af2f566-e76b-49a9-ef3c-7d03c56ad0b6"
      },
      "execution_count": 15,
      "outputs": [
        {
          "output_type": "stream",
          "name": "stdout",
          "text": [
            "        X  Harga Beras (Y)      Prediksi\n",
            "0     542          10300.0  10771.748960\n",
            "1     260          10000.0   9748.873324\n",
            "2      44           9400.0   8965.394113\n",
            "3    1009          13200.0  12465.660032\n",
            "4     585          10150.0  10927.719359\n",
            "..    ...              ...           ...\n",
            "239   421           9800.0  10332.855513\n",
            "240   244           9900.0   9690.837827\n",
            "241    60           9600.0   9023.429610\n",
            "242  1074          13450.0  12701.429239\n",
            "243    64           9650.0   9037.938484\n",
            "\n",
            "[244 rows x 3 columns]\n"
          ]
        }
      ]
    },
    {
      "cell_type": "code",
      "source": [
        "# Prediksi menggunakan model regresi linear\n",
        "Y_pred_linear = model_linear.predict(X_test)\n",
        "\n",
        "# Membuat plot dengan Plotly\n",
        "fig = go.Figure()\n",
        "\n",
        "# Tambahkan scatter plot untuk data aktual\n",
        "fig.add_trace(go.Scatter(\n",
        "    x=X_test.flatten(),  # langsung pakai X_test\n",
        "    y=Y_test, mode='markers',\n",
        "    marker=dict(color='blue', size=6, opacity=0.6),\n",
        "    name='Actual Prices'\n",
        "))\n",
        "\n",
        "# Tambahkan garis regresi linear\n",
        "fig.add_trace(go.Scatter(\n",
        "    x=X_test.flatten(),  # langsung pakai X_test\n",
        "    y=Y_pred_linear, mode='lines',\n",
        "    line=dict(color='red', width=2),\n",
        "    name='Linear Regression Prediction'\n",
        "))\n",
        "\n",
        "# Konfigurasi tata letak plot\n",
        "fig.update_layout(\n",
        "    title=dict(text=\"Linear Regression Predictions\", x=0.5),\n",
        "    xaxis=dict(title=\"Independent Variabel\", tickangle=-45, showgrid=True, gridcolor='lightgrey'),  # karena X bukan tanggal lagi\n",
        "    yaxis=dict(title=\"Rice Price\", tickformat='d', showgrid=True, gridcolor='lightgrey'),\n",
        "    width=1000, height=600,\n",
        "    plot_bgcolor='white',\n",
        "    font=dict(family=\"Arial, sans-serif\", size=12),\n",
        "    shapes=[dict(\n",
        "        type=\"rect\", x0=0, y0=0, x1=1, y1=1, xref=\"paper\", yref=\"paper\",\n",
        "        line=dict(color=\"black\", width=1)\n",
        "    )],\n",
        "    legend=dict(\n",
        "        x=0.5, y=1.1, xanchor=\"center\", yanchor=\"top\", orientation=\"h\",\n",
        "    )\n",
        ")\n",
        "\n",
        "fig.show()\n"
      ],
      "metadata": {
        "colab": {
          "base_uri": "https://localhost:8080/",
          "height": 617
        },
        "id": "tmDj5bpWIIzM",
        "outputId": "10ae86cf-8096-4196-f5dc-faf80d32caaf"
      },
      "execution_count": 16,
      "outputs": [
        {
          "output_type": "display_data",
          "data": {
            "text/html": [
              "<html>\n",
              "<head><meta charset=\"utf-8\" /></head>\n",
              "<body>\n",
              "    <div>            <script src=\"https://cdnjs.cloudflare.com/ajax/libs/mathjax/2.7.5/MathJax.js?config=TeX-AMS-MML_SVG\"></script><script type=\"text/javascript\">if (window.MathJax && window.MathJax.Hub && window.MathJax.Hub.Config) {window.MathJax.Hub.Config({SVG: {font: \"STIX-Web\"}});}</script>                <script type=\"text/javascript\">window.PlotlyConfig = {MathJaxConfig: 'local'};</script>\n",
              "        <script charset=\"utf-8\" src=\"https://cdn.plot.ly/plotly-2.35.2.min.js\"></script>                <div id=\"26dcdc72-b187-4c9c-91b2-679e17e0fcfb\" class=\"plotly-graph-div\" style=\"height:600px; width:1000px;\"></div>            <script type=\"text/javascript\">                                    window.PLOTLYENV=window.PLOTLYENV || {};                                    if (document.getElementById(\"26dcdc72-b187-4c9c-91b2-679e17e0fcfb\")) {                    Plotly.newPlot(                        \"26dcdc72-b187-4c9c-91b2-679e17e0fcfb\",                        [{\"marker\":{\"color\":\"blue\",\"opacity\":0.6,\"size\":6},\"mode\":\"markers\",\"name\":\"Actual Prices\",\"x\":[542,260,44,1009,585,311,658,1212,211,156,559,412,1008,494,1068,523,544,552,429,423,740,459,1149,424,299,1030,351,653,1211,1210,534,108,440,885,901,79,1091,716,77,771,45,1109,865,114,1214,266,416,495,645,372,746,241,193,708,595,586,298,320,591,82,528,769,50,498,678,410,902,343,1120,912,362,1205,71,908,24,102,963,59,830,928,329,1112,1024,219,297,990,938,232,763,946,1115,52,786,939,915,894,1165,110,618,124,55,970,1169,129,57,87,629,925,276,1181,468,171,880,779,592,863,794,399,979,895,733,891,1075,718,1162,1076,426,536,568,537,695,377,287,790,757,234,356,603,1040,428,584,844,1168,1010,715,267,200,175,843,148,747,945,753,949,1093,717,978,619,627,395,1050,169,210,561,136,185,900,334,840,159,141,737,472,436,1134,248,381,1153,666,345,1141,363,209,981,789,164,480,962,157,328,353,221,197,966,667,295,199,1004,940,1085,1020,530,291,486,988,579,874,527,97,465,846,179,32,443,1186,514,761,245,333,632,324,89,1027,382,366,491,1119,942,414,635,590,744,463,549,364,725,535,11,987,421,244,60,1074,64],\"y\":[10300.0,10000.0,9400.0,13200.0,10150.0,9700.0,10150.0,13500.0,9950.0,9950.0,10300.0,9650.0,13150.0,9750.0,13500.0,10000.0,10250.0,10200.0,9800.0,9800.0,11000.0,9700.0,13350.0,9800.0,9750.0,13450.0,9600.0,10150.0,13500.0,13550.0,10300.0,9950.0,9750.0,11400.0,11300.0,9750.0,13450.0,11150.0,9750.0,11150.0,9400.0,13400.0,11550.0,9900.0,13450.0,9950.0,9600.0,9750.0,10100.0,9600.0,10750.0,9850.0,9950.0,11200.0,10150.0,10150.0,9750.0,9750.0,10150.0,9750.0,10300.0,11000.0,9400.0,9750.0,10500.0,9600.0,11300.0,9750.0,13400.0,11450.0,9600.0,13550.0,9750.0,11450.0,10050.0,9912.0,12950.0,9600.0,11400.0,12000.0,9750.0,13400.0,13450.0,9950.0,9750.0,13400.0,12200.0,9850.0,10600.0,12450.0,13400.0,9400.0,11600.0,12250.0,11550.0,11300.0,13250.0,9950.0,10100.0,9950.0,9450.0,13350.0,13350.0,9950.0,9450.0,9750.0,10100.0,11800.0,9950.0,13500.0,9700.0,9900.0,11400.0,11450.0,10150.0,11550.0,11650.0,9600.0,13400.0,11300.0,11150.0,11400.0,13450.0,11150.0,13250.0,13450.0,9800.0,10350.0,10250.0,10350.0,11150.0,9600.0,9950.0,11650.0,10600.0,9850.0,9750.0,10150.0,13450.0,9800.0,10150.0,11600.0,13300.0,13200.0,11100.0,9950.0,9950.0,9950.0,11600.0,9950.0,10750.0,12450.0,10700.0,12450.0,13450.0,11150.0,13350.0,10100.0,10100.0,9600.0,13450.0,9900.0,9950.0,10300.0,9950.0,9950.0,11350.0,9750.0,11550.0,9950.0,9950.0,11050.0,9700.0,9800.0,13350.0,9900.0,9600.0,13350.0,10200.0,9750.0,13350.0,9600.0,9950.0,13350.0,11650.0,9950.0,9700.0,12950.0,9950.0,9750.0,9600.0,9950.0,9950.0,13200.0,10200.0,9750.0,9950.0,13200.0,12250.0,13450.0,13450.0,10300.0,9950.0,9700.0,13400.0,10250.0,11400.0,10200.0,9850.0,9700.0,11600.0,9950.0,10050.0,9700.0,13500.0,9900.0,10800.0,9900.0,9750.0,10100.0,9750.0,9850.0,13450.0,9600.0,9600.0,9750.0,13400.0,12350.0,9600.0,10100.0,10150.0,10900.0,9700.0,10400.0,9600.0,11150.0,10300.0,10000.0,13400.0,9800.0,9900.0,9600.0,13450.0,9650.0],\"type\":\"scatter\"},{\"line\":{\"color\":\"red\",\"width\":2},\"mode\":\"lines\",\"name\":\"Linear Regression Prediction\",\"x\":[542,260,44,1009,585,311,658,1212,211,156,559,412,1008,494,1068,523,544,552,429,423,740,459,1149,424,299,1030,351,653,1211,1210,534,108,440,885,901,79,1091,716,77,771,45,1109,865,114,1214,266,416,495,645,372,746,241,193,708,595,586,298,320,591,82,528,769,50,498,678,410,902,343,1120,912,362,1205,71,908,24,102,963,59,830,928,329,1112,1024,219,297,990,938,232,763,946,1115,52,786,939,915,894,1165,110,618,124,55,970,1169,129,57,87,629,925,276,1181,468,171,880,779,592,863,794,399,979,895,733,891,1075,718,1162,1076,426,536,568,537,695,377,287,790,757,234,356,603,1040,428,584,844,1168,1010,715,267,200,175,843,148,747,945,753,949,1093,717,978,619,627,395,1050,169,210,561,136,185,900,334,840,159,141,737,472,436,1134,248,381,1153,666,345,1141,363,209,981,789,164,480,962,157,328,353,221,197,966,667,295,199,1004,940,1085,1020,530,291,486,988,579,874,527,97,465,846,179,32,443,1186,514,761,245,333,632,324,89,1027,382,366,491,1119,942,414,635,590,744,463,549,364,725,535,11,987,421,244,60,1074,64],\"y\":[10771.748960236391,9748.873323615002,8965.394112585855,12465.660032229967,10927.719358728305,9933.861470663553,11192.5063143076,13201.985401854585,9571.139613705613,9371.642592378746,10833.41167591924,10300.21054619107,12462.03281366039,10597.64246889658,12679.66592783515,10702.831807414383,10779.00339737555,10808.021145932185,10361.87326187392,10340.109950456444,11489.938237013112,10470.689818961302,12973.470631971082,10343.737169026022,9890.334847828599,12541.831622191135,10078.950213446728,11174.370221459703,13198.358183285005,13194.730964715425,10742.731211679757,9197.536101038935,10401.772666139294,12015.884929602124,12073.920426715393,9092.346762521132,12763.091954935478,11402.884991343206,9085.092325381975,11602.382012670072,8969.021331155433,12828.381889187907,11943.340558210535,9219.299412456412,13209.239838993744,9770.636635032479,10314.719420469388,10601.26968746616,11145.352472903069,10155.121803407896,11511.701548430588,9679.956170792993,9505.849679453184,11373.867242786571,10963.9915444241,10931.346577297885,9886.707629259019,9966.506437789765,10949.482670145782,9103.22841822987,10720.96790026228,11595.127575530914,8987.15742400333,10612.151343174897,11265.050685699189,10292.956109051911,12077.547645284973,10049.932464890093,12868.281293453281,12113.819830980767,10118.849617712101,13176.594871867528,9063.329013964498,12099.31095670245,8892.849741194266,9175.772789621458,12298.807978029316,9019.802391129544,11816.387908275257,12171.855328094036,9999.151404915981,12839.263544896645,12520.068310773659,9600.157362262247,9883.08041068944,12396.742879407959,12208.12751378983,9647.311203666779,11573.364264113437,12237.145262346467,12850.145200605384,8994.41186114249,11656.790291213763,12211.75473235941,12124.701486689504,12048.529896728338,13031.506129084353,9204.790538178093,11047.417571524426,9255.571598152204,9005.293516851227,12324.198508016372,13046.01500336267,9273.707691000101,9012.547953990386,9121.364511077767,11087.3169757898,12160.973672385298,9806.908820728273,13089.541626197624,10503.334786087516,9426.050870922436,11997.748836754226,11631.399761226709,10953.10988871536,11936.086121071377,11685.808039770398,10253.056704786539,12356.843475142585,12052.157115297916,11464.547707026055,12037.6482410196,12705.056457822207,11410.139428482365,13020.624473375614,12708.683676391787,10350.991606165182,10749.985648818914,10866.056643045456,10753.612867388494,11326.713401382038,10173.257896255791,9846.808224993647,11671.29916549208,11551.60095269596,9654.565640805939,10097.086306294625,10993.009292980734,12578.103807886928,10358.246043304342,10924.092140158726,11867.168968249367,13042.38778479309,12469.287250799547,11399.257772773626,9774.263853602059,9531.240209440239,9440.559745200755,11863.541749679789,9342.62484382211,11515.328767000166,12233.518043776887,11537.092078417643,12248.026918055204,12770.346392074636,11406.512209912786,12353.216256573007,11051.044790094005,11080.06253865064,10238.547830508222,12614.375993582722,9418.796433783278,9567.512395136033,10840.6661130584,9299.098220987158,9476.831930896547,12070.293208145813,10017.287497763878,11852.66009397105,9382.524248087484,9317.234313835055,11479.056581304372,10517.843660365834,10387.263791860976,12919.062353427391,9705.34670078005,10187.766770534108,12987.979506249401,11221.524062864235,10057.18690202925,12944.452883414448,10122.47683628168,9563.885176566453,12364.097912281744,11667.6719469225,9400.660340935381,10546.861408922468,12295.180759459736,9375.269810948324,9995.524186346402,10086.204650585885,9607.411799401407,9520.358553731501,12309.689633738053,11225.151281433815,9875.825973550282,9527.612990870659,12447.52393938207,12215.38195092899,12741.328643518002,12505.559436495341,10728.22233740144,9861.317099271964,10568.624720339945,12389.488442268801,10905.956047310829,11975.98552533675,10717.3406816927,9157.636696773561,10492.453130378777,11874.423405388527,9455.068619479072,8921.8674897509,10412.654321848031,13107.677719045521,10670.186840288168,11566.109826974278,9694.465045071312,10013.660279194299,11098.198631498537,9981.015312068084,9128.618948216927,12530.949966482396,10191.393989103688,10133.358491990419,10586.760813187842,12864.654074883701,12222.63638806815,10307.464983330228,11109.080287207275,10945.855451576203,11504.447111291429,10485.19869323962,10797.139490223448,10126.10405485126,11435.52995846942,10746.358430249336,8845.695899789735,12385.861223699221,10332.855513317285,9690.837826501733,9023.429609699124,12701.429239252628,9037.938483977441],\"type\":\"scatter\"}],                        {\"template\":{\"data\":{\"histogram2dcontour\":[{\"type\":\"histogram2dcontour\",\"colorbar\":{\"outlinewidth\":0,\"ticks\":\"\"},\"colorscale\":[[0.0,\"#0d0887\"],[0.1111111111111111,\"#46039f\"],[0.2222222222222222,\"#7201a8\"],[0.3333333333333333,\"#9c179e\"],[0.4444444444444444,\"#bd3786\"],[0.5555555555555556,\"#d8576b\"],[0.6666666666666666,\"#ed7953\"],[0.7777777777777778,\"#fb9f3a\"],[0.8888888888888888,\"#fdca26\"],[1.0,\"#f0f921\"]]}],\"choropleth\":[{\"type\":\"choropleth\",\"colorbar\":{\"outlinewidth\":0,\"ticks\":\"\"}}],\"histogram2d\":[{\"type\":\"histogram2d\",\"colorbar\":{\"outlinewidth\":0,\"ticks\":\"\"},\"colorscale\":[[0.0,\"#0d0887\"],[0.1111111111111111,\"#46039f\"],[0.2222222222222222,\"#7201a8\"],[0.3333333333333333,\"#9c179e\"],[0.4444444444444444,\"#bd3786\"],[0.5555555555555556,\"#d8576b\"],[0.6666666666666666,\"#ed7953\"],[0.7777777777777778,\"#fb9f3a\"],[0.8888888888888888,\"#fdca26\"],[1.0,\"#f0f921\"]]}],\"heatmap\":[{\"type\":\"heatmap\",\"colorbar\":{\"outlinewidth\":0,\"ticks\":\"\"},\"colorscale\":[[0.0,\"#0d0887\"],[0.1111111111111111,\"#46039f\"],[0.2222222222222222,\"#7201a8\"],[0.3333333333333333,\"#9c179e\"],[0.4444444444444444,\"#bd3786\"],[0.5555555555555556,\"#d8576b\"],[0.6666666666666666,\"#ed7953\"],[0.7777777777777778,\"#fb9f3a\"],[0.8888888888888888,\"#fdca26\"],[1.0,\"#f0f921\"]]}],\"heatmapgl\":[{\"type\":\"heatmapgl\",\"colorbar\":{\"outlinewidth\":0,\"ticks\":\"\"},\"colorscale\":[[0.0,\"#0d0887\"],[0.1111111111111111,\"#46039f\"],[0.2222222222222222,\"#7201a8\"],[0.3333333333333333,\"#9c179e\"],[0.4444444444444444,\"#bd3786\"],[0.5555555555555556,\"#d8576b\"],[0.6666666666666666,\"#ed7953\"],[0.7777777777777778,\"#fb9f3a\"],[0.8888888888888888,\"#fdca26\"],[1.0,\"#f0f921\"]]}],\"contourcarpet\":[{\"type\":\"contourcarpet\",\"colorbar\":{\"outlinewidth\":0,\"ticks\":\"\"}}],\"contour\":[{\"type\":\"contour\",\"colorbar\":{\"outlinewidth\":0,\"ticks\":\"\"},\"colorscale\":[[0.0,\"#0d0887\"],[0.1111111111111111,\"#46039f\"],[0.2222222222222222,\"#7201a8\"],[0.3333333333333333,\"#9c179e\"],[0.4444444444444444,\"#bd3786\"],[0.5555555555555556,\"#d8576b\"],[0.6666666666666666,\"#ed7953\"],[0.7777777777777778,\"#fb9f3a\"],[0.8888888888888888,\"#fdca26\"],[1.0,\"#f0f921\"]]}],\"surface\":[{\"type\":\"surface\",\"colorbar\":{\"outlinewidth\":0,\"ticks\":\"\"},\"colorscale\":[[0.0,\"#0d0887\"],[0.1111111111111111,\"#46039f\"],[0.2222222222222222,\"#7201a8\"],[0.3333333333333333,\"#9c179e\"],[0.4444444444444444,\"#bd3786\"],[0.5555555555555556,\"#d8576b\"],[0.6666666666666666,\"#ed7953\"],[0.7777777777777778,\"#fb9f3a\"],[0.8888888888888888,\"#fdca26\"],[1.0,\"#f0f921\"]]}],\"mesh3d\":[{\"type\":\"mesh3d\",\"colorbar\":{\"outlinewidth\":0,\"ticks\":\"\"}}],\"scatter\":[{\"fillpattern\":{\"fillmode\":\"overlay\",\"size\":10,\"solidity\":0.2},\"type\":\"scatter\"}],\"parcoords\":[{\"type\":\"parcoords\",\"line\":{\"colorbar\":{\"outlinewidth\":0,\"ticks\":\"\"}}}],\"scatterpolargl\":[{\"type\":\"scatterpolargl\",\"marker\":{\"colorbar\":{\"outlinewidth\":0,\"ticks\":\"\"}}}],\"bar\":[{\"error_x\":{\"color\":\"#2a3f5f\"},\"error_y\":{\"color\":\"#2a3f5f\"},\"marker\":{\"line\":{\"color\":\"#E5ECF6\",\"width\":0.5},\"pattern\":{\"fillmode\":\"overlay\",\"size\":10,\"solidity\":0.2}},\"type\":\"bar\"}],\"scattergeo\":[{\"type\":\"scattergeo\",\"marker\":{\"colorbar\":{\"outlinewidth\":0,\"ticks\":\"\"}}}],\"scatterpolar\":[{\"type\":\"scatterpolar\",\"marker\":{\"colorbar\":{\"outlinewidth\":0,\"ticks\":\"\"}}}],\"histogram\":[{\"marker\":{\"pattern\":{\"fillmode\":\"overlay\",\"size\":10,\"solidity\":0.2}},\"type\":\"histogram\"}],\"scattergl\":[{\"type\":\"scattergl\",\"marker\":{\"colorbar\":{\"outlinewidth\":0,\"ticks\":\"\"}}}],\"scatter3d\":[{\"type\":\"scatter3d\",\"line\":{\"colorbar\":{\"outlinewidth\":0,\"ticks\":\"\"}},\"marker\":{\"colorbar\":{\"outlinewidth\":0,\"ticks\":\"\"}}}],\"scattermapbox\":[{\"type\":\"scattermapbox\",\"marker\":{\"colorbar\":{\"outlinewidth\":0,\"ticks\":\"\"}}}],\"scatterternary\":[{\"type\":\"scatterternary\",\"marker\":{\"colorbar\":{\"outlinewidth\":0,\"ticks\":\"\"}}}],\"scattercarpet\":[{\"type\":\"scattercarpet\",\"marker\":{\"colorbar\":{\"outlinewidth\":0,\"ticks\":\"\"}}}],\"carpet\":[{\"aaxis\":{\"endlinecolor\":\"#2a3f5f\",\"gridcolor\":\"white\",\"linecolor\":\"white\",\"minorgridcolor\":\"white\",\"startlinecolor\":\"#2a3f5f\"},\"baxis\":{\"endlinecolor\":\"#2a3f5f\",\"gridcolor\":\"white\",\"linecolor\":\"white\",\"minorgridcolor\":\"white\",\"startlinecolor\":\"#2a3f5f\"},\"type\":\"carpet\"}],\"table\":[{\"cells\":{\"fill\":{\"color\":\"#EBF0F8\"},\"line\":{\"color\":\"white\"}},\"header\":{\"fill\":{\"color\":\"#C8D4E3\"},\"line\":{\"color\":\"white\"}},\"type\":\"table\"}],\"barpolar\":[{\"marker\":{\"line\":{\"color\":\"#E5ECF6\",\"width\":0.5},\"pattern\":{\"fillmode\":\"overlay\",\"size\":10,\"solidity\":0.2}},\"type\":\"barpolar\"}],\"pie\":[{\"automargin\":true,\"type\":\"pie\"}]},\"layout\":{\"autotypenumbers\":\"strict\",\"colorway\":[\"#636efa\",\"#EF553B\",\"#00cc96\",\"#ab63fa\",\"#FFA15A\",\"#19d3f3\",\"#FF6692\",\"#B6E880\",\"#FF97FF\",\"#FECB52\"],\"font\":{\"color\":\"#2a3f5f\"},\"hovermode\":\"closest\",\"hoverlabel\":{\"align\":\"left\"},\"paper_bgcolor\":\"white\",\"plot_bgcolor\":\"#E5ECF6\",\"polar\":{\"bgcolor\":\"#E5ECF6\",\"angularaxis\":{\"gridcolor\":\"white\",\"linecolor\":\"white\",\"ticks\":\"\"},\"radialaxis\":{\"gridcolor\":\"white\",\"linecolor\":\"white\",\"ticks\":\"\"}},\"ternary\":{\"bgcolor\":\"#E5ECF6\",\"aaxis\":{\"gridcolor\":\"white\",\"linecolor\":\"white\",\"ticks\":\"\"},\"baxis\":{\"gridcolor\":\"white\",\"linecolor\":\"white\",\"ticks\":\"\"},\"caxis\":{\"gridcolor\":\"white\",\"linecolor\":\"white\",\"ticks\":\"\"}},\"coloraxis\":{\"colorbar\":{\"outlinewidth\":0,\"ticks\":\"\"}},\"colorscale\":{\"sequential\":[[0.0,\"#0d0887\"],[0.1111111111111111,\"#46039f\"],[0.2222222222222222,\"#7201a8\"],[0.3333333333333333,\"#9c179e\"],[0.4444444444444444,\"#bd3786\"],[0.5555555555555556,\"#d8576b\"],[0.6666666666666666,\"#ed7953\"],[0.7777777777777778,\"#fb9f3a\"],[0.8888888888888888,\"#fdca26\"],[1.0,\"#f0f921\"]],\"sequentialminus\":[[0.0,\"#0d0887\"],[0.1111111111111111,\"#46039f\"],[0.2222222222222222,\"#7201a8\"],[0.3333333333333333,\"#9c179e\"],[0.4444444444444444,\"#bd3786\"],[0.5555555555555556,\"#d8576b\"],[0.6666666666666666,\"#ed7953\"],[0.7777777777777778,\"#fb9f3a\"],[0.8888888888888888,\"#fdca26\"],[1.0,\"#f0f921\"]],\"diverging\":[[0,\"#8e0152\"],[0.1,\"#c51b7d\"],[0.2,\"#de77ae\"],[0.3,\"#f1b6da\"],[0.4,\"#fde0ef\"],[0.5,\"#f7f7f7\"],[0.6,\"#e6f5d0\"],[0.7,\"#b8e186\"],[0.8,\"#7fbc41\"],[0.9,\"#4d9221\"],[1,\"#276419\"]]},\"xaxis\":{\"gridcolor\":\"white\",\"linecolor\":\"white\",\"ticks\":\"\",\"title\":{\"standoff\":15},\"zerolinecolor\":\"white\",\"automargin\":true,\"zerolinewidth\":2},\"yaxis\":{\"gridcolor\":\"white\",\"linecolor\":\"white\",\"ticks\":\"\",\"title\":{\"standoff\":15},\"zerolinecolor\":\"white\",\"automargin\":true,\"zerolinewidth\":2},\"scene\":{\"xaxis\":{\"backgroundcolor\":\"#E5ECF6\",\"gridcolor\":\"white\",\"linecolor\":\"white\",\"showbackground\":true,\"ticks\":\"\",\"zerolinecolor\":\"white\",\"gridwidth\":2},\"yaxis\":{\"backgroundcolor\":\"#E5ECF6\",\"gridcolor\":\"white\",\"linecolor\":\"white\",\"showbackground\":true,\"ticks\":\"\",\"zerolinecolor\":\"white\",\"gridwidth\":2},\"zaxis\":{\"backgroundcolor\":\"#E5ECF6\",\"gridcolor\":\"white\",\"linecolor\":\"white\",\"showbackground\":true,\"ticks\":\"\",\"zerolinecolor\":\"white\",\"gridwidth\":2}},\"shapedefaults\":{\"line\":{\"color\":\"#2a3f5f\"}},\"annotationdefaults\":{\"arrowcolor\":\"#2a3f5f\",\"arrowhead\":0,\"arrowwidth\":1},\"geo\":{\"bgcolor\":\"white\",\"landcolor\":\"#E5ECF6\",\"subunitcolor\":\"white\",\"showland\":true,\"showlakes\":true,\"lakecolor\":\"white\"},\"title\":{\"x\":0.05},\"mapbox\":{\"style\":\"light\"}}},\"title\":{\"text\":\"Linear Regression Predictions\",\"x\":0.5},\"xaxis\":{\"title\":{\"text\":\"Independent Variabel\"},\"tickangle\":-45,\"showgrid\":true,\"gridcolor\":\"lightgrey\"},\"yaxis\":{\"title\":{\"text\":\"Rice Price\"},\"tickformat\":\"d\",\"showgrid\":true,\"gridcolor\":\"lightgrey\"},\"font\":{\"family\":\"Arial, sans-serif\",\"size\":12},\"legend\":{\"x\":0.5,\"y\":1.1,\"xanchor\":\"center\",\"yanchor\":\"top\",\"orientation\":\"h\"},\"width\":1000,\"height\":600,\"plot_bgcolor\":\"white\",\"shapes\":[{\"line\":{\"color\":\"black\",\"width\":1},\"type\":\"rect\",\"x0\":0,\"x1\":1,\"xref\":\"paper\",\"y0\":0,\"y1\":1,\"yref\":\"paper\"}]},                        {\"responsive\": true}                    ).then(function(){\n",
              "                            \n",
              "var gd = document.getElementById('26dcdc72-b187-4c9c-91b2-679e17e0fcfb');\n",
              "var x = new MutationObserver(function (mutations, observer) {{\n",
              "        var display = window.getComputedStyle(gd).display;\n",
              "        if (!display || display === 'none') {{\n",
              "            console.log([gd, 'removed!']);\n",
              "            Plotly.purge(gd);\n",
              "            observer.disconnect();\n",
              "        }}\n",
              "}});\n",
              "\n",
              "// Listen for the removal of the full notebook cells\n",
              "var notebookContainer = gd.closest('#notebook-container');\n",
              "if (notebookContainer) {{\n",
              "    x.observe(notebookContainer, {childList: true});\n",
              "}}\n",
              "\n",
              "// Listen for the clearing of the current output cell\n",
              "var outputEl = gd.closest('.output');\n",
              "if (outputEl) {{\n",
              "    x.observe(outputEl, {childList: true});\n",
              "}}\n",
              "\n",
              "                        })                };                            </script>        </div>\n",
              "</body>\n",
              "</html>"
            ]
          },
          "metadata": {}
        }
      ]
    },
    {
      "cell_type": "code",
      "source": [
        "# Gabungkan data X_test dan Y_test untuk analisis data uji\n",
        "poly_2_pred = pd.DataFrame(X_test, columns=['X'])  # pakai X_test langsung\n",
        "poly_2_pred['Harga Beras (Y)'] = Y_test\n",
        "poly_2_pred['Prediksi'] = poly_2_model.predict(poly_2.transform(X_test))\n",
        "\n",
        "# Tampilkan data testing\n",
        "print(poly_2_pred)"
      ],
      "metadata": {
        "colab": {
          "base_uri": "https://localhost:8080/"
        },
        "id": "20APqG1LKqOI",
        "outputId": "a0c497e4-9a5c-4051-faf7-e1735dc8b0b2"
      },
      "execution_count": 17,
      "outputs": [
        {
          "output_type": "stream",
          "name": "stdout",
          "text": [
            "        X  Harga Beras (Y)      Prediksi\n",
            "0     542          10300.0  10213.186049\n",
            "1     260          10000.0   9735.331223\n",
            "2      44           9400.0   9867.787925\n",
            "3    1009          13200.0  12625.431542\n",
            "4     585          10150.0  10350.810984\n",
            "..    ...              ...           ...\n",
            "239   421           9800.0   9917.873542\n",
            "240   244           9900.0   9730.313940\n",
            "241    60           9600.0   9843.147427\n",
            "242  1074          13450.0  13121.427757\n",
            "243    64           9650.0   9837.358024\n",
            "\n",
            "[244 rows x 3 columns]\n"
          ]
        }
      ]
    },
    {
      "cell_type": "code",
      "source": [
        "# Gabungkan data X_test dan Y_test untuk analisis data uji\n",
        "poly_3_pred = pd.DataFrame(X_test, columns=['X'])  # pakai X_test langsung\n",
        "poly_3_pred['Harga Beras (Y)'] = Y_test\n",
        "poly_3_pred['Prediksi'] = poly_3_model.predict(poly_3.transform(X_test))\n",
        "\n",
        "# Tampilkan data testing\n",
        "print(poly_3_pred)"
      ],
      "metadata": {
        "colab": {
          "base_uri": "https://localhost:8080/"
        },
        "id": "mf_rwwrqLQSD",
        "outputId": "43218f01-3b74-4894-f4e5-e81db11e7986"
      },
      "execution_count": 18,
      "outputs": [
        {
          "output_type": "stream",
          "name": "stdout",
          "text": [
            "        X  Harga Beras (Y)      Prediksi\n",
            "0     542          10300.0  10153.456939\n",
            "1     260          10000.0   9594.573666\n",
            "2      44           9400.0  10074.801704\n",
            "3    1009          13200.0  12724.513930\n",
            "4     585          10150.0  10327.383544\n",
            "..    ...              ...           ...\n",
            "239   421           9800.0   9777.615109\n",
            "240   244           9900.0   9599.429741\n",
            "241    60           9600.0  10006.231141\n",
            "242  1074          13450.0  13135.968249\n",
            "243    64           9650.0   9989.974217\n",
            "\n",
            "[244 rows x 3 columns]\n"
          ]
        }
      ]
    },
    {
      "cell_type": "code",
      "source": [
        "# Gabungkan data X_test dan Y_test untuk analisis data uji\n",
        "poly_4_pred = pd.DataFrame(X_test, columns=['X'])  # pakai X_test langsung\n",
        "poly_4_pred['Harga Beras (Y)'] = Y_test\n",
        "poly_4_pred['Prediksi'] = poly_4_model.predict(poly_4.transform(X_test))\n",
        "\n",
        "# Tampilkan data testing\n",
        "print(poly_4_pred)"
      ],
      "metadata": {
        "colab": {
          "base_uri": "https://localhost:8080/"
        },
        "id": "1ZuC-CpSLYU-",
        "outputId": "78e609e2-1ca9-452b-c009-55c2a400b42f"
      },
      "execution_count": 19,
      "outputs": [
        {
          "output_type": "stream",
          "name": "stdout",
          "text": [
            "        X  Harga Beras (Y)      Prediksi\n",
            "0     542          10300.0   9958.564489\n",
            "1     260          10000.0   9819.819520\n",
            "2      44           9400.0   9864.461781\n",
            "3    1009          13200.0  12978.239548\n",
            "4     585          10150.0  10110.292168\n",
            "..    ...              ...           ...\n",
            "239   421           9800.0   9741.564405\n",
            "240   244           9900.0   9838.665042\n",
            "241    60           9600.0   9894.324721\n",
            "242  1074          13450.0  13328.254785\n",
            "243    64           9650.0   9900.439331\n",
            "\n",
            "[244 rows x 3 columns]\n"
          ]
        }
      ]
    },
    {
      "cell_type": "code",
      "source": [
        "# Gabungkan data X_test dan Y_test untuk analisis data uji\n",
        "poly_5_pred = pd.DataFrame(X_test, columns=['X'])  # pakai X_test langsung\n",
        "poly_5_pred['Harga Beras (Y)'] = Y_test\n",
        "poly_5_pred['Prediksi'] = poly_5_model.predict(poly_5.transform(X_test))\n",
        "\n",
        "# Tampilkan data testing\n",
        "print(poly_5_pred)"
      ],
      "metadata": {
        "colab": {
          "base_uri": "https://localhost:8080/"
        },
        "id": "DtND8zvHLg6e",
        "outputId": "99e9b1c9-fe6e-4da5-9f03-a42a51370cf4"
      },
      "execution_count": 20,
      "outputs": [
        {
          "output_type": "stream",
          "name": "stdout",
          "text": [
            "        X  Harga Beras (Y)      Prediksi\n",
            "0     542          10300.0   9992.159449\n",
            "1     260          10000.0   9797.107671\n",
            "2      44           9400.0   9899.666569\n",
            "3    1009          13200.0  13013.741840\n",
            "4     585          10150.0  10127.592212\n",
            "..    ...              ...           ...\n",
            "239   421           9800.0   9790.104230\n",
            "240   244           9900.0   9806.122304\n",
            "241    60           9600.0   9896.690414\n",
            "242  1074          13450.0  13383.774394\n",
            "243    64           9650.0   9895.786976\n",
            "\n",
            "[244 rows x 3 columns]\n"
          ]
        }
      ]
    },
    {
      "cell_type": "code",
      "source": [
        "# Membuat rentang nilai X yang lebih halus\n",
        "X_smooth = np.linspace(X.min(), X.max(), 300).reshape(-1, 1)\n",
        "\n",
        "# Buat objek polynomial degree 2\n",
        "poly_2 = PolynomialFeatures(degree=2)\n",
        "\n",
        "# Transformasikan X_smooth\n",
        "X_smooth_poly_2 = poly_2.fit_transform(X_smooth)\n",
        "\n",
        "# Prediksi menggunakan model polinomial degree 2\n",
        "Y_pred_poly_2_smooth = poly_2_model.predict(X_smooth_poly_2)\n",
        "\n",
        "# Membuat figure dengan Plotly\n",
        "fig = go.Figure()\n",
        "\n",
        "# Scatter data asli\n",
        "fig.add_trace(go.Scatter(\n",
        "    x=X.flatten(),\n",
        "    y=Y,\n",
        "    mode='markers',\n",
        "    marker=dict(color='blue', size=6, opacity=0.6),\n",
        "    name='Data Asli'\n",
        "))\n",
        "\n",
        "# Garis prediksi polinomial degree 2 (smooth)\n",
        "fig.add_trace(go.Scatter(\n",
        "    x=X_smooth.flatten(),\n",
        "    y=Y_pred_poly_2_smooth,\n",
        "    mode='lines',\n",
        "    line=dict(color='green', width=2),\n",
        "    name='Prediksi Polinomial (Degree 2)'\n",
        "))\n",
        "\n",
        "# Layout plot\n",
        "fig.update_layout(\n",
        "    title=dict(text=\"Prediksi Harga Beras dengan Regresi Polinomial Degree 2\", x=0.5),\n",
        "    xaxis=dict(title=\"Independent Variabel\", tickangle=-45, showgrid=True, gridcolor='lightgrey'),\n",
        "    yaxis=dict(title=\"Harga Beras\", tickformat='d', showgrid=True, gridcolor='lightgrey'),\n",
        "    width=1000,\n",
        "    height=600,\n",
        "    plot_bgcolor='white',\n",
        "    font=dict(family=\"Arial, sans-serif\", size=12),\n",
        "    shapes=[dict(\n",
        "        type=\"rect\", x0=0, y0=0, x1=1, y1=1, xref=\"paper\", yref=\"paper\",\n",
        "        line=dict(color=\"black\", width=1)\n",
        "    )],\n",
        "    legend=dict(\n",
        "        x=0.5, y=1.1, xanchor=\"center\", yanchor=\"top\", orientation=\"h\"\n",
        "    )\n",
        ")\n",
        "\n",
        "# Tampilkan plot\n",
        "fig.show()\n"
      ],
      "metadata": {
        "colab": {
          "base_uri": "https://localhost:8080/",
          "height": 617
        },
        "id": "HewEQyDDL7ZN",
        "outputId": "05070bc5-fce3-4525-c4b9-15c814d968ae"
      },
      "execution_count": 21,
      "outputs": [
        {
          "output_type": "display_data",
          "data": {
            "text/html": [
              "<html>\n",
              "<head><meta charset=\"utf-8\" /></head>\n",
              "<body>\n",
              "    <div>            <script src=\"https://cdnjs.cloudflare.com/ajax/libs/mathjax/2.7.5/MathJax.js?config=TeX-AMS-MML_SVG\"></script><script type=\"text/javascript\">if (window.MathJax && window.MathJax.Hub && window.MathJax.Hub.Config) {window.MathJax.Hub.Config({SVG: {font: \"STIX-Web\"}});}</script>                <script type=\"text/javascript\">window.PlotlyConfig = {MathJaxConfig: 'local'};</script>\n",
              "        <script charset=\"utf-8\" src=\"https://cdn.plot.ly/plotly-2.35.2.min.js\"></script>                <div id=\"c08d98a2-3dff-4e16-bcc1-48b5160245ba\" class=\"plotly-graph-div\" style=\"height:600px; width:1000px;\"></div>            <script type=\"text/javascript\">                                    window.PLOTLYENV=window.PLOTLYENV || {};                                    if (document.getElementById(\"c08d98a2-3dff-4e16-bcc1-48b5160245ba\")) {                    Plotly.newPlot(                        \"c08d98a2-3dff-4e16-bcc1-48b5160245ba\",                        [{\"marker\":{\"color\":\"blue\",\"opacity\":0.6,\"size\":6},\"mode\":\"markers\",\"name\":\"Data Asli\",\"x\":[1,2,3,4,5,6,7,8,9,10,11,12,13,14,15,16,17,18,19,20,21,22,23,24,25,26,27,28,29,30,31,32,33,34,35,36,37,38,39,40,41,42,43,44,45,46,47,48,49,50,51,52,53,54,55,56,57,58,59,60,61,62,63,64,65,66,67,68,69,70,71,72,73,74,75,76,77,78,79,80,81,82,83,84,85,86,87,88,89,90,91,92,93,94,95,96,97,98,99,100,101,102,103,104,105,106,107,108,109,110,111,112,113,114,115,116,117,118,119,120,121,122,123,124,125,126,127,128,129,130,131,132,133,134,135,136,137,138,139,140,141,142,143,144,145,146,147,148,149,150,151,152,153,154,155,156,157,158,159,160,161,162,163,164,165,166,167,168,169,170,171,172,173,174,175,176,177,178,179,180,181,182,183,184,185,186,187,188,189,190,191,192,193,194,195,196,197,198,199,200,201,202,203,204,205,206,207,208,209,210,211,212,213,214,215,216,217,218,219,220,221,222,223,224,225,226,227,228,229,230,231,232,233,234,235,236,237,238,239,240,241,242,243,244,245,246,247,248,249,250,251,252,253,254,255,256,257,258,259,260,261,262,263,264,265,266,267,268,269,270,271,272,273,274,275,276,277,278,279,280,281,282,283,284,285,286,287,288,289,290,291,292,293,294,295,296,297,298,299,300,301,302,303,304,305,306,307,308,309,310,311,312,313,314,315,316,317,318,319,320,321,322,323,324,325,326,327,328,329,330,331,332,333,334,335,336,337,338,339,340,341,342,343,344,345,346,347,348,349,350,351,352,353,354,355,356,357,358,359,360,361,362,363,364,365,366,367,368,369,370,371,372,373,374,375,376,377,378,379,380,381,382,383,384,385,386,387,388,389,390,391,392,393,394,395,396,397,398,399,400,401,402,403,404,405,406,407,408,409,410,411,412,413,414,415,416,417,418,419,420,421,422,423,424,425,426,427,428,429,430,431,432,433,434,435,436,437,438,439,440,441,442,443,444,445,446,447,448,449,450,451,452,453,454,455,456,457,458,459,460,461,462,463,464,465,466,467,468,469,470,471,472,473,474,475,476,477,478,479,480,481,482,483,484,485,486,487,488,489,490,491,492,493,494,495,496,497,498,499,500,501,502,503,504,505,506,507,508,509,510,511,512,513,514,515,516,517,518,519,520,521,522,523,524,525,526,527,528,529,530,531,532,533,534,535,536,537,538,539,540,541,542,543,544,545,546,547,548,549,550,551,552,553,554,555,556,557,558,559,560,561,562,563,564,565,566,567,568,569,570,571,572,573,574,575,576,577,578,579,580,581,582,583,584,585,586,587,588,589,590,591,592,593,594,595,596,597,598,599,600,601,602,603,604,605,606,607,608,609,610,611,612,613,614,615,616,617,618,619,620,621,622,623,624,625,626,627,628,629,630,631,632,633,634,635,636,637,638,639,640,641,642,643,644,645,646,647,648,649,650,651,652,653,654,655,656,657,658,659,660,661,662,663,664,665,666,667,668,669,670,671,672,673,674,675,676,677,678,679,680,681,682,683,684,685,686,687,688,689,690,691,692,693,694,695,696,697,698,699,700,701,702,703,704,705,706,707,708,709,710,711,712,713,714,715,716,717,718,719,720,721,722,723,724,725,726,727,728,729,730,731,732,733,734,735,736,737,738,739,740,741,742,743,744,745,746,747,748,749,750,751,752,753,754,755,756,757,758,759,760,761,762,763,764,765,766,767,768,769,770,771,772,773,774,775,776,777,778,779,780,781,782,783,784,785,786,787,788,789,790,791,792,793,794,795,796,797,798,799,800,801,802,803,804,805,806,807,808,809,810,811,812,813,814,815,816,817,818,819,820,821,822,823,824,825,826,827,828,829,830,831,832,833,834,835,836,837,838,839,840,841,842,843,844,845,846,847,848,849,850,851,852,853,854,855,856,857,858,859,860,861,862,863,864,865,866,867,868,869,870,871,872,873,874,875,876,877,878,879,880,881,882,883,884,885,886,887,888,889,890,891,892,893,894,895,896,897,898,899,900,901,902,903,904,905,906,907,908,909,910,911,912,913,914,915,916,917,918,919,920,921,922,923,924,925,926,927,928,929,930,931,932,933,934,935,936,937,938,939,940,941,942,943,944,945,946,947,948,949,950,951,952,953,954,955,956,957,958,959,960,961,962,963,964,965,966,967,968,969,970,971,972,973,974,975,976,977,978,979,980,981,982,983,984,985,986,987,988,989,990,991,992,993,994,995,996,997,998,999,1000,1001,1002,1003,1004,1005,1006,1007,1008,1009,1010,1011,1012,1013,1014,1015,1016,1017,1018,1019,1020,1021,1022,1023,1024,1025,1026,1027,1028,1029,1030,1031,1032,1033,1034,1035,1036,1037,1038,1039,1040,1041,1042,1043,1044,1045,1046,1047,1048,1049,1050,1051,1052,1053,1054,1055,1056,1057,1058,1059,1060,1061,1062,1063,1064,1065,1066,1067,1068,1069,1070,1071,1072,1073,1074,1075,1076,1077,1078,1079,1080,1081,1082,1083,1084,1085,1086,1087,1088,1089,1090,1091,1092,1093,1094,1095,1096,1097,1098,1099,1100,1101,1102,1103,1104,1105,1106,1107,1108,1109,1110,1111,1112,1113,1114,1115,1116,1117,1118,1119,1120,1121,1122,1123,1124,1125,1126,1127,1128,1129,1130,1131,1132,1133,1134,1135,1136,1137,1138,1139,1140,1141,1142,1143,1144,1145,1146,1147,1148,1149,1150,1151,1152,1153,1154,1155,1156,1157,1158,1159,1160,1161,1162,1163,1164,1165,1166,1167,1168,1169,1170,1171,1172,1173,1174,1175,1176,1177,1178,1179,1180,1181,1182,1183,1184,1185,1186,1187,1188,1189,1190,1191,1192,1193,1194,1195,1196,1197,1198,1199,1200,1201,1202,1203,1204,1205,1206,1207,1208,1209,1210,1211,1212,1213,1214,1215,1216,1217,1218],\"y\":[10000.0,10000.0,10000.0,10000.0,10000.0,10000.0,10000.0,10000.0,10000.0,10000.0,10000.0,10000.0,10000.0,10000.0,10000.0,10000.0,10000.0,10000.0,10050.0,10050.0,10050.0,10050.0,10050.0,10050.0,10050.0,10050.0,10050.0,10050.0,10050.0,10050.0,10050.0,10050.0,10050.0,10050.0,10050.0,10050.0,10050.0,10050.0,9400.0,9400.0,9400.0,9400.0,9400.0,9400.0,9400.0,9400.0,9400.0,9400.0,9400.0,9400.0,9400.0,9400.0,9400.0,9450.0,9450.0,9450.0,9450.0,9450.0,9600.0,9600.0,9600.0,9600.0,9600.0,9650.0,9650.0,9700.0,9700.0,9700.0,9750.0,9750.0,9750.0,9750.0,9750.0,9750.0,9750.0,9750.0,9750.0,9750.0,9750.0,9750.0,9750.0,9750.0,9750.0,9750.0,9750.0,9750.0,9750.0,9800.0,9850.0,9850.0,9850.0,9850.0,9850.0,9850.0,9850.0,9850.0,9850.0,9850.0,9850.0,9850.0,9900.0,9912.0,9925.0,9938.0,9950.0,9950.0,9950.0,9950.0,9950.0,9950.0,9950.0,9950.0,9950.0,9900.0,9900.0,9850.0,9850.0,9850.0,9850.0,9900.0,9900.0,9900.0,9900.0,9950.0,9950.0,9950.0,9950.0,9950.0,9950.0,9950.0,9950.0,9950.0,9950.0,9950.0,9950.0,9950.0,9950.0,9950.0,9950.0,9950.0,9950.0,9950.0,9950.0,9950.0,9950.0,9950.0,9950.0,9950.0,9950.0,9950.0,9950.0,9950.0,9950.0,9950.0,9950.0,9950.0,9950.0,9950.0,9950.0,9950.0,9950.0,9950.0,9950.0,9950.0,9950.0,9950.0,9933.0,9917.0,9900.0,9900.0,9900.0,9900.0,9900.0,9950.0,9950.0,9950.0,9950.0,9950.0,9950.0,9950.0,9950.0,9950.0,9950.0,9950.0,9950.0,9950.0,9950.0,9950.0,9950.0,9950.0,9950.0,9950.0,9950.0,9950.0,10000.0,9950.0,9950.0,9950.0,9950.0,9950.0,9950.0,9950.0,9950.0,9950.0,9950.0,9950.0,9950.0,9950.0,9950.0,9950.0,9950.0,9950.0,9950.0,9950.0,9950.0,9950.0,9950.0,9950.0,9950.0,9950.0,9950.0,9950.0,9950.0,9950.0,9950.0,9950.0,9950.0,9800.0,9800.0,9850.0,9850.0,9850.0,9850.0,9850.0,9850.0,9850.0,9850.0,9850.0,9850.0,9850.0,9850.0,9850.0,9850.0,9900.0,9900.0,9900.0,9900.0,9900.0,9900.0,9900.0,9900.0,9900.0,9900.0,9950.0,9950.0,9950.0,9967.0,9983.0,10000.0,10000.0,10000.0,9983.0,9967.0,9950.0,9950.0,9950.0,9950.0,9950.0,9950.0,9950.0,9950.0,9950.0,9950.0,9950.0,9950.0,9950.0,9950.0,9950.0,9950.0,9950.0,9950.0,9950.0,9950.0,9950.0,9950.0,9950.0,9950.0,9950.0,9950.0,9950.0,9950.0,9950.0,9850.0,9750.0,9750.0,9750.0,9750.0,9750.0,9750.0,9750.0,9750.0,9750.0,9750.0,9700.0,9700.0,9700.0,9700.0,9700.0,9700.0,9700.0,9700.0,9700.0,9700.0,9700.0,9700.0,9750.0,9750.0,9750.0,9750.0,9750.0,9750.0,9750.0,9750.0,9750.0,9750.0,9750.0,9750.0,9750.0,9750.0,9750.0,9750.0,9750.0,9750.0,9750.0,9750.0,9750.0,9700.0,9700.0,9700.0,9700.0,9700.0,9750.0,9750.0,9750.0,9750.0,9750.0,9750.0,9600.0,9600.0,9600.0,9600.0,9600.0,9600.0,9600.0,9750.0,9750.0,9750.0,9750.0,9750.0,9600.0,9600.0,9600.0,9600.0,9600.0,9600.0,9600.0,9600.0,9600.0,9600.0,9600.0,9600.0,9600.0,9600.0,9600.0,9600.0,9600.0,9600.0,9600.0,9600.0,9600.0,9600.0,9600.0,9600.0,9600.0,9600.0,9600.0,9600.0,9600.0,9600.0,9600.0,9600.0,9600.0,9600.0,9600.0,9600.0,9600.0,9600.0,9600.0,9600.0,9600.0,9600.0,9600.0,9600.0,9600.0,9600.0,9600.0,9600.0,9600.0,9600.0,9600.0,9600.0,9650.0,9600.0,9600.0,9600.0,9600.0,9600.0,9750.0,9800.0,9800.0,9800.0,9800.0,9800.0,9800.0,9800.0,9800.0,9800.0,9800.0,9800.0,9800.0,9800.0,9800.0,9800.0,9800.0,9800.0,9800.0,9800.0,9800.0,9750.0,9750.0,9700.0,9700.0,9700.0,9750.0,9750.0,9750.0,9750.0,9750.0,9750.0,9750.0,9750.0,9750.0,9700.0,9700.0,9700.0,9700.0,9700.0,9700.0,9700.0,9700.0,9700.0,9700.0,9700.0,9700.0,9700.0,9700.0,9700.0,9700.0,9700.0,9700.0,9700.0,9700.0,9700.0,9700.0,9700.0,9700.0,9700.0,9700.0,9700.0,9700.0,9700.0,9700.0,9700.0,9700.0,9700.0,9700.0,9700.0,9700.0,9750.0,9750.0,9750.0,9750.0,9750.0,9750.0,9750.0,9750.0,9750.0,9750.0,9750.0,9750.0,9750.0,9750.0,9750.0,9750.0,9750.0,9750.0,9750.0,9800.0,9800.0,9800.0,9800.0,9800.0,9800.0,9900.0,9900.0,10000.0,10000.0,10000.0,10000.0,10000.0,10000.0,10000.0,10000.0,10000.0,10000.0,10200.0,10200.0,10300.0,10300.0,10300.0,10300.0,10300.0,10300.0,10300.0,10300.0,10350.0,10350.0,10350.0,10300.0,10300.0,10300.0,10300.0,10300.0,10250.0,10250.0,10250.0,10250.0,10250.0,10400.0,10400.0,10200.0,10200.0,10200.0,10300.0,10300.0,10250.0,10300.0,10300.0,10300.0,10300.0,10300.0,10300.0,10300.0,10300.0,10300.0,10300.0,10275.0,10250.0,10250.0,10250.0,10250.0,10250.0,10250.0,10250.0,10250.0,10250.0,10250.0,10250.0,10250.0,10250.0,10200.0,10200.0,10200.0,10150.0,10150.0,10150.0,10150.0,10150.0,10150.0,10150.0,10150.0,10150.0,10150.0,10150.0,10150.0,10150.0,10150.0,10150.0,10150.0,10150.0,10150.0,10150.0,10150.0,10150.0,10150.0,10150.0,10150.0,10143.0,10136.0,10129.0,10121.0,10114.0,10107.0,10100.0,10100.0,10100.0,10100.0,10100.0,10100.0,10100.0,10100.0,10100.0,10100.0,10100.0,10100.0,10100.0,10100.0,10100.0,10100.0,10100.0,10100.0,10100.0,10100.0,10100.0,10100.0,10000.0,10000.0,10000.0,10000.0,10000.0,10100.0,10100.0,10100.0,10100.0,10100.0,10100.0,10100.0,10150.0,10150.0,10150.0,10150.0,10150.0,10150.0,10150.0,10150.0,10150.0,10150.0,10150.0,10150.0,10150.0,10150.0,10150.0,10150.0,10150.0,10150.0,10200.0,10200.0,10200.0,10300.0,10300.0,10300.0,10300.0,10250.0,10400.0,10400.0,10350.0,10350.0,10500.0,10850.0,10800.0,10900.0,10900.0,10950.0,11050.0,11050.0,11050.0,11050.0,11200.0,11150.0,11150.0,11150.0,11150.0,11150.0,11150.0,11150.0,11150.0,11150.0,11150.0,11200.0,11200.0,11250.0,11250.0,11250.0,11250.0,11250.0,11250.0,11250.0,11200.0,11200.0,11200.0,11050.0,11050.0,11050.0,11100.0,11100.0,11150.0,11150.0,11150.0,11150.0,11150.0,11200.0,11200.0,11175.0,11150.0,11150.0,11150.0,11150.0,11200.0,11150.0,11150.0,11100.0,11100.0,11150.0,11100.0,11100.0,11050.0,11050.0,11000.0,11000.0,11000.0,10850.0,10850.0,10900.0,10900.0,10900.0,10750.0,10750.0,10700.0,10700.0,10700.0,10800.0,10800.0,10700.0,10700.0,10700.0,10600.0,10600.0,10600.0,10600.0,10600.0,10800.0,10600.0,10600.0,10700.0,10700.0,11000.0,11000.0,10900.0,11000.0,11000.0,11150.0,11150.0,11150.0,11200.0,11200.0,11200.0,11200.0,11450.0,11450.0,11400.0,11400.0,11400.0,11400.0,11500.0,11600.0,11600.0,11600.0,11600.0,11650.0,11650.0,11650.0,11650.0,11650.0,11650.0,11650.0,11650.0,11650.0,11650.0,11750.0,11750.0,12100.0,12100.0,12100.0,12100.0,12100.0,12100.0,12100.0,12100.0,12100.0,12100.0,12100.0,12150.0,12150.0,12150.0,12150.0,12150.0,12150.0,12150.0,11950.0,11950.0,11950.0,11950.0,11750.0,11800.0,11800.0,11550.0,11550.0,11650.0,11400.0,11400.0,11350.0,11350.0,11350.0,11350.0,11350.0,11350.0,11350.0,11350.0,11550.0,11550.0,11567.0,11583.0,11600.0,11600.0,11600.0,11600.0,11600.0,11650.0,11650.0,11650.0,11550.0,11550.0,11550.0,11550.0,11550.0,11550.0,11550.0,11550.0,11550.0,11550.0,11550.0,11550.0,11550.0,11550.0,11550.0,11550.0,11550.0,11650.0,11650.0,11650.0,11400.0,11400.0,11400.0,11400.0,11400.0,11400.0,11400.0,11400.0,11400.0,11400.0,11400.0,11400.0,11400.0,11400.0,11400.0,11400.0,11400.0,11400.0,11450.0,11400.0,11400.0,11400.0,11400.0,11300.0,11300.0,11350.0,11350.0,11350.0,11350.0,11350.0,11300.0,11300.0,11250.0,11250.0,11250.0,11450.0,11450.0,11450.0,11450.0,11450.0,11450.0,11450.0,11450.0,11550.0,11550.0,11500.0,11500.0,11500.0,11750.0,11750.0,11800.0,11800.0,11800.0,11800.0,11800.0,11800.0,12000.0,12000.0,12050.0,12050.0,12050.0,12050.0,12150.0,12150.0,12150.0,12200.0,12200.0,12200.0,12250.0,12250.0,12250.0,12350.0,12350.0,12250.0,12450.0,12450.0,12450.0,12450.0,12450.0,12450.0,12450.0,12450.0,12450.0,12450.0,12450.0,12450.0,12450.0,12450.0,12650.0,12650.0,12950.0,12950.0,12950.0,13150.0,13150.0,13200.0,13200.0,13200.0,13350.0,13350.0,13350.0,13350.0,13350.0,13350.0,13350.0,13350.0,13350.0,13350.0,13400.0,13400.0,13350.0,13350.0,13350.0,13400.0,13400.0,13400.0,13400.0,13400.0,13400.0,13400.0,13350.0,13350.0,13350.0,13300.0,13300.0,13300.0,13300.0,13300.0,13250.0,13250.0,13250.0,13250.0,13200.0,13200.0,13200.0,13150.0,13150.0,13150.0,13200.0,13200.0,13200.0,13200.0,13250.0,13250.0,13250.0,13450.0,13450.0,13450.0,13450.0,13450.0,13450.0,13450.0,13450.0,13450.0,13450.0,13450.0,13450.0,13450.0,13450.0,13450.0,13450.0,13450.0,13450.0,13450.0,13450.0,13450.0,13450.0,13450.0,13450.0,13450.0,13450.0,13450.0,13450.0,13450.0,13450.0,13500.0,13500.0,13500.0,13450.0,13450.0,13450.0,13450.0,13450.0,13450.0,13450.0,13450.0,13450.0,13450.0,13500.0,13500.0,13500.0,13500.0,13450.0,13500.0,13500.0,13500.0,13500.0,13500.0,13500.0,13500.0,13500.0,13500.0,13500.0,13450.0,13450.0,13450.0,13450.0,13450.0,13500.0,13500.0,13500.0,13500.0,13450.0,13450.0,13450.0,13450.0,13450.0,13450.0,13400.0,13400.0,13450.0,13450.0,13450.0,13450.0,13450.0,13400.0,13400.0,13400.0,13400.0,13400.0,13400.0,13450.0,13450.0,13450.0,13450.0,13450.0,13400.0,13400.0,13400.0,13400.0,13300.0,13400.0,13400.0,13400.0,13400.0,13400.0,13400.0,13400.0,13400.0,13400.0,13400.0,13400.0,13350.0,13350.0,13350.0,13400.0,13400.0,13350.0,13350.0,13350.0,13350.0,13350.0,13350.0,13350.0,13350.0,13350.0,13350.0,13350.0,13400.0,13400.0,13350.0,13350.0,13350.0,13350.0,13350.0,13350.0,13350.0,13350.0,13350.0,13350.0,13350.0,13350.0,13350.0,13350.0,13350.0,13250.0,13250.0,13200.0,13200.0,13200.0,13250.0,13250.0,13250.0,13250.0,13250.0,13300.0,13300.0,13300.0,13350.0,13350.0,13350.0,13350.0,13350.0,13500.0,13500.0,13500.0,13500.0,13500.0,13500.0,13500.0,13500.0,13500.0,13500.0,13500.0,13500.0,13500.0,13500.0,13500.0,13500.0,13500.0,13500.0,13500.0,13500.0,13500.0,13500.0,13500.0,13500.0,13500.0,13550.0,13550.0,13550.0,13550.0,13550.0,13550.0,13550.0,13550.0,13550.0,13550.0,13550.0,13550.0,13500.0,13500.0,13550.0,13450.0,13450.0,13450.0,13450.0,13450.0],\"type\":\"scatter\"},{\"line\":{\"color\":\"green\",\"width\":2},\"mode\":\"lines\",\"name\":\"Prediksi Polinomial (Degree 2)\",\"x\":[1.0,5.070234113712375,9.14046822742475,13.210702341137125,17.2809364548495,21.351170568561873,25.42140468227425,29.491638795986624,33.561872909699,37.63210702341137,41.702341137123746,45.77257525083612,49.8428093645485,53.913043478260875,57.98327759197325,62.05351170568562,66.123745819398,70.19397993311037,74.26421404682274,78.33444816053512,82.40468227424749,86.47491638795987,90.54515050167224,94.61538461538461,98.685618729097,102.75585284280938,106.82608695652175,110.89632107023412,114.9665551839465,119.03678929765887,123.10702341137124,127.17725752508362,131.247491638796,135.31772575250838,139.38795986622074,143.45819397993313,147.5284280936455,151.59866220735788,155.66889632107024,159.73913043478262,163.80936454849498,167.87959866220737,171.94983277591973,176.02006688963212,180.09030100334448,184.16053511705687,188.23076923076923,192.30100334448161,196.371237458194,200.44147157190636,204.51170568561875,208.5819397993311,212.6521739130435,216.72240802675586,220.79264214046825,224.8628762541806,228.933110367893,233.00334448160535,237.07357859531774,241.1438127090301,245.2140468227425,249.28428093645485,253.35451505016724,257.4247491638796,261.494983277592,265.5652173913044,269.63545150501676,273.7056856187291,277.7759197324415,281.84615384615387,285.91638795986626,289.9866220735786,294.056856187291,298.12709030100336,302.19732441471575,306.2675585284281,310.33779264214047,314.40802675585286,318.47826086956525,322.5484949832776,326.61872909698997,330.68896321070235,334.75919732441474,338.82943143812713,342.89966555183946,346.96989966555185,351.04013377926424,355.1103678929766,359.18060200668896,363.25083612040135,367.32107023411373,371.3913043478261,375.46153846153845,379.53177257525084,383.60200668896323,387.6722408026756,391.742474916388,395.81270903010034,399.8829431438127,403.9531772575251,408.0234113712375,412.09364548494983,416.1638795986622,420.2341137123746,424.304347826087,428.3745819397993,432.4448160535117,436.5150501672241,440.5852842809365,444.6555183946488,448.7257525083612,452.7959866220736,456.866220735786,460.9364548494984,465.0066889632107,469.0769230769231,473.1471571906355,477.21739130434787,481.2876254180602,485.3578595317726,489.428093645485,493.49832775919737,497.5685618729097,501.6387959866221,505.7090301003345,509.77926421404686,513.8494983277592,517.9197324414716,521.989966555184,526.0602006688963,530.1304347826087,534.2006688963211,538.2709030100335,542.3411371237459,546.4113712374582,550.4816053511706,554.551839464883,558.6220735785953,562.6923076923077,566.7625418060201,570.8327759197325,574.9030100334448,578.9732441471572,583.0434782608696,587.113712374582,591.1839464882944,595.2541806020067,599.3244147157191,603.3946488294315,607.4648829431438,611.5351170568562,615.6053511705686,619.6755852842809,623.7458193979934,627.8160535117057,631.886287625418,635.9565217391305,640.0267558528428,644.0969899665552,648.1672240802676,652.2374581939799,656.3076923076924,660.3779264214047,664.448160535117,668.5183946488295,672.5886287625418,676.6588628762543,680.7290969899666,684.7993311036789,688.8695652173914,692.9397993311037,697.010033444816,701.0802675585285,705.1505016722408,709.2207357859533,713.2909698996656,717.3612040133779,721.4314381270904,725.5016722408027,729.5719063545151,733.6421404682275,737.7123745819398,741.7826086956522,745.8528428093646,749.9230769230769,753.9933110367894,758.0635451505017,762.1337792642141,766.2040133779265,770.2742474916388,774.3444816053512,778.4147157190636,782.484949832776,786.5551839464883,790.6254180602007,794.6956521739131,798.7658862876254,802.8361204013378,806.9063545150502,810.9765886287626,815.046822742475,819.1170568561873,823.1872909698997,827.2575250836121,831.3277591973244,835.3979933110368,839.4682274247492,843.5384615384615,847.608695652174,851.6789297658863,855.7491638795987,859.8193979933111,863.8896321070234,867.9598662207359,872.0301003344482,876.1003344481605,880.170568561873,884.2408026755853,888.3110367892976,892.3812709030101,896.4515050167224,900.5217391304349,904.5919732441472,908.6622073578595,912.732441471572,916.8026755852843,920.8729096989968,924.9431438127091,929.0133779264214,933.0836120401339,937.1538461538462,941.2240802675585,945.294314381271,949.3645484949833,953.4347826086957,957.5050167224081,961.5752508361204,965.6454849498328,969.7157190635452,973.7859531772575,977.85618729097,981.9264214046823,985.9966555183947,990.0668896321071,994.1371237458194,998.2073578595318,1002.2775919732442,1006.3478260869566,1010.418060200669,1014.4882943143813,1018.5585284280937,1022.628762541806,1026.6989966555184,1030.7692307692307,1034.8394648829433,1038.9096989966556,1042.979933110368,1047.0501672240803,1051.1204013377926,1055.1906354515052,1059.2608695652175,1063.3311036789298,1067.4013377926422,1071.4715719063545,1075.541806020067,1079.6120401337794,1083.6822742474917,1087.752508361204,1091.8227424749164,1095.8929765886287,1099.9632107023413,1104.0334448160536,1108.103678929766,1112.1739130434783,1116.2441471571906,1120.3143812709031,1124.3846153846155,1128.4548494983278,1132.5250836120401,1136.5953177257525,1140.665551839465,1144.7357859531774,1148.8060200668897,1152.876254180602,1156.9464882943143,1161.016722408027,1165.0869565217392,1169.1571906354516,1173.227424749164,1177.2976588628762,1181.3678929765888,1185.4381270903011,1189.5083612040135,1193.5785953177258,1197.6488294314381,1201.7190635451504,1205.789297658863,1209.8595317725753,1213.9297658862877,1218.0],\"y\":[9945.765794368426,9937.650396911224,9929.688541549715,9921.880228283897,9914.22545711377,9906.724228039335,9899.37654106059,9892.182396177537,9885.141793390176,9878.254732698506,9871.521214102528,9864.94123760224,9858.514803197644,9852.241910888739,9846.122560675525,9840.156752558005,9834.344486536174,9828.685762610035,9823.180580779586,9817.82894104483,9812.630843405766,9807.586287862392,9802.695274414711,9797.95780306272,9793.37387380642,9788.943486645812,9784.666641580896,9780.543338611671,9776.573577738136,9772.757358960294,9769.094682278142,9765.585547691684,9762.229955200915,9759.027904805838,9755.979396506453,9753.084430302759,9750.343006194755,9747.755124182444,9745.320784265823,9743.039986444895,9740.912730719658,9738.939017090112,9737.118845556257,9735.452216118094,9733.939128775623,9732.57958352884,9731.373580377753,9730.321119322354,9729.42220036265,9728.676823498634,9728.08498873031,9727.646696057678,9727.361945480738,9727.230736999487,9727.25307061393,9727.428946324064,9727.758364129888,9728.241324031404,9728.87782602861,9729.66787012151,9730.6114563101,9731.708584594382,9732.959254974356,9734.363467450019,9735.921222021376,9737.632518688422,9739.49735745116,9741.51573830959,9743.687661263712,9746.013126313524,9748.492133459029,9751.124682700223,9753.910774037111,9756.850407469688,9759.943582997957,9763.190300621918,9766.590560341572,9770.144362156914,9773.85170606795,9777.712592074677,9781.727020177093,9785.894990375204,9790.216502669004,9794.691557058495,9799.320153543678,9804.102292124553,9809.03797280112,9814.127195573377,9819.369960441327,9824.766267404966,9830.316116464297,9836.019507619321,9841.876440870035,9847.886916216441,9854.050933658538,9860.368493196325,9866.839594829806,9873.464238558978,9880.24242438384,9887.174152304393,9894.25942232064,9901.498234432576,9908.890588640204,9916.436484943522,9924.135923342534,9931.988903837237,9939.99542642763,9948.155491113715,9956.469097895491,9964.936246772959,9973.556937746118,9982.331170814969,9991.25894597951,10000.340263239743,10009.575122595668,10018.963524047283,10028.505467594592,10038.20095323759,10048.04998097628,10058.052550810662,10068.208662740735,10078.518316766498,10088.981512887955,10099.598251105102,10110.36853141794,10121.29235382647,10132.36971833069,10143.600624930603,10154.985073626207,10166.523064417503,10178.21459730449,10190.059672287167,10202.058289365537,10214.210448539598,10226.51614980935,10238.975393174793,10251.588178635928,10264.354506192754,10277.274375845273,10290.34778759348,10303.574741437382,10316.955237376973,10330.489275412256,10344.176855543232,10358.017977769898,10372.012642092255,10386.160848510302,10400.462597024043,10414.917887633475,10429.526720338597,10444.289095139411,10459.205012035918,10474.274471028115,10489.497472116003,10504.874015299583,10520.404100578853,10536.087727953816,10551.92489742447,10567.915608990816,10584.059862652852,10600.35765841058,10616.808996263999,10633.41387621311,10650.172298257912,10667.084262398406,10684.14976863459,10701.368816966467,10718.741407394034,10736.267539917293,10753.947214536243,10771.780431250885,10789.767190061219,10807.907490967244,10826.201333968958,10844.648719066367,10863.249646259464,10882.004115548254,10900.912126932737,10919.97368041291,10939.188775988772,10958.557413660328,10978.079593427576,10997.755315290515,11017.584579249144,11037.567385303464,11057.703733453476,11077.99362369918,11098.437056040577,11119.034030477662,11139.78454701044,11160.68860563891,11181.74620636307,11202.957349182923,11224.322034098466,11245.8402611097,11267.512030216627,11289.337341419245,11311.316194717554,11333.448590111553,11355.734527601246,11378.17400718663,11400.767028867704,11423.51359264447,11446.413698516926,11469.467346485075,11492.674536548915,11516.035268708447,11539.549542963669,11563.217359314584,11587.038717761188,11611.013618303485,11635.142060941474,11659.424045675152,11683.859572504525,11708.448641429586,11733.19125245034,11758.087405566786,11783.137100778922,11808.34033808675,11833.69711749027,11859.207438989479,11884.871302584383,11910.688708274974,11936.65965606126,11962.784145943237,11989.062177920903,12015.493751994263,12042.078868163313,12068.817526428054,12095.709726788487,12122.755469244612,12149.954753796428,12177.307580443936,12204.813949187133,12232.473860026024,12260.287312960605,12288.254307990877,12316.374845116841,12344.648924338497,12373.076545655844,12401.657709068882,12430.39241457761,12459.280662182033,12488.322451882144,12517.517783677948,12546.866657569444,12576.36907355663,12606.025031639509,12635.834531818076,12665.797574092338,12695.914158462288,12726.184284927933,12756.607953489267,12787.185164146293,12817.915916899012,12848.80021174742,12879.83804869152,12911.029427731311,12942.374348866793,12973.87281209797,13005.524817424835,13037.330364847392,13069.28945436564,13101.40208597958,13133.668259689213,13166.087975494534,13198.661233395549,13231.388033392253,13264.26837548465,13297.302259672737,13330.489685956518,13363.83065433599,13397.32516481115,13430.973217382005,13464.774812048548,13498.729948810787,13532.838627668714,13567.100848622333,13601.516611671643,13636.085916816646,13670.80876405734,13705.685153393724,13740.715084825799,13775.898558353567,13811.235573977025,13846.726131696178,13882.370231511019,13918.167873421551,13954.119057427775,13990.22378352969,14026.482051727298,14062.893862020597,14099.459214409586,14136.178108894266,14173.050545474638,14210.076524150703,14247.25604492246,14284.589107789907,14322.075712753045,14359.715859811873],\"type\":\"scatter\"}],                        {\"template\":{\"data\":{\"histogram2dcontour\":[{\"type\":\"histogram2dcontour\",\"colorbar\":{\"outlinewidth\":0,\"ticks\":\"\"},\"colorscale\":[[0.0,\"#0d0887\"],[0.1111111111111111,\"#46039f\"],[0.2222222222222222,\"#7201a8\"],[0.3333333333333333,\"#9c179e\"],[0.4444444444444444,\"#bd3786\"],[0.5555555555555556,\"#d8576b\"],[0.6666666666666666,\"#ed7953\"],[0.7777777777777778,\"#fb9f3a\"],[0.8888888888888888,\"#fdca26\"],[1.0,\"#f0f921\"]]}],\"choropleth\":[{\"type\":\"choropleth\",\"colorbar\":{\"outlinewidth\":0,\"ticks\":\"\"}}],\"histogram2d\":[{\"type\":\"histogram2d\",\"colorbar\":{\"outlinewidth\":0,\"ticks\":\"\"},\"colorscale\":[[0.0,\"#0d0887\"],[0.1111111111111111,\"#46039f\"],[0.2222222222222222,\"#7201a8\"],[0.3333333333333333,\"#9c179e\"],[0.4444444444444444,\"#bd3786\"],[0.5555555555555556,\"#d8576b\"],[0.6666666666666666,\"#ed7953\"],[0.7777777777777778,\"#fb9f3a\"],[0.8888888888888888,\"#fdca26\"],[1.0,\"#f0f921\"]]}],\"heatmap\":[{\"type\":\"heatmap\",\"colorbar\":{\"outlinewidth\":0,\"ticks\":\"\"},\"colorscale\":[[0.0,\"#0d0887\"],[0.1111111111111111,\"#46039f\"],[0.2222222222222222,\"#7201a8\"],[0.3333333333333333,\"#9c179e\"],[0.4444444444444444,\"#bd3786\"],[0.5555555555555556,\"#d8576b\"],[0.6666666666666666,\"#ed7953\"],[0.7777777777777778,\"#fb9f3a\"],[0.8888888888888888,\"#fdca26\"],[1.0,\"#f0f921\"]]}],\"heatmapgl\":[{\"type\":\"heatmapgl\",\"colorbar\":{\"outlinewidth\":0,\"ticks\":\"\"},\"colorscale\":[[0.0,\"#0d0887\"],[0.1111111111111111,\"#46039f\"],[0.2222222222222222,\"#7201a8\"],[0.3333333333333333,\"#9c179e\"],[0.4444444444444444,\"#bd3786\"],[0.5555555555555556,\"#d8576b\"],[0.6666666666666666,\"#ed7953\"],[0.7777777777777778,\"#fb9f3a\"],[0.8888888888888888,\"#fdca26\"],[1.0,\"#f0f921\"]]}],\"contourcarpet\":[{\"type\":\"contourcarpet\",\"colorbar\":{\"outlinewidth\":0,\"ticks\":\"\"}}],\"contour\":[{\"type\":\"contour\",\"colorbar\":{\"outlinewidth\":0,\"ticks\":\"\"},\"colorscale\":[[0.0,\"#0d0887\"],[0.1111111111111111,\"#46039f\"],[0.2222222222222222,\"#7201a8\"],[0.3333333333333333,\"#9c179e\"],[0.4444444444444444,\"#bd3786\"],[0.5555555555555556,\"#d8576b\"],[0.6666666666666666,\"#ed7953\"],[0.7777777777777778,\"#fb9f3a\"],[0.8888888888888888,\"#fdca26\"],[1.0,\"#f0f921\"]]}],\"surface\":[{\"type\":\"surface\",\"colorbar\":{\"outlinewidth\":0,\"ticks\":\"\"},\"colorscale\":[[0.0,\"#0d0887\"],[0.1111111111111111,\"#46039f\"],[0.2222222222222222,\"#7201a8\"],[0.3333333333333333,\"#9c179e\"],[0.4444444444444444,\"#bd3786\"],[0.5555555555555556,\"#d8576b\"],[0.6666666666666666,\"#ed7953\"],[0.7777777777777778,\"#fb9f3a\"],[0.8888888888888888,\"#fdca26\"],[1.0,\"#f0f921\"]]}],\"mesh3d\":[{\"type\":\"mesh3d\",\"colorbar\":{\"outlinewidth\":0,\"ticks\":\"\"}}],\"scatter\":[{\"fillpattern\":{\"fillmode\":\"overlay\",\"size\":10,\"solidity\":0.2},\"type\":\"scatter\"}],\"parcoords\":[{\"type\":\"parcoords\",\"line\":{\"colorbar\":{\"outlinewidth\":0,\"ticks\":\"\"}}}],\"scatterpolargl\":[{\"type\":\"scatterpolargl\",\"marker\":{\"colorbar\":{\"outlinewidth\":0,\"ticks\":\"\"}}}],\"bar\":[{\"error_x\":{\"color\":\"#2a3f5f\"},\"error_y\":{\"color\":\"#2a3f5f\"},\"marker\":{\"line\":{\"color\":\"#E5ECF6\",\"width\":0.5},\"pattern\":{\"fillmode\":\"overlay\",\"size\":10,\"solidity\":0.2}},\"type\":\"bar\"}],\"scattergeo\":[{\"type\":\"scattergeo\",\"marker\":{\"colorbar\":{\"outlinewidth\":0,\"ticks\":\"\"}}}],\"scatterpolar\":[{\"type\":\"scatterpolar\",\"marker\":{\"colorbar\":{\"outlinewidth\":0,\"ticks\":\"\"}}}],\"histogram\":[{\"marker\":{\"pattern\":{\"fillmode\":\"overlay\",\"size\":10,\"solidity\":0.2}},\"type\":\"histogram\"}],\"scattergl\":[{\"type\":\"scattergl\",\"marker\":{\"colorbar\":{\"outlinewidth\":0,\"ticks\":\"\"}}}],\"scatter3d\":[{\"type\":\"scatter3d\",\"line\":{\"colorbar\":{\"outlinewidth\":0,\"ticks\":\"\"}},\"marker\":{\"colorbar\":{\"outlinewidth\":0,\"ticks\":\"\"}}}],\"scattermapbox\":[{\"type\":\"scattermapbox\",\"marker\":{\"colorbar\":{\"outlinewidth\":0,\"ticks\":\"\"}}}],\"scatterternary\":[{\"type\":\"scatterternary\",\"marker\":{\"colorbar\":{\"outlinewidth\":0,\"ticks\":\"\"}}}],\"scattercarpet\":[{\"type\":\"scattercarpet\",\"marker\":{\"colorbar\":{\"outlinewidth\":0,\"ticks\":\"\"}}}],\"carpet\":[{\"aaxis\":{\"endlinecolor\":\"#2a3f5f\",\"gridcolor\":\"white\",\"linecolor\":\"white\",\"minorgridcolor\":\"white\",\"startlinecolor\":\"#2a3f5f\"},\"baxis\":{\"endlinecolor\":\"#2a3f5f\",\"gridcolor\":\"white\",\"linecolor\":\"white\",\"minorgridcolor\":\"white\",\"startlinecolor\":\"#2a3f5f\"},\"type\":\"carpet\"}],\"table\":[{\"cells\":{\"fill\":{\"color\":\"#EBF0F8\"},\"line\":{\"color\":\"white\"}},\"header\":{\"fill\":{\"color\":\"#C8D4E3\"},\"line\":{\"color\":\"white\"}},\"type\":\"table\"}],\"barpolar\":[{\"marker\":{\"line\":{\"color\":\"#E5ECF6\",\"width\":0.5},\"pattern\":{\"fillmode\":\"overlay\",\"size\":10,\"solidity\":0.2}},\"type\":\"barpolar\"}],\"pie\":[{\"automargin\":true,\"type\":\"pie\"}]},\"layout\":{\"autotypenumbers\":\"strict\",\"colorway\":[\"#636efa\",\"#EF553B\",\"#00cc96\",\"#ab63fa\",\"#FFA15A\",\"#19d3f3\",\"#FF6692\",\"#B6E880\",\"#FF97FF\",\"#FECB52\"],\"font\":{\"color\":\"#2a3f5f\"},\"hovermode\":\"closest\",\"hoverlabel\":{\"align\":\"left\"},\"paper_bgcolor\":\"white\",\"plot_bgcolor\":\"#E5ECF6\",\"polar\":{\"bgcolor\":\"#E5ECF6\",\"angularaxis\":{\"gridcolor\":\"white\",\"linecolor\":\"white\",\"ticks\":\"\"},\"radialaxis\":{\"gridcolor\":\"white\",\"linecolor\":\"white\",\"ticks\":\"\"}},\"ternary\":{\"bgcolor\":\"#E5ECF6\",\"aaxis\":{\"gridcolor\":\"white\",\"linecolor\":\"white\",\"ticks\":\"\"},\"baxis\":{\"gridcolor\":\"white\",\"linecolor\":\"white\",\"ticks\":\"\"},\"caxis\":{\"gridcolor\":\"white\",\"linecolor\":\"white\",\"ticks\":\"\"}},\"coloraxis\":{\"colorbar\":{\"outlinewidth\":0,\"ticks\":\"\"}},\"colorscale\":{\"sequential\":[[0.0,\"#0d0887\"],[0.1111111111111111,\"#46039f\"],[0.2222222222222222,\"#7201a8\"],[0.3333333333333333,\"#9c179e\"],[0.4444444444444444,\"#bd3786\"],[0.5555555555555556,\"#d8576b\"],[0.6666666666666666,\"#ed7953\"],[0.7777777777777778,\"#fb9f3a\"],[0.8888888888888888,\"#fdca26\"],[1.0,\"#f0f921\"]],\"sequentialminus\":[[0.0,\"#0d0887\"],[0.1111111111111111,\"#46039f\"],[0.2222222222222222,\"#7201a8\"],[0.3333333333333333,\"#9c179e\"],[0.4444444444444444,\"#bd3786\"],[0.5555555555555556,\"#d8576b\"],[0.6666666666666666,\"#ed7953\"],[0.7777777777777778,\"#fb9f3a\"],[0.8888888888888888,\"#fdca26\"],[1.0,\"#f0f921\"]],\"diverging\":[[0,\"#8e0152\"],[0.1,\"#c51b7d\"],[0.2,\"#de77ae\"],[0.3,\"#f1b6da\"],[0.4,\"#fde0ef\"],[0.5,\"#f7f7f7\"],[0.6,\"#e6f5d0\"],[0.7,\"#b8e186\"],[0.8,\"#7fbc41\"],[0.9,\"#4d9221\"],[1,\"#276419\"]]},\"xaxis\":{\"gridcolor\":\"white\",\"linecolor\":\"white\",\"ticks\":\"\",\"title\":{\"standoff\":15},\"zerolinecolor\":\"white\",\"automargin\":true,\"zerolinewidth\":2},\"yaxis\":{\"gridcolor\":\"white\",\"linecolor\":\"white\",\"ticks\":\"\",\"title\":{\"standoff\":15},\"zerolinecolor\":\"white\",\"automargin\":true,\"zerolinewidth\":2},\"scene\":{\"xaxis\":{\"backgroundcolor\":\"#E5ECF6\",\"gridcolor\":\"white\",\"linecolor\":\"white\",\"showbackground\":true,\"ticks\":\"\",\"zerolinecolor\":\"white\",\"gridwidth\":2},\"yaxis\":{\"backgroundcolor\":\"#E5ECF6\",\"gridcolor\":\"white\",\"linecolor\":\"white\",\"showbackground\":true,\"ticks\":\"\",\"zerolinecolor\":\"white\",\"gridwidth\":2},\"zaxis\":{\"backgroundcolor\":\"#E5ECF6\",\"gridcolor\":\"white\",\"linecolor\":\"white\",\"showbackground\":true,\"ticks\":\"\",\"zerolinecolor\":\"white\",\"gridwidth\":2}},\"shapedefaults\":{\"line\":{\"color\":\"#2a3f5f\"}},\"annotationdefaults\":{\"arrowcolor\":\"#2a3f5f\",\"arrowhead\":0,\"arrowwidth\":1},\"geo\":{\"bgcolor\":\"white\",\"landcolor\":\"#E5ECF6\",\"subunitcolor\":\"white\",\"showland\":true,\"showlakes\":true,\"lakecolor\":\"white\"},\"title\":{\"x\":0.05},\"mapbox\":{\"style\":\"light\"}}},\"title\":{\"text\":\"Prediksi Harga Beras dengan Regresi Polinomial Degree 2\",\"x\":0.5},\"xaxis\":{\"title\":{\"text\":\"Independent Variabel\"},\"tickangle\":-45,\"showgrid\":true,\"gridcolor\":\"lightgrey\"},\"yaxis\":{\"title\":{\"text\":\"Harga Beras\"},\"tickformat\":\"d\",\"showgrid\":true,\"gridcolor\":\"lightgrey\"},\"font\":{\"family\":\"Arial, sans-serif\",\"size\":12},\"legend\":{\"x\":0.5,\"y\":1.1,\"xanchor\":\"center\",\"yanchor\":\"top\",\"orientation\":\"h\"},\"width\":1000,\"height\":600,\"plot_bgcolor\":\"white\",\"shapes\":[{\"line\":{\"color\":\"black\",\"width\":1},\"type\":\"rect\",\"x0\":0,\"x1\":1,\"xref\":\"paper\",\"y0\":0,\"y1\":1,\"yref\":\"paper\"}]},                        {\"responsive\": true}                    ).then(function(){\n",
              "                            \n",
              "var gd = document.getElementById('c08d98a2-3dff-4e16-bcc1-48b5160245ba');\n",
              "var x = new MutationObserver(function (mutations, observer) {{\n",
              "        var display = window.getComputedStyle(gd).display;\n",
              "        if (!display || display === 'none') {{\n",
              "            console.log([gd, 'removed!']);\n",
              "            Plotly.purge(gd);\n",
              "            observer.disconnect();\n",
              "        }}\n",
              "}});\n",
              "\n",
              "// Listen for the removal of the full notebook cells\n",
              "var notebookContainer = gd.closest('#notebook-container');\n",
              "if (notebookContainer) {{\n",
              "    x.observe(notebookContainer, {childList: true});\n",
              "}}\n",
              "\n",
              "// Listen for the clearing of the current output cell\n",
              "var outputEl = gd.closest('.output');\n",
              "if (outputEl) {{\n",
              "    x.observe(outputEl, {childList: true});\n",
              "}}\n",
              "\n",
              "                        })                };                            </script>        </div>\n",
              "</body>\n",
              "</html>"
            ]
          },
          "metadata": {}
        }
      ]
    },
    {
      "cell_type": "code",
      "source": [
        "X_smooth = np.linspace(X.min(), X.max(), 300).reshape(-1, 1)\n",
        "poly_3 = PolynomialFeatures(degree=3)\n",
        "X_smooth_poly_3 = poly_3.fit_transform(X_smooth)\n",
        "Y_pred_poly_3_smooth = poly_3_model.predict(X_smooth_poly_3)\n",
        "\n",
        "fig = go.Figure()\n",
        "\n",
        "fig.add_trace(go.Scatter(\n",
        "    x=X.flatten(),\n",
        "    y=Y,\n",
        "    mode='markers',\n",
        "    marker=dict(color='blue', size=6, opacity=0.6),\n",
        "    name='Data Asli'\n",
        "))\n",
        "\n",
        "fig.add_trace(go.Scatter(\n",
        "    x=X_smooth.flatten(),\n",
        "    y=Y_pred_poly_3_smooth,\n",
        "    mode='lines',\n",
        "    line=dict(color='green', width=2),\n",
        "    name='Prediksi Polinomial (Degree 3)'\n",
        "))\n",
        "\n",
        "fig.update_layout(\n",
        "    title=dict(text=\"Prediksi Harga Beras dengan Regresi Polinomial Degree 3\", x=0.5),\n",
        "    xaxis=dict(title=\"Independent Variabel\", tickangle=-45, showgrid=True, gridcolor='lightgrey'),\n",
        "    yaxis=dict(title=\"Harga Beras\", tickformat='d', showgrid=True, gridcolor='lightgrey'),\n",
        "    width=1000,\n",
        "    height=600,\n",
        "    plot_bgcolor='white',\n",
        "    font=dict(family=\"Arial, sans-serif\", size=12),\n",
        "    shapes=[dict(\n",
        "        type=\"rect\", x0=0, y0=0, x1=1, y1=1, xref=\"paper\", yref=\"paper\",\n",
        "        line=dict(color=\"black\", width=1)\n",
        "    )],\n",
        "    legend=dict(\n",
        "        x=0.5, y=1.1, xanchor=\"center\", yanchor=\"top\", orientation=\"h\"\n",
        "    )\n",
        ")\n",
        "fig.show()\n"
      ],
      "metadata": {
        "colab": {
          "base_uri": "https://localhost:8080/",
          "height": 617
        },
        "id": "S6hW8_G-OeuG",
        "outputId": "6079be16-e3a9-4b0e-d7cf-09e84beaa2f1"
      },
      "execution_count": 22,
      "outputs": [
        {
          "output_type": "display_data",
          "data": {
            "text/html": [
              "<html>\n",
              "<head><meta charset=\"utf-8\" /></head>\n",
              "<body>\n",
              "    <div>            <script src=\"https://cdnjs.cloudflare.com/ajax/libs/mathjax/2.7.5/MathJax.js?config=TeX-AMS-MML_SVG\"></script><script type=\"text/javascript\">if (window.MathJax && window.MathJax.Hub && window.MathJax.Hub.Config) {window.MathJax.Hub.Config({SVG: {font: \"STIX-Web\"}});}</script>                <script type=\"text/javascript\">window.PlotlyConfig = {MathJaxConfig: 'local'};</script>\n",
              "        <script charset=\"utf-8\" src=\"https://cdn.plot.ly/plotly-2.35.2.min.js\"></script>                <div id=\"3e6270d1-0099-46dd-bc10-5858992d1b72\" class=\"plotly-graph-div\" style=\"height:600px; width:1000px;\"></div>            <script type=\"text/javascript\">                                    window.PLOTLYENV=window.PLOTLYENV || {};                                    if (document.getElementById(\"3e6270d1-0099-46dd-bc10-5858992d1b72\")) {                    Plotly.newPlot(                        \"3e6270d1-0099-46dd-bc10-5858992d1b72\",                        [{\"marker\":{\"color\":\"blue\",\"opacity\":0.6,\"size\":6},\"mode\":\"markers\",\"name\":\"Data Asli\",\"x\":[1,2,3,4,5,6,7,8,9,10,11,12,13,14,15,16,17,18,19,20,21,22,23,24,25,26,27,28,29,30,31,32,33,34,35,36,37,38,39,40,41,42,43,44,45,46,47,48,49,50,51,52,53,54,55,56,57,58,59,60,61,62,63,64,65,66,67,68,69,70,71,72,73,74,75,76,77,78,79,80,81,82,83,84,85,86,87,88,89,90,91,92,93,94,95,96,97,98,99,100,101,102,103,104,105,106,107,108,109,110,111,112,113,114,115,116,117,118,119,120,121,122,123,124,125,126,127,128,129,130,131,132,133,134,135,136,137,138,139,140,141,142,143,144,145,146,147,148,149,150,151,152,153,154,155,156,157,158,159,160,161,162,163,164,165,166,167,168,169,170,171,172,173,174,175,176,177,178,179,180,181,182,183,184,185,186,187,188,189,190,191,192,193,194,195,196,197,198,199,200,201,202,203,204,205,206,207,208,209,210,211,212,213,214,215,216,217,218,219,220,221,222,223,224,225,226,227,228,229,230,231,232,233,234,235,236,237,238,239,240,241,242,243,244,245,246,247,248,249,250,251,252,253,254,255,256,257,258,259,260,261,262,263,264,265,266,267,268,269,270,271,272,273,274,275,276,277,278,279,280,281,282,283,284,285,286,287,288,289,290,291,292,293,294,295,296,297,298,299,300,301,302,303,304,305,306,307,308,309,310,311,312,313,314,315,316,317,318,319,320,321,322,323,324,325,326,327,328,329,330,331,332,333,334,335,336,337,338,339,340,341,342,343,344,345,346,347,348,349,350,351,352,353,354,355,356,357,358,359,360,361,362,363,364,365,366,367,368,369,370,371,372,373,374,375,376,377,378,379,380,381,382,383,384,385,386,387,388,389,390,391,392,393,394,395,396,397,398,399,400,401,402,403,404,405,406,407,408,409,410,411,412,413,414,415,416,417,418,419,420,421,422,423,424,425,426,427,428,429,430,431,432,433,434,435,436,437,438,439,440,441,442,443,444,445,446,447,448,449,450,451,452,453,454,455,456,457,458,459,460,461,462,463,464,465,466,467,468,469,470,471,472,473,474,475,476,477,478,479,480,481,482,483,484,485,486,487,488,489,490,491,492,493,494,495,496,497,498,499,500,501,502,503,504,505,506,507,508,509,510,511,512,513,514,515,516,517,518,519,520,521,522,523,524,525,526,527,528,529,530,531,532,533,534,535,536,537,538,539,540,541,542,543,544,545,546,547,548,549,550,551,552,553,554,555,556,557,558,559,560,561,562,563,564,565,566,567,568,569,570,571,572,573,574,575,576,577,578,579,580,581,582,583,584,585,586,587,588,589,590,591,592,593,594,595,596,597,598,599,600,601,602,603,604,605,606,607,608,609,610,611,612,613,614,615,616,617,618,619,620,621,622,623,624,625,626,627,628,629,630,631,632,633,634,635,636,637,638,639,640,641,642,643,644,645,646,647,648,649,650,651,652,653,654,655,656,657,658,659,660,661,662,663,664,665,666,667,668,669,670,671,672,673,674,675,676,677,678,679,680,681,682,683,684,685,686,687,688,689,690,691,692,693,694,695,696,697,698,699,700,701,702,703,704,705,706,707,708,709,710,711,712,713,714,715,716,717,718,719,720,721,722,723,724,725,726,727,728,729,730,731,732,733,734,735,736,737,738,739,740,741,742,743,744,745,746,747,748,749,750,751,752,753,754,755,756,757,758,759,760,761,762,763,764,765,766,767,768,769,770,771,772,773,774,775,776,777,778,779,780,781,782,783,784,785,786,787,788,789,790,791,792,793,794,795,796,797,798,799,800,801,802,803,804,805,806,807,808,809,810,811,812,813,814,815,816,817,818,819,820,821,822,823,824,825,826,827,828,829,830,831,832,833,834,835,836,837,838,839,840,841,842,843,844,845,846,847,848,849,850,851,852,853,854,855,856,857,858,859,860,861,862,863,864,865,866,867,868,869,870,871,872,873,874,875,876,877,878,879,880,881,882,883,884,885,886,887,888,889,890,891,892,893,894,895,896,897,898,899,900,901,902,903,904,905,906,907,908,909,910,911,912,913,914,915,916,917,918,919,920,921,922,923,924,925,926,927,928,929,930,931,932,933,934,935,936,937,938,939,940,941,942,943,944,945,946,947,948,949,950,951,952,953,954,955,956,957,958,959,960,961,962,963,964,965,966,967,968,969,970,971,972,973,974,975,976,977,978,979,980,981,982,983,984,985,986,987,988,989,990,991,992,993,994,995,996,997,998,999,1000,1001,1002,1003,1004,1005,1006,1007,1008,1009,1010,1011,1012,1013,1014,1015,1016,1017,1018,1019,1020,1021,1022,1023,1024,1025,1026,1027,1028,1029,1030,1031,1032,1033,1034,1035,1036,1037,1038,1039,1040,1041,1042,1043,1044,1045,1046,1047,1048,1049,1050,1051,1052,1053,1054,1055,1056,1057,1058,1059,1060,1061,1062,1063,1064,1065,1066,1067,1068,1069,1070,1071,1072,1073,1074,1075,1076,1077,1078,1079,1080,1081,1082,1083,1084,1085,1086,1087,1088,1089,1090,1091,1092,1093,1094,1095,1096,1097,1098,1099,1100,1101,1102,1103,1104,1105,1106,1107,1108,1109,1110,1111,1112,1113,1114,1115,1116,1117,1118,1119,1120,1121,1122,1123,1124,1125,1126,1127,1128,1129,1130,1131,1132,1133,1134,1135,1136,1137,1138,1139,1140,1141,1142,1143,1144,1145,1146,1147,1148,1149,1150,1151,1152,1153,1154,1155,1156,1157,1158,1159,1160,1161,1162,1163,1164,1165,1166,1167,1168,1169,1170,1171,1172,1173,1174,1175,1176,1177,1178,1179,1180,1181,1182,1183,1184,1185,1186,1187,1188,1189,1190,1191,1192,1193,1194,1195,1196,1197,1198,1199,1200,1201,1202,1203,1204,1205,1206,1207,1208,1209,1210,1211,1212,1213,1214,1215,1216,1217,1218],\"y\":[10000.0,10000.0,10000.0,10000.0,10000.0,10000.0,10000.0,10000.0,10000.0,10000.0,10000.0,10000.0,10000.0,10000.0,10000.0,10000.0,10000.0,10000.0,10050.0,10050.0,10050.0,10050.0,10050.0,10050.0,10050.0,10050.0,10050.0,10050.0,10050.0,10050.0,10050.0,10050.0,10050.0,10050.0,10050.0,10050.0,10050.0,10050.0,9400.0,9400.0,9400.0,9400.0,9400.0,9400.0,9400.0,9400.0,9400.0,9400.0,9400.0,9400.0,9400.0,9400.0,9400.0,9450.0,9450.0,9450.0,9450.0,9450.0,9600.0,9600.0,9600.0,9600.0,9600.0,9650.0,9650.0,9700.0,9700.0,9700.0,9750.0,9750.0,9750.0,9750.0,9750.0,9750.0,9750.0,9750.0,9750.0,9750.0,9750.0,9750.0,9750.0,9750.0,9750.0,9750.0,9750.0,9750.0,9750.0,9800.0,9850.0,9850.0,9850.0,9850.0,9850.0,9850.0,9850.0,9850.0,9850.0,9850.0,9850.0,9850.0,9900.0,9912.0,9925.0,9938.0,9950.0,9950.0,9950.0,9950.0,9950.0,9950.0,9950.0,9950.0,9950.0,9900.0,9900.0,9850.0,9850.0,9850.0,9850.0,9900.0,9900.0,9900.0,9900.0,9950.0,9950.0,9950.0,9950.0,9950.0,9950.0,9950.0,9950.0,9950.0,9950.0,9950.0,9950.0,9950.0,9950.0,9950.0,9950.0,9950.0,9950.0,9950.0,9950.0,9950.0,9950.0,9950.0,9950.0,9950.0,9950.0,9950.0,9950.0,9950.0,9950.0,9950.0,9950.0,9950.0,9950.0,9950.0,9950.0,9950.0,9950.0,9950.0,9950.0,9950.0,9950.0,9950.0,9933.0,9917.0,9900.0,9900.0,9900.0,9900.0,9900.0,9950.0,9950.0,9950.0,9950.0,9950.0,9950.0,9950.0,9950.0,9950.0,9950.0,9950.0,9950.0,9950.0,9950.0,9950.0,9950.0,9950.0,9950.0,9950.0,9950.0,9950.0,10000.0,9950.0,9950.0,9950.0,9950.0,9950.0,9950.0,9950.0,9950.0,9950.0,9950.0,9950.0,9950.0,9950.0,9950.0,9950.0,9950.0,9950.0,9950.0,9950.0,9950.0,9950.0,9950.0,9950.0,9950.0,9950.0,9950.0,9950.0,9950.0,9950.0,9950.0,9950.0,9950.0,9800.0,9800.0,9850.0,9850.0,9850.0,9850.0,9850.0,9850.0,9850.0,9850.0,9850.0,9850.0,9850.0,9850.0,9850.0,9850.0,9900.0,9900.0,9900.0,9900.0,9900.0,9900.0,9900.0,9900.0,9900.0,9900.0,9950.0,9950.0,9950.0,9967.0,9983.0,10000.0,10000.0,10000.0,9983.0,9967.0,9950.0,9950.0,9950.0,9950.0,9950.0,9950.0,9950.0,9950.0,9950.0,9950.0,9950.0,9950.0,9950.0,9950.0,9950.0,9950.0,9950.0,9950.0,9950.0,9950.0,9950.0,9950.0,9950.0,9950.0,9950.0,9950.0,9950.0,9950.0,9950.0,9850.0,9750.0,9750.0,9750.0,9750.0,9750.0,9750.0,9750.0,9750.0,9750.0,9750.0,9700.0,9700.0,9700.0,9700.0,9700.0,9700.0,9700.0,9700.0,9700.0,9700.0,9700.0,9700.0,9750.0,9750.0,9750.0,9750.0,9750.0,9750.0,9750.0,9750.0,9750.0,9750.0,9750.0,9750.0,9750.0,9750.0,9750.0,9750.0,9750.0,9750.0,9750.0,9750.0,9750.0,9700.0,9700.0,9700.0,9700.0,9700.0,9750.0,9750.0,9750.0,9750.0,9750.0,9750.0,9600.0,9600.0,9600.0,9600.0,9600.0,9600.0,9600.0,9750.0,9750.0,9750.0,9750.0,9750.0,9600.0,9600.0,9600.0,9600.0,9600.0,9600.0,9600.0,9600.0,9600.0,9600.0,9600.0,9600.0,9600.0,9600.0,9600.0,9600.0,9600.0,9600.0,9600.0,9600.0,9600.0,9600.0,9600.0,9600.0,9600.0,9600.0,9600.0,9600.0,9600.0,9600.0,9600.0,9600.0,9600.0,9600.0,9600.0,9600.0,9600.0,9600.0,9600.0,9600.0,9600.0,9600.0,9600.0,9600.0,9600.0,9600.0,9600.0,9600.0,9600.0,9600.0,9600.0,9600.0,9650.0,9600.0,9600.0,9600.0,9600.0,9600.0,9750.0,9800.0,9800.0,9800.0,9800.0,9800.0,9800.0,9800.0,9800.0,9800.0,9800.0,9800.0,9800.0,9800.0,9800.0,9800.0,9800.0,9800.0,9800.0,9800.0,9800.0,9750.0,9750.0,9700.0,9700.0,9700.0,9750.0,9750.0,9750.0,9750.0,9750.0,9750.0,9750.0,9750.0,9750.0,9700.0,9700.0,9700.0,9700.0,9700.0,9700.0,9700.0,9700.0,9700.0,9700.0,9700.0,9700.0,9700.0,9700.0,9700.0,9700.0,9700.0,9700.0,9700.0,9700.0,9700.0,9700.0,9700.0,9700.0,9700.0,9700.0,9700.0,9700.0,9700.0,9700.0,9700.0,9700.0,9700.0,9700.0,9700.0,9700.0,9750.0,9750.0,9750.0,9750.0,9750.0,9750.0,9750.0,9750.0,9750.0,9750.0,9750.0,9750.0,9750.0,9750.0,9750.0,9750.0,9750.0,9750.0,9750.0,9800.0,9800.0,9800.0,9800.0,9800.0,9800.0,9900.0,9900.0,10000.0,10000.0,10000.0,10000.0,10000.0,10000.0,10000.0,10000.0,10000.0,10000.0,10200.0,10200.0,10300.0,10300.0,10300.0,10300.0,10300.0,10300.0,10300.0,10300.0,10350.0,10350.0,10350.0,10300.0,10300.0,10300.0,10300.0,10300.0,10250.0,10250.0,10250.0,10250.0,10250.0,10400.0,10400.0,10200.0,10200.0,10200.0,10300.0,10300.0,10250.0,10300.0,10300.0,10300.0,10300.0,10300.0,10300.0,10300.0,10300.0,10300.0,10300.0,10275.0,10250.0,10250.0,10250.0,10250.0,10250.0,10250.0,10250.0,10250.0,10250.0,10250.0,10250.0,10250.0,10250.0,10200.0,10200.0,10200.0,10150.0,10150.0,10150.0,10150.0,10150.0,10150.0,10150.0,10150.0,10150.0,10150.0,10150.0,10150.0,10150.0,10150.0,10150.0,10150.0,10150.0,10150.0,10150.0,10150.0,10150.0,10150.0,10150.0,10150.0,10143.0,10136.0,10129.0,10121.0,10114.0,10107.0,10100.0,10100.0,10100.0,10100.0,10100.0,10100.0,10100.0,10100.0,10100.0,10100.0,10100.0,10100.0,10100.0,10100.0,10100.0,10100.0,10100.0,10100.0,10100.0,10100.0,10100.0,10100.0,10000.0,10000.0,10000.0,10000.0,10000.0,10100.0,10100.0,10100.0,10100.0,10100.0,10100.0,10100.0,10150.0,10150.0,10150.0,10150.0,10150.0,10150.0,10150.0,10150.0,10150.0,10150.0,10150.0,10150.0,10150.0,10150.0,10150.0,10150.0,10150.0,10150.0,10200.0,10200.0,10200.0,10300.0,10300.0,10300.0,10300.0,10250.0,10400.0,10400.0,10350.0,10350.0,10500.0,10850.0,10800.0,10900.0,10900.0,10950.0,11050.0,11050.0,11050.0,11050.0,11200.0,11150.0,11150.0,11150.0,11150.0,11150.0,11150.0,11150.0,11150.0,11150.0,11150.0,11200.0,11200.0,11250.0,11250.0,11250.0,11250.0,11250.0,11250.0,11250.0,11200.0,11200.0,11200.0,11050.0,11050.0,11050.0,11100.0,11100.0,11150.0,11150.0,11150.0,11150.0,11150.0,11200.0,11200.0,11175.0,11150.0,11150.0,11150.0,11150.0,11200.0,11150.0,11150.0,11100.0,11100.0,11150.0,11100.0,11100.0,11050.0,11050.0,11000.0,11000.0,11000.0,10850.0,10850.0,10900.0,10900.0,10900.0,10750.0,10750.0,10700.0,10700.0,10700.0,10800.0,10800.0,10700.0,10700.0,10700.0,10600.0,10600.0,10600.0,10600.0,10600.0,10800.0,10600.0,10600.0,10700.0,10700.0,11000.0,11000.0,10900.0,11000.0,11000.0,11150.0,11150.0,11150.0,11200.0,11200.0,11200.0,11200.0,11450.0,11450.0,11400.0,11400.0,11400.0,11400.0,11500.0,11600.0,11600.0,11600.0,11600.0,11650.0,11650.0,11650.0,11650.0,11650.0,11650.0,11650.0,11650.0,11650.0,11650.0,11750.0,11750.0,12100.0,12100.0,12100.0,12100.0,12100.0,12100.0,12100.0,12100.0,12100.0,12100.0,12100.0,12150.0,12150.0,12150.0,12150.0,12150.0,12150.0,12150.0,11950.0,11950.0,11950.0,11950.0,11750.0,11800.0,11800.0,11550.0,11550.0,11650.0,11400.0,11400.0,11350.0,11350.0,11350.0,11350.0,11350.0,11350.0,11350.0,11350.0,11550.0,11550.0,11567.0,11583.0,11600.0,11600.0,11600.0,11600.0,11600.0,11650.0,11650.0,11650.0,11550.0,11550.0,11550.0,11550.0,11550.0,11550.0,11550.0,11550.0,11550.0,11550.0,11550.0,11550.0,11550.0,11550.0,11550.0,11550.0,11550.0,11650.0,11650.0,11650.0,11400.0,11400.0,11400.0,11400.0,11400.0,11400.0,11400.0,11400.0,11400.0,11400.0,11400.0,11400.0,11400.0,11400.0,11400.0,11400.0,11400.0,11400.0,11450.0,11400.0,11400.0,11400.0,11400.0,11300.0,11300.0,11350.0,11350.0,11350.0,11350.0,11350.0,11300.0,11300.0,11250.0,11250.0,11250.0,11450.0,11450.0,11450.0,11450.0,11450.0,11450.0,11450.0,11450.0,11550.0,11550.0,11500.0,11500.0,11500.0,11750.0,11750.0,11800.0,11800.0,11800.0,11800.0,11800.0,11800.0,12000.0,12000.0,12050.0,12050.0,12050.0,12050.0,12150.0,12150.0,12150.0,12200.0,12200.0,12200.0,12250.0,12250.0,12250.0,12350.0,12350.0,12250.0,12450.0,12450.0,12450.0,12450.0,12450.0,12450.0,12450.0,12450.0,12450.0,12450.0,12450.0,12450.0,12450.0,12450.0,12650.0,12650.0,12950.0,12950.0,12950.0,13150.0,13150.0,13200.0,13200.0,13200.0,13350.0,13350.0,13350.0,13350.0,13350.0,13350.0,13350.0,13350.0,13350.0,13350.0,13400.0,13400.0,13350.0,13350.0,13350.0,13400.0,13400.0,13400.0,13400.0,13400.0,13400.0,13400.0,13350.0,13350.0,13350.0,13300.0,13300.0,13300.0,13300.0,13300.0,13250.0,13250.0,13250.0,13250.0,13200.0,13200.0,13200.0,13150.0,13150.0,13150.0,13200.0,13200.0,13200.0,13200.0,13250.0,13250.0,13250.0,13450.0,13450.0,13450.0,13450.0,13450.0,13450.0,13450.0,13450.0,13450.0,13450.0,13450.0,13450.0,13450.0,13450.0,13450.0,13450.0,13450.0,13450.0,13450.0,13450.0,13450.0,13450.0,13450.0,13450.0,13450.0,13450.0,13450.0,13450.0,13450.0,13450.0,13500.0,13500.0,13500.0,13450.0,13450.0,13450.0,13450.0,13450.0,13450.0,13450.0,13450.0,13450.0,13450.0,13500.0,13500.0,13500.0,13500.0,13450.0,13500.0,13500.0,13500.0,13500.0,13500.0,13500.0,13500.0,13500.0,13500.0,13500.0,13450.0,13450.0,13450.0,13450.0,13450.0,13500.0,13500.0,13500.0,13500.0,13450.0,13450.0,13450.0,13450.0,13450.0,13450.0,13400.0,13400.0,13450.0,13450.0,13450.0,13450.0,13450.0,13400.0,13400.0,13400.0,13400.0,13400.0,13400.0,13450.0,13450.0,13450.0,13450.0,13450.0,13400.0,13400.0,13400.0,13400.0,13300.0,13400.0,13400.0,13400.0,13400.0,13400.0,13400.0,13400.0,13400.0,13400.0,13400.0,13400.0,13350.0,13350.0,13350.0,13400.0,13400.0,13350.0,13350.0,13350.0,13350.0,13350.0,13350.0,13350.0,13350.0,13350.0,13350.0,13350.0,13400.0,13400.0,13350.0,13350.0,13350.0,13350.0,13350.0,13350.0,13350.0,13350.0,13350.0,13350.0,13350.0,13350.0,13350.0,13350.0,13350.0,13250.0,13250.0,13200.0,13200.0,13200.0,13250.0,13250.0,13250.0,13250.0,13250.0,13300.0,13300.0,13300.0,13350.0,13350.0,13350.0,13350.0,13350.0,13500.0,13500.0,13500.0,13500.0,13500.0,13500.0,13500.0,13500.0,13500.0,13500.0,13500.0,13500.0,13500.0,13500.0,13500.0,13500.0,13500.0,13500.0,13500.0,13500.0,13500.0,13500.0,13500.0,13500.0,13500.0,13550.0,13550.0,13550.0,13550.0,13550.0,13550.0,13550.0,13550.0,13550.0,13550.0,13550.0,13550.0,13500.0,13500.0,13550.0,13450.0,13450.0,13450.0,13450.0,13450.0],\"type\":\"scatter\"},{\"line\":{\"color\":\"green\",\"width\":2},\"mode\":\"lines\",\"name\":\"Prediksi Polinomial (Degree 3)\",\"x\":[1.0,5.070234113712375,9.14046822742475,13.210702341137125,17.2809364548495,21.351170568561873,25.42140468227425,29.491638795986624,33.561872909699,37.63210702341137,41.702341137123746,45.77257525083612,49.8428093645485,53.913043478260875,57.98327759197325,62.05351170568562,66.123745819398,70.19397993311037,74.26421404682274,78.33444816053512,82.40468227424749,86.47491638795987,90.54515050167224,94.61538461538461,98.685618729097,102.75585284280938,106.82608695652175,110.89632107023412,114.9665551839465,119.03678929765887,123.10702341137124,127.17725752508362,131.247491638796,135.31772575250838,139.38795986622074,143.45819397993313,147.5284280936455,151.59866220735788,155.66889632107024,159.73913043478262,163.80936454849498,167.87959866220737,171.94983277591973,176.02006688963212,180.09030100334448,184.16053511705687,188.23076923076923,192.30100334448161,196.371237458194,200.44147157190636,204.51170568561875,208.5819397993311,212.6521739130435,216.72240802675586,220.79264214046825,224.8628762541806,228.933110367893,233.00334448160535,237.07357859531774,241.1438127090301,245.2140468227425,249.28428093645485,253.35451505016724,257.4247491638796,261.494983277592,265.5652173913044,269.63545150501676,273.7056856187291,277.7759197324415,281.84615384615387,285.91638795986626,289.9866220735786,294.056856187291,298.12709030100336,302.19732441471575,306.2675585284281,310.33779264214047,314.40802675585286,318.47826086956525,322.5484949832776,326.61872909698997,330.68896321070235,334.75919732441474,338.82943143812713,342.89966555183946,346.96989966555185,351.04013377926424,355.1103678929766,359.18060200668896,363.25083612040135,367.32107023411373,371.3913043478261,375.46153846153845,379.53177257525084,383.60200668896323,387.6722408026756,391.742474916388,395.81270903010034,399.8829431438127,403.9531772575251,408.0234113712375,412.09364548494983,416.1638795986622,420.2341137123746,424.304347826087,428.3745819397993,432.4448160535117,436.5150501672241,440.5852842809365,444.6555183946488,448.7257525083612,452.7959866220736,456.866220735786,460.9364548494984,465.0066889632107,469.0769230769231,473.1471571906355,477.21739130434787,481.2876254180602,485.3578595317726,489.428093645485,493.49832775919737,497.5685618729097,501.6387959866221,505.7090301003345,509.77926421404686,513.8494983277592,517.9197324414716,521.989966555184,526.0602006688963,530.1304347826087,534.2006688963211,538.2709030100335,542.3411371237459,546.4113712374582,550.4816053511706,554.551839464883,558.6220735785953,562.6923076923077,566.7625418060201,570.8327759197325,574.9030100334448,578.9732441471572,583.0434782608696,587.113712374582,591.1839464882944,595.2541806020067,599.3244147157191,603.3946488294315,607.4648829431438,611.5351170568562,615.6053511705686,619.6755852842809,623.7458193979934,627.8160535117057,631.886287625418,635.9565217391305,640.0267558528428,644.0969899665552,648.1672240802676,652.2374581939799,656.3076923076924,660.3779264214047,664.448160535117,668.5183946488295,672.5886287625418,676.6588628762543,680.7290969899666,684.7993311036789,688.8695652173914,692.9397993311037,697.010033444816,701.0802675585285,705.1505016722408,709.2207357859533,713.2909698996656,717.3612040133779,721.4314381270904,725.5016722408027,729.5719063545151,733.6421404682275,737.7123745819398,741.7826086956522,745.8528428093646,749.9230769230769,753.9933110367894,758.0635451505017,762.1337792642141,766.2040133779265,770.2742474916388,774.3444816053512,778.4147157190636,782.484949832776,786.5551839464883,790.6254180602007,794.6956521739131,798.7658862876254,802.8361204013378,806.9063545150502,810.9765886287626,815.046822742475,819.1170568561873,823.1872909698997,827.2575250836121,831.3277591973244,835.3979933110368,839.4682274247492,843.5384615384615,847.608695652174,851.6789297658863,855.7491638795987,859.8193979933111,863.8896321070234,867.9598662207359,872.0301003344482,876.1003344481605,880.170568561873,884.2408026755853,888.3110367892976,892.3812709030101,896.4515050167224,900.5217391304349,904.5919732441472,908.6622073578595,912.732441471572,916.8026755852843,920.8729096989968,924.9431438127091,929.0133779264214,933.0836120401339,937.1538461538462,941.2240802675585,945.294314381271,949.3645484949833,953.4347826086957,957.5050167224081,961.5752508361204,965.6454849498328,969.7157190635452,973.7859531772575,977.85618729097,981.9264214046823,985.9966555183947,990.0668896321071,994.1371237458194,998.2073578595318,1002.2775919732442,1006.3478260869566,1010.418060200669,1014.4882943143813,1018.5585284280937,1022.628762541806,1026.6989966555184,1030.7692307692307,1034.8394648829433,1038.9096989966556,1042.979933110368,1047.0501672240803,1051.1204013377926,1055.1906354515052,1059.2608695652175,1063.3311036789298,1067.4013377926422,1071.4715719063545,1075.541806020067,1079.6120401337794,1083.6822742474917,1087.752508361204,1091.8227424749164,1095.8929765886287,1099.9632107023413,1104.0334448160536,1108.103678929766,1112.1739130434783,1116.2441471571906,1120.3143812709031,1124.3846153846155,1128.4548494983278,1132.5250836120401,1136.5953177257525,1140.665551839465,1144.7357859531774,1148.8060200668897,1152.876254180602,1156.9464882943143,1161.016722408027,1165.0869565217392,1169.1571906354516,1173.227424749164,1177.2976588628762,1181.3678929765888,1185.4381270903011,1189.5083612040135,1193.5785953177258,1197.6488294314381,1201.7190635451504,1205.789297658863,1209.8595317725753,1213.9297658862877,1218.0],\"y\":[10287.792767245342,10265.805032830049,10244.20375411157,10222.987363225393,10202.154292307008,10181.702973491898,10161.631838915553,10141.93932071346,10122.623851021104,10103.683861973974,10085.117785707555,10066.924054357336,10049.101100058804,10031.647354947445,10014.561251158746,9997.841220828195,9981.48569609128,9965.493109083485,9949.8618919403,9934.59047679721,9919.677295789703,9905.120781053267,9890.919364723388,9877.071478935552,9863.575555825248,9850.430027527962,9837.63332617918,9825.183883914393,9813.080132869085,9801.320505178743,9789.903432978854,9778.827348404906,9768.090683592387,9757.691870676781,9747.629341793578,9737.901529078265,9728.506864666326,9719.443780693251,9710.710709294526,9702.306082605639,9694.228332762075,9686.475891899323,9679.04719215287,9671.940665658201,9665.154744550806,9658.687860966169,9652.53844703978,9646.704934907126,9641.185756703691,9635.979344564963,9631.084130626432,9626.498547023582,9622.221025891902,9618.249999366877,9614.583899583997,9611.221158678745,9608.160208786612,9605.399482043083,9602.937410583645,9600.772426543786,9598.902962058994,9597.327449264752,9596.04432029655,9595.052007289878,9594.348942380217,9593.933557703058,9593.804285393888,9593.95955758819,9594.397806421457,9595.117464029174,9596.116962546825,9597.3947341099,9598.949210853885,9600.778824914269,9602.882008426535,9605.257193526175,9607.902812348673,9610.817297029518,9613.999079704194,9617.446592508191,9621.158267576995,9625.13253704609,9629.36783305097,9633.862587727117,9638.61523321002,9643.624201635164,9648.887925138039,9654.40483585413,9660.173365918923,9666.191947467907,9672.45901263657,9678.972993560395,9685.732322374874,9692.735431215491,9699.980752217734,9707.46671751709,9715.191759249048,9723.15430954909,9731.352800552708,9739.785664395387,9748.451333212615,9757.348239139877,9766.474814312664,9775.829490866457,9785.410700936749,9795.216876659024,9805.24645016877,9815.497853601473,9825.969519092621,9836.659878777702,9847.567364792201,9858.690409271607,9870.027444351404,9881.576902167084,9893.33721485413,9905.30681454803,9917.48413338427,9929.86760349834,9942.455657025726,9955.246726101916,9968.239242862393,9981.431639442648,9994.822347978166,10008.409800604435,10022.192429456942,10036.168666671174,10050.336944382618,10064.695694726763,10079.243349839093,10093.978341855094,10108.899102910258,10124.004065140069,10139.291660680014,10154.76032166558,10170.408480232254,10186.234568515527,10202.23701865088,10218.414262773804,10234.764733019783,10251.286861524308,10267.979080422863,10284.839821850936,10301.867517944014,10319.060600837585,10336.417502667135,10353.936655568152,10371.61649167612,10389.455443126531,10407.451942054868,10425.604420596621,10443.911310887275,10462.371045062318,10480.982055257236,10499.742773607519,10518.65163224865,10537.707063316117,10556.90749894541,10576.251371272014,10595.737112431416,10615.363154559102,10635.127929790562,10655.029870261282,10675.067408106745,10695.238975462446,10715.543004463863,10735.977927246491,10756.542175945813,10777.234182697317,10798.05237963649,10818.99519889882,10840.06107261979,10861.248432934892,10882.555711979612,10903.981341889434,10925.523754799848,10947.181382846342,10968.952658164399,10990.836012889511,11012.829879157161,11034.932689102836,11057.142874862027,11079.458868570218,11101.879102362898,11124.402008375553,11147.026018743667,11169.749565602731,11192.571081088234,11215.488997335658,11238.501746480491,11261.607760658224,11284.80547200434,11308.093312654328,11331.469714743675,11354.933110407865,11378.48193178239,11402.114611002733,11425.829580204383,11449.625271522827,11473.500117093554,11497.452549052046,11521.480999533796,11545.583900674284,11569.759684609005,11594.00678347344,11618.32362940308,11642.70865453341,11667.160290999918,11691.676970938088,11716.257126483411,11740.899189771373,11765.60159293746,11790.36276811716,11815.181147445961,11840.055163059347,11864.983247092807,11889.96383168183,11914.9953489619,11940.076231068504,11965.204910137132,11990.37981830327,12015.599387702401,12040.862050470017,12066.166238741605,12091.51038465265,12116.89292033864,12142.31227793506,12167.7668895774,12193.255187401146,12218.775603541782,12244.326570134803,12269.906519315688,12295.513883219926,12321.147093983007,12346.804583740417,12372.48478462764,12398.186128780166,12423.907048333484,12449.645975423076,12475.401342184432,12501.171580753038,12526.955123264384,12552.750401853953,12578.555848657235,12604.369895809714,12630.19097544688,12656.017519704219,12681.84796071722,12707.680730621365,12733.514261552145,12759.346985645048,12785.177335035558,12811.003741859164,12836.824638251352,12862.63845634761,12888.443628283425,12914.238586194284,12940.021762215672,12965.791588483078,12991.546497131987,13017.284920297896,13043.005290116278,13068.706038722627,13094.385598252427,13120.04240084117,13145.674878624342,13171.281463737425,13196.86058831591,13222.410684495286,13247.930184411032,13273.417520198647,13298.871123993611,13324.28942793141,13349.67086414753,13375.013864777464,13400.316861956693,13425.578287820714,13450.796574505002,13475.970154145049,13501.097458876342,13526.176920834372,13551.20697215462,13576.186044972574,13601.112571423726,13625.984983643555,13650.801713767556,13675.561193931217,13700.261856270014,13724.90213291944,13749.480456014988,13773.995257692133,13798.444970086375,13822.828025333198,13847.142855568078,13871.387892926516,13895.56156954399,13919.662317555994,13943.688569098009,13967.638756305525,13991.511311314029,14015.304666259008],\"type\":\"scatter\"}],                        {\"template\":{\"data\":{\"histogram2dcontour\":[{\"type\":\"histogram2dcontour\",\"colorbar\":{\"outlinewidth\":0,\"ticks\":\"\"},\"colorscale\":[[0.0,\"#0d0887\"],[0.1111111111111111,\"#46039f\"],[0.2222222222222222,\"#7201a8\"],[0.3333333333333333,\"#9c179e\"],[0.4444444444444444,\"#bd3786\"],[0.5555555555555556,\"#d8576b\"],[0.6666666666666666,\"#ed7953\"],[0.7777777777777778,\"#fb9f3a\"],[0.8888888888888888,\"#fdca26\"],[1.0,\"#f0f921\"]]}],\"choropleth\":[{\"type\":\"choropleth\",\"colorbar\":{\"outlinewidth\":0,\"ticks\":\"\"}}],\"histogram2d\":[{\"type\":\"histogram2d\",\"colorbar\":{\"outlinewidth\":0,\"ticks\":\"\"},\"colorscale\":[[0.0,\"#0d0887\"],[0.1111111111111111,\"#46039f\"],[0.2222222222222222,\"#7201a8\"],[0.3333333333333333,\"#9c179e\"],[0.4444444444444444,\"#bd3786\"],[0.5555555555555556,\"#d8576b\"],[0.6666666666666666,\"#ed7953\"],[0.7777777777777778,\"#fb9f3a\"],[0.8888888888888888,\"#fdca26\"],[1.0,\"#f0f921\"]]}],\"heatmap\":[{\"type\":\"heatmap\",\"colorbar\":{\"outlinewidth\":0,\"ticks\":\"\"},\"colorscale\":[[0.0,\"#0d0887\"],[0.1111111111111111,\"#46039f\"],[0.2222222222222222,\"#7201a8\"],[0.3333333333333333,\"#9c179e\"],[0.4444444444444444,\"#bd3786\"],[0.5555555555555556,\"#d8576b\"],[0.6666666666666666,\"#ed7953\"],[0.7777777777777778,\"#fb9f3a\"],[0.8888888888888888,\"#fdca26\"],[1.0,\"#f0f921\"]]}],\"heatmapgl\":[{\"type\":\"heatmapgl\",\"colorbar\":{\"outlinewidth\":0,\"ticks\":\"\"},\"colorscale\":[[0.0,\"#0d0887\"],[0.1111111111111111,\"#46039f\"],[0.2222222222222222,\"#7201a8\"],[0.3333333333333333,\"#9c179e\"],[0.4444444444444444,\"#bd3786\"],[0.5555555555555556,\"#d8576b\"],[0.6666666666666666,\"#ed7953\"],[0.7777777777777778,\"#fb9f3a\"],[0.8888888888888888,\"#fdca26\"],[1.0,\"#f0f921\"]]}],\"contourcarpet\":[{\"type\":\"contourcarpet\",\"colorbar\":{\"outlinewidth\":0,\"ticks\":\"\"}}],\"contour\":[{\"type\":\"contour\",\"colorbar\":{\"outlinewidth\":0,\"ticks\":\"\"},\"colorscale\":[[0.0,\"#0d0887\"],[0.1111111111111111,\"#46039f\"],[0.2222222222222222,\"#7201a8\"],[0.3333333333333333,\"#9c179e\"],[0.4444444444444444,\"#bd3786\"],[0.5555555555555556,\"#d8576b\"],[0.6666666666666666,\"#ed7953\"],[0.7777777777777778,\"#fb9f3a\"],[0.8888888888888888,\"#fdca26\"],[1.0,\"#f0f921\"]]}],\"surface\":[{\"type\":\"surface\",\"colorbar\":{\"outlinewidth\":0,\"ticks\":\"\"},\"colorscale\":[[0.0,\"#0d0887\"],[0.1111111111111111,\"#46039f\"],[0.2222222222222222,\"#7201a8\"],[0.3333333333333333,\"#9c179e\"],[0.4444444444444444,\"#bd3786\"],[0.5555555555555556,\"#d8576b\"],[0.6666666666666666,\"#ed7953\"],[0.7777777777777778,\"#fb9f3a\"],[0.8888888888888888,\"#fdca26\"],[1.0,\"#f0f921\"]]}],\"mesh3d\":[{\"type\":\"mesh3d\",\"colorbar\":{\"outlinewidth\":0,\"ticks\":\"\"}}],\"scatter\":[{\"fillpattern\":{\"fillmode\":\"overlay\",\"size\":10,\"solidity\":0.2},\"type\":\"scatter\"}],\"parcoords\":[{\"type\":\"parcoords\",\"line\":{\"colorbar\":{\"outlinewidth\":0,\"ticks\":\"\"}}}],\"scatterpolargl\":[{\"type\":\"scatterpolargl\",\"marker\":{\"colorbar\":{\"outlinewidth\":0,\"ticks\":\"\"}}}],\"bar\":[{\"error_x\":{\"color\":\"#2a3f5f\"},\"error_y\":{\"color\":\"#2a3f5f\"},\"marker\":{\"line\":{\"color\":\"#E5ECF6\",\"width\":0.5},\"pattern\":{\"fillmode\":\"overlay\",\"size\":10,\"solidity\":0.2}},\"type\":\"bar\"}],\"scattergeo\":[{\"type\":\"scattergeo\",\"marker\":{\"colorbar\":{\"outlinewidth\":0,\"ticks\":\"\"}}}],\"scatterpolar\":[{\"type\":\"scatterpolar\",\"marker\":{\"colorbar\":{\"outlinewidth\":0,\"ticks\":\"\"}}}],\"histogram\":[{\"marker\":{\"pattern\":{\"fillmode\":\"overlay\",\"size\":10,\"solidity\":0.2}},\"type\":\"histogram\"}],\"scattergl\":[{\"type\":\"scattergl\",\"marker\":{\"colorbar\":{\"outlinewidth\":0,\"ticks\":\"\"}}}],\"scatter3d\":[{\"type\":\"scatter3d\",\"line\":{\"colorbar\":{\"outlinewidth\":0,\"ticks\":\"\"}},\"marker\":{\"colorbar\":{\"outlinewidth\":0,\"ticks\":\"\"}}}],\"scattermapbox\":[{\"type\":\"scattermapbox\",\"marker\":{\"colorbar\":{\"outlinewidth\":0,\"ticks\":\"\"}}}],\"scatterternary\":[{\"type\":\"scatterternary\",\"marker\":{\"colorbar\":{\"outlinewidth\":0,\"ticks\":\"\"}}}],\"scattercarpet\":[{\"type\":\"scattercarpet\",\"marker\":{\"colorbar\":{\"outlinewidth\":0,\"ticks\":\"\"}}}],\"carpet\":[{\"aaxis\":{\"endlinecolor\":\"#2a3f5f\",\"gridcolor\":\"white\",\"linecolor\":\"white\",\"minorgridcolor\":\"white\",\"startlinecolor\":\"#2a3f5f\"},\"baxis\":{\"endlinecolor\":\"#2a3f5f\",\"gridcolor\":\"white\",\"linecolor\":\"white\",\"minorgridcolor\":\"white\",\"startlinecolor\":\"#2a3f5f\"},\"type\":\"carpet\"}],\"table\":[{\"cells\":{\"fill\":{\"color\":\"#EBF0F8\"},\"line\":{\"color\":\"white\"}},\"header\":{\"fill\":{\"color\":\"#C8D4E3\"},\"line\":{\"color\":\"white\"}},\"type\":\"table\"}],\"barpolar\":[{\"marker\":{\"line\":{\"color\":\"#E5ECF6\",\"width\":0.5},\"pattern\":{\"fillmode\":\"overlay\",\"size\":10,\"solidity\":0.2}},\"type\":\"barpolar\"}],\"pie\":[{\"automargin\":true,\"type\":\"pie\"}]},\"layout\":{\"autotypenumbers\":\"strict\",\"colorway\":[\"#636efa\",\"#EF553B\",\"#00cc96\",\"#ab63fa\",\"#FFA15A\",\"#19d3f3\",\"#FF6692\",\"#B6E880\",\"#FF97FF\",\"#FECB52\"],\"font\":{\"color\":\"#2a3f5f\"},\"hovermode\":\"closest\",\"hoverlabel\":{\"align\":\"left\"},\"paper_bgcolor\":\"white\",\"plot_bgcolor\":\"#E5ECF6\",\"polar\":{\"bgcolor\":\"#E5ECF6\",\"angularaxis\":{\"gridcolor\":\"white\",\"linecolor\":\"white\",\"ticks\":\"\"},\"radialaxis\":{\"gridcolor\":\"white\",\"linecolor\":\"white\",\"ticks\":\"\"}},\"ternary\":{\"bgcolor\":\"#E5ECF6\",\"aaxis\":{\"gridcolor\":\"white\",\"linecolor\":\"white\",\"ticks\":\"\"},\"baxis\":{\"gridcolor\":\"white\",\"linecolor\":\"white\",\"ticks\":\"\"},\"caxis\":{\"gridcolor\":\"white\",\"linecolor\":\"white\",\"ticks\":\"\"}},\"coloraxis\":{\"colorbar\":{\"outlinewidth\":0,\"ticks\":\"\"}},\"colorscale\":{\"sequential\":[[0.0,\"#0d0887\"],[0.1111111111111111,\"#46039f\"],[0.2222222222222222,\"#7201a8\"],[0.3333333333333333,\"#9c179e\"],[0.4444444444444444,\"#bd3786\"],[0.5555555555555556,\"#d8576b\"],[0.6666666666666666,\"#ed7953\"],[0.7777777777777778,\"#fb9f3a\"],[0.8888888888888888,\"#fdca26\"],[1.0,\"#f0f921\"]],\"sequentialminus\":[[0.0,\"#0d0887\"],[0.1111111111111111,\"#46039f\"],[0.2222222222222222,\"#7201a8\"],[0.3333333333333333,\"#9c179e\"],[0.4444444444444444,\"#bd3786\"],[0.5555555555555556,\"#d8576b\"],[0.6666666666666666,\"#ed7953\"],[0.7777777777777778,\"#fb9f3a\"],[0.8888888888888888,\"#fdca26\"],[1.0,\"#f0f921\"]],\"diverging\":[[0,\"#8e0152\"],[0.1,\"#c51b7d\"],[0.2,\"#de77ae\"],[0.3,\"#f1b6da\"],[0.4,\"#fde0ef\"],[0.5,\"#f7f7f7\"],[0.6,\"#e6f5d0\"],[0.7,\"#b8e186\"],[0.8,\"#7fbc41\"],[0.9,\"#4d9221\"],[1,\"#276419\"]]},\"xaxis\":{\"gridcolor\":\"white\",\"linecolor\":\"white\",\"ticks\":\"\",\"title\":{\"standoff\":15},\"zerolinecolor\":\"white\",\"automargin\":true,\"zerolinewidth\":2},\"yaxis\":{\"gridcolor\":\"white\",\"linecolor\":\"white\",\"ticks\":\"\",\"title\":{\"standoff\":15},\"zerolinecolor\":\"white\",\"automargin\":true,\"zerolinewidth\":2},\"scene\":{\"xaxis\":{\"backgroundcolor\":\"#E5ECF6\",\"gridcolor\":\"white\",\"linecolor\":\"white\",\"showbackground\":true,\"ticks\":\"\",\"zerolinecolor\":\"white\",\"gridwidth\":2},\"yaxis\":{\"backgroundcolor\":\"#E5ECF6\",\"gridcolor\":\"white\",\"linecolor\":\"white\",\"showbackground\":true,\"ticks\":\"\",\"zerolinecolor\":\"white\",\"gridwidth\":2},\"zaxis\":{\"backgroundcolor\":\"#E5ECF6\",\"gridcolor\":\"white\",\"linecolor\":\"white\",\"showbackground\":true,\"ticks\":\"\",\"zerolinecolor\":\"white\",\"gridwidth\":2}},\"shapedefaults\":{\"line\":{\"color\":\"#2a3f5f\"}},\"annotationdefaults\":{\"arrowcolor\":\"#2a3f5f\",\"arrowhead\":0,\"arrowwidth\":1},\"geo\":{\"bgcolor\":\"white\",\"landcolor\":\"#E5ECF6\",\"subunitcolor\":\"white\",\"showland\":true,\"showlakes\":true,\"lakecolor\":\"white\"},\"title\":{\"x\":0.05},\"mapbox\":{\"style\":\"light\"}}},\"title\":{\"text\":\"Prediksi Harga Beras dengan Regresi Polinomial Degree 3\",\"x\":0.5},\"xaxis\":{\"title\":{\"text\":\"Independent Variabel\"},\"tickangle\":-45,\"showgrid\":true,\"gridcolor\":\"lightgrey\"},\"yaxis\":{\"title\":{\"text\":\"Harga Beras\"},\"tickformat\":\"d\",\"showgrid\":true,\"gridcolor\":\"lightgrey\"},\"font\":{\"family\":\"Arial, sans-serif\",\"size\":12},\"legend\":{\"x\":0.5,\"y\":1.1,\"xanchor\":\"center\",\"yanchor\":\"top\",\"orientation\":\"h\"},\"width\":1000,\"height\":600,\"plot_bgcolor\":\"white\",\"shapes\":[{\"line\":{\"color\":\"black\",\"width\":1},\"type\":\"rect\",\"x0\":0,\"x1\":1,\"xref\":\"paper\",\"y0\":0,\"y1\":1,\"yref\":\"paper\"}]},                        {\"responsive\": true}                    ).then(function(){\n",
              "                            \n",
              "var gd = document.getElementById('3e6270d1-0099-46dd-bc10-5858992d1b72');\n",
              "var x = new MutationObserver(function (mutations, observer) {{\n",
              "        var display = window.getComputedStyle(gd).display;\n",
              "        if (!display || display === 'none') {{\n",
              "            console.log([gd, 'removed!']);\n",
              "            Plotly.purge(gd);\n",
              "            observer.disconnect();\n",
              "        }}\n",
              "}});\n",
              "\n",
              "// Listen for the removal of the full notebook cells\n",
              "var notebookContainer = gd.closest('#notebook-container');\n",
              "if (notebookContainer) {{\n",
              "    x.observe(notebookContainer, {childList: true});\n",
              "}}\n",
              "\n",
              "// Listen for the clearing of the current output cell\n",
              "var outputEl = gd.closest('.output');\n",
              "if (outputEl) {{\n",
              "    x.observe(outputEl, {childList: true});\n",
              "}}\n",
              "\n",
              "                        })                };                            </script>        </div>\n",
              "</body>\n",
              "</html>"
            ]
          },
          "metadata": {}
        }
      ]
    },
    {
      "cell_type": "code",
      "source": [
        "X_smooth = np.linspace(X.min(), X.max(), 300).reshape(-1, 1)\n",
        "poly_4 = PolynomialFeatures(degree=4)\n",
        "X_smooth_poly_4 = poly_4.fit_transform(X_smooth)\n",
        "Y_pred_poly_4_smooth = poly_4_model.predict(X_smooth_poly_4)\n",
        "\n",
        "fig = go.Figure()\n",
        "\n",
        "fig.add_trace(go.Scatter(\n",
        "    x=X.flatten(),\n",
        "    y=Y,\n",
        "    mode='markers',\n",
        "    marker=dict(color='blue', size=6, opacity=0.6),\n",
        "    name='Data Asli'\n",
        "))\n",
        "\n",
        "fig.add_trace(go.Scatter(\n",
        "    x=X_smooth.flatten(),\n",
        "    y=Y_pred_poly_4_smooth,\n",
        "    mode='lines',\n",
        "    line=dict(color='green', width=2),\n",
        "    name='Prediksi Polinomial (Degree 4)'\n",
        "))\n",
        "\n",
        "fig.update_layout(\n",
        "    title=dict(text=\"Prediksi Harga Beras dengan Regresi Polinomial Degree 4\", x=0.5),\n",
        "    xaxis=dict(title=\"Independent Variabel\", tickangle=-45, showgrid=True, gridcolor='lightgrey'),\n",
        "    yaxis=dict(title=\"Harga Beras\", tickformat='d', showgrid=True, gridcolor='lightgrey'),\n",
        "    width=1000,\n",
        "    height=600,\n",
        "    plot_bgcolor='white',\n",
        "    font=dict(family=\"Arial, sans-serif\", size=12),\n",
        "    shapes=[dict(\n",
        "        type=\"rect\", x0=0, y0=0, x1=1, y1=1, xref=\"paper\", yref=\"paper\",\n",
        "        line=dict(color=\"black\", width=1)\n",
        "    )],\n",
        "    legend=dict(\n",
        "        x=0.5, y=1.1, xanchor=\"center\", yanchor=\"top\", orientation=\"h\"\n",
        "    )\n",
        ")\n",
        "fig.show()\n"
      ],
      "metadata": {
        "colab": {
          "base_uri": "https://localhost:8080/",
          "height": 617
        },
        "id": "-9nVwaReO3lK",
        "outputId": "bea6940e-2346-4ee8-cd8e-c173f53f1d67"
      },
      "execution_count": 23,
      "outputs": [
        {
          "output_type": "display_data",
          "data": {
            "text/html": [
              "<html>\n",
              "<head><meta charset=\"utf-8\" /></head>\n",
              "<body>\n",
              "    <div>            <script src=\"https://cdnjs.cloudflare.com/ajax/libs/mathjax/2.7.5/MathJax.js?config=TeX-AMS-MML_SVG\"></script><script type=\"text/javascript\">if (window.MathJax && window.MathJax.Hub && window.MathJax.Hub.Config) {window.MathJax.Hub.Config({SVG: {font: \"STIX-Web\"}});}</script>                <script type=\"text/javascript\">window.PlotlyConfig = {MathJaxConfig: 'local'};</script>\n",
              "        <script charset=\"utf-8\" src=\"https://cdn.plot.ly/plotly-2.35.2.min.js\"></script>                <div id=\"d88ca3a9-dae9-4d44-bbf3-7c8754720671\" class=\"plotly-graph-div\" style=\"height:600px; width:1000px;\"></div>            <script type=\"text/javascript\">                                    window.PLOTLYENV=window.PLOTLYENV || {};                                    if (document.getElementById(\"d88ca3a9-dae9-4d44-bbf3-7c8754720671\")) {                    Plotly.newPlot(                        \"d88ca3a9-dae9-4d44-bbf3-7c8754720671\",                        [{\"marker\":{\"color\":\"blue\",\"opacity\":0.6,\"size\":6},\"mode\":\"markers\",\"name\":\"Data Asli\",\"x\":[1,2,3,4,5,6,7,8,9,10,11,12,13,14,15,16,17,18,19,20,21,22,23,24,25,26,27,28,29,30,31,32,33,34,35,36,37,38,39,40,41,42,43,44,45,46,47,48,49,50,51,52,53,54,55,56,57,58,59,60,61,62,63,64,65,66,67,68,69,70,71,72,73,74,75,76,77,78,79,80,81,82,83,84,85,86,87,88,89,90,91,92,93,94,95,96,97,98,99,100,101,102,103,104,105,106,107,108,109,110,111,112,113,114,115,116,117,118,119,120,121,122,123,124,125,126,127,128,129,130,131,132,133,134,135,136,137,138,139,140,141,142,143,144,145,146,147,148,149,150,151,152,153,154,155,156,157,158,159,160,161,162,163,164,165,166,167,168,169,170,171,172,173,174,175,176,177,178,179,180,181,182,183,184,185,186,187,188,189,190,191,192,193,194,195,196,197,198,199,200,201,202,203,204,205,206,207,208,209,210,211,212,213,214,215,216,217,218,219,220,221,222,223,224,225,226,227,228,229,230,231,232,233,234,235,236,237,238,239,240,241,242,243,244,245,246,247,248,249,250,251,252,253,254,255,256,257,258,259,260,261,262,263,264,265,266,267,268,269,270,271,272,273,274,275,276,277,278,279,280,281,282,283,284,285,286,287,288,289,290,291,292,293,294,295,296,297,298,299,300,301,302,303,304,305,306,307,308,309,310,311,312,313,314,315,316,317,318,319,320,321,322,323,324,325,326,327,328,329,330,331,332,333,334,335,336,337,338,339,340,341,342,343,344,345,346,347,348,349,350,351,352,353,354,355,356,357,358,359,360,361,362,363,364,365,366,367,368,369,370,371,372,373,374,375,376,377,378,379,380,381,382,383,384,385,386,387,388,389,390,391,392,393,394,395,396,397,398,399,400,401,402,403,404,405,406,407,408,409,410,411,412,413,414,415,416,417,418,419,420,421,422,423,424,425,426,427,428,429,430,431,432,433,434,435,436,437,438,439,440,441,442,443,444,445,446,447,448,449,450,451,452,453,454,455,456,457,458,459,460,461,462,463,464,465,466,467,468,469,470,471,472,473,474,475,476,477,478,479,480,481,482,483,484,485,486,487,488,489,490,491,492,493,494,495,496,497,498,499,500,501,502,503,504,505,506,507,508,509,510,511,512,513,514,515,516,517,518,519,520,521,522,523,524,525,526,527,528,529,530,531,532,533,534,535,536,537,538,539,540,541,542,543,544,545,546,547,548,549,550,551,552,553,554,555,556,557,558,559,560,561,562,563,564,565,566,567,568,569,570,571,572,573,574,575,576,577,578,579,580,581,582,583,584,585,586,587,588,589,590,591,592,593,594,595,596,597,598,599,600,601,602,603,604,605,606,607,608,609,610,611,612,613,614,615,616,617,618,619,620,621,622,623,624,625,626,627,628,629,630,631,632,633,634,635,636,637,638,639,640,641,642,643,644,645,646,647,648,649,650,651,652,653,654,655,656,657,658,659,660,661,662,663,664,665,666,667,668,669,670,671,672,673,674,675,676,677,678,679,680,681,682,683,684,685,686,687,688,689,690,691,692,693,694,695,696,697,698,699,700,701,702,703,704,705,706,707,708,709,710,711,712,713,714,715,716,717,718,719,720,721,722,723,724,725,726,727,728,729,730,731,732,733,734,735,736,737,738,739,740,741,742,743,744,745,746,747,748,749,750,751,752,753,754,755,756,757,758,759,760,761,762,763,764,765,766,767,768,769,770,771,772,773,774,775,776,777,778,779,780,781,782,783,784,785,786,787,788,789,790,791,792,793,794,795,796,797,798,799,800,801,802,803,804,805,806,807,808,809,810,811,812,813,814,815,816,817,818,819,820,821,822,823,824,825,826,827,828,829,830,831,832,833,834,835,836,837,838,839,840,841,842,843,844,845,846,847,848,849,850,851,852,853,854,855,856,857,858,859,860,861,862,863,864,865,866,867,868,869,870,871,872,873,874,875,876,877,878,879,880,881,882,883,884,885,886,887,888,889,890,891,892,893,894,895,896,897,898,899,900,901,902,903,904,905,906,907,908,909,910,911,912,913,914,915,916,917,918,919,920,921,922,923,924,925,926,927,928,929,930,931,932,933,934,935,936,937,938,939,940,941,942,943,944,945,946,947,948,949,950,951,952,953,954,955,956,957,958,959,960,961,962,963,964,965,966,967,968,969,970,971,972,973,974,975,976,977,978,979,980,981,982,983,984,985,986,987,988,989,990,991,992,993,994,995,996,997,998,999,1000,1001,1002,1003,1004,1005,1006,1007,1008,1009,1010,1011,1012,1013,1014,1015,1016,1017,1018,1019,1020,1021,1022,1023,1024,1025,1026,1027,1028,1029,1030,1031,1032,1033,1034,1035,1036,1037,1038,1039,1040,1041,1042,1043,1044,1045,1046,1047,1048,1049,1050,1051,1052,1053,1054,1055,1056,1057,1058,1059,1060,1061,1062,1063,1064,1065,1066,1067,1068,1069,1070,1071,1072,1073,1074,1075,1076,1077,1078,1079,1080,1081,1082,1083,1084,1085,1086,1087,1088,1089,1090,1091,1092,1093,1094,1095,1096,1097,1098,1099,1100,1101,1102,1103,1104,1105,1106,1107,1108,1109,1110,1111,1112,1113,1114,1115,1116,1117,1118,1119,1120,1121,1122,1123,1124,1125,1126,1127,1128,1129,1130,1131,1132,1133,1134,1135,1136,1137,1138,1139,1140,1141,1142,1143,1144,1145,1146,1147,1148,1149,1150,1151,1152,1153,1154,1155,1156,1157,1158,1159,1160,1161,1162,1163,1164,1165,1166,1167,1168,1169,1170,1171,1172,1173,1174,1175,1176,1177,1178,1179,1180,1181,1182,1183,1184,1185,1186,1187,1188,1189,1190,1191,1192,1193,1194,1195,1196,1197,1198,1199,1200,1201,1202,1203,1204,1205,1206,1207,1208,1209,1210,1211,1212,1213,1214,1215,1216,1217,1218],\"y\":[10000.0,10000.0,10000.0,10000.0,10000.0,10000.0,10000.0,10000.0,10000.0,10000.0,10000.0,10000.0,10000.0,10000.0,10000.0,10000.0,10000.0,10000.0,10050.0,10050.0,10050.0,10050.0,10050.0,10050.0,10050.0,10050.0,10050.0,10050.0,10050.0,10050.0,10050.0,10050.0,10050.0,10050.0,10050.0,10050.0,10050.0,10050.0,9400.0,9400.0,9400.0,9400.0,9400.0,9400.0,9400.0,9400.0,9400.0,9400.0,9400.0,9400.0,9400.0,9400.0,9400.0,9450.0,9450.0,9450.0,9450.0,9450.0,9600.0,9600.0,9600.0,9600.0,9600.0,9650.0,9650.0,9700.0,9700.0,9700.0,9750.0,9750.0,9750.0,9750.0,9750.0,9750.0,9750.0,9750.0,9750.0,9750.0,9750.0,9750.0,9750.0,9750.0,9750.0,9750.0,9750.0,9750.0,9750.0,9800.0,9850.0,9850.0,9850.0,9850.0,9850.0,9850.0,9850.0,9850.0,9850.0,9850.0,9850.0,9850.0,9900.0,9912.0,9925.0,9938.0,9950.0,9950.0,9950.0,9950.0,9950.0,9950.0,9950.0,9950.0,9950.0,9900.0,9900.0,9850.0,9850.0,9850.0,9850.0,9900.0,9900.0,9900.0,9900.0,9950.0,9950.0,9950.0,9950.0,9950.0,9950.0,9950.0,9950.0,9950.0,9950.0,9950.0,9950.0,9950.0,9950.0,9950.0,9950.0,9950.0,9950.0,9950.0,9950.0,9950.0,9950.0,9950.0,9950.0,9950.0,9950.0,9950.0,9950.0,9950.0,9950.0,9950.0,9950.0,9950.0,9950.0,9950.0,9950.0,9950.0,9950.0,9950.0,9950.0,9950.0,9950.0,9950.0,9933.0,9917.0,9900.0,9900.0,9900.0,9900.0,9900.0,9950.0,9950.0,9950.0,9950.0,9950.0,9950.0,9950.0,9950.0,9950.0,9950.0,9950.0,9950.0,9950.0,9950.0,9950.0,9950.0,9950.0,9950.0,9950.0,9950.0,9950.0,10000.0,9950.0,9950.0,9950.0,9950.0,9950.0,9950.0,9950.0,9950.0,9950.0,9950.0,9950.0,9950.0,9950.0,9950.0,9950.0,9950.0,9950.0,9950.0,9950.0,9950.0,9950.0,9950.0,9950.0,9950.0,9950.0,9950.0,9950.0,9950.0,9950.0,9950.0,9950.0,9950.0,9800.0,9800.0,9850.0,9850.0,9850.0,9850.0,9850.0,9850.0,9850.0,9850.0,9850.0,9850.0,9850.0,9850.0,9850.0,9850.0,9900.0,9900.0,9900.0,9900.0,9900.0,9900.0,9900.0,9900.0,9900.0,9900.0,9950.0,9950.0,9950.0,9967.0,9983.0,10000.0,10000.0,10000.0,9983.0,9967.0,9950.0,9950.0,9950.0,9950.0,9950.0,9950.0,9950.0,9950.0,9950.0,9950.0,9950.0,9950.0,9950.0,9950.0,9950.0,9950.0,9950.0,9950.0,9950.0,9950.0,9950.0,9950.0,9950.0,9950.0,9950.0,9950.0,9950.0,9950.0,9950.0,9850.0,9750.0,9750.0,9750.0,9750.0,9750.0,9750.0,9750.0,9750.0,9750.0,9750.0,9700.0,9700.0,9700.0,9700.0,9700.0,9700.0,9700.0,9700.0,9700.0,9700.0,9700.0,9700.0,9750.0,9750.0,9750.0,9750.0,9750.0,9750.0,9750.0,9750.0,9750.0,9750.0,9750.0,9750.0,9750.0,9750.0,9750.0,9750.0,9750.0,9750.0,9750.0,9750.0,9750.0,9700.0,9700.0,9700.0,9700.0,9700.0,9750.0,9750.0,9750.0,9750.0,9750.0,9750.0,9600.0,9600.0,9600.0,9600.0,9600.0,9600.0,9600.0,9750.0,9750.0,9750.0,9750.0,9750.0,9600.0,9600.0,9600.0,9600.0,9600.0,9600.0,9600.0,9600.0,9600.0,9600.0,9600.0,9600.0,9600.0,9600.0,9600.0,9600.0,9600.0,9600.0,9600.0,9600.0,9600.0,9600.0,9600.0,9600.0,9600.0,9600.0,9600.0,9600.0,9600.0,9600.0,9600.0,9600.0,9600.0,9600.0,9600.0,9600.0,9600.0,9600.0,9600.0,9600.0,9600.0,9600.0,9600.0,9600.0,9600.0,9600.0,9600.0,9600.0,9600.0,9600.0,9600.0,9600.0,9650.0,9600.0,9600.0,9600.0,9600.0,9600.0,9750.0,9800.0,9800.0,9800.0,9800.0,9800.0,9800.0,9800.0,9800.0,9800.0,9800.0,9800.0,9800.0,9800.0,9800.0,9800.0,9800.0,9800.0,9800.0,9800.0,9800.0,9750.0,9750.0,9700.0,9700.0,9700.0,9750.0,9750.0,9750.0,9750.0,9750.0,9750.0,9750.0,9750.0,9750.0,9700.0,9700.0,9700.0,9700.0,9700.0,9700.0,9700.0,9700.0,9700.0,9700.0,9700.0,9700.0,9700.0,9700.0,9700.0,9700.0,9700.0,9700.0,9700.0,9700.0,9700.0,9700.0,9700.0,9700.0,9700.0,9700.0,9700.0,9700.0,9700.0,9700.0,9700.0,9700.0,9700.0,9700.0,9700.0,9700.0,9750.0,9750.0,9750.0,9750.0,9750.0,9750.0,9750.0,9750.0,9750.0,9750.0,9750.0,9750.0,9750.0,9750.0,9750.0,9750.0,9750.0,9750.0,9750.0,9800.0,9800.0,9800.0,9800.0,9800.0,9800.0,9900.0,9900.0,10000.0,10000.0,10000.0,10000.0,10000.0,10000.0,10000.0,10000.0,10000.0,10000.0,10200.0,10200.0,10300.0,10300.0,10300.0,10300.0,10300.0,10300.0,10300.0,10300.0,10350.0,10350.0,10350.0,10300.0,10300.0,10300.0,10300.0,10300.0,10250.0,10250.0,10250.0,10250.0,10250.0,10400.0,10400.0,10200.0,10200.0,10200.0,10300.0,10300.0,10250.0,10300.0,10300.0,10300.0,10300.0,10300.0,10300.0,10300.0,10300.0,10300.0,10300.0,10275.0,10250.0,10250.0,10250.0,10250.0,10250.0,10250.0,10250.0,10250.0,10250.0,10250.0,10250.0,10250.0,10250.0,10200.0,10200.0,10200.0,10150.0,10150.0,10150.0,10150.0,10150.0,10150.0,10150.0,10150.0,10150.0,10150.0,10150.0,10150.0,10150.0,10150.0,10150.0,10150.0,10150.0,10150.0,10150.0,10150.0,10150.0,10150.0,10150.0,10150.0,10143.0,10136.0,10129.0,10121.0,10114.0,10107.0,10100.0,10100.0,10100.0,10100.0,10100.0,10100.0,10100.0,10100.0,10100.0,10100.0,10100.0,10100.0,10100.0,10100.0,10100.0,10100.0,10100.0,10100.0,10100.0,10100.0,10100.0,10100.0,10000.0,10000.0,10000.0,10000.0,10000.0,10100.0,10100.0,10100.0,10100.0,10100.0,10100.0,10100.0,10150.0,10150.0,10150.0,10150.0,10150.0,10150.0,10150.0,10150.0,10150.0,10150.0,10150.0,10150.0,10150.0,10150.0,10150.0,10150.0,10150.0,10150.0,10200.0,10200.0,10200.0,10300.0,10300.0,10300.0,10300.0,10250.0,10400.0,10400.0,10350.0,10350.0,10500.0,10850.0,10800.0,10900.0,10900.0,10950.0,11050.0,11050.0,11050.0,11050.0,11200.0,11150.0,11150.0,11150.0,11150.0,11150.0,11150.0,11150.0,11150.0,11150.0,11150.0,11200.0,11200.0,11250.0,11250.0,11250.0,11250.0,11250.0,11250.0,11250.0,11200.0,11200.0,11200.0,11050.0,11050.0,11050.0,11100.0,11100.0,11150.0,11150.0,11150.0,11150.0,11150.0,11200.0,11200.0,11175.0,11150.0,11150.0,11150.0,11150.0,11200.0,11150.0,11150.0,11100.0,11100.0,11150.0,11100.0,11100.0,11050.0,11050.0,11000.0,11000.0,11000.0,10850.0,10850.0,10900.0,10900.0,10900.0,10750.0,10750.0,10700.0,10700.0,10700.0,10800.0,10800.0,10700.0,10700.0,10700.0,10600.0,10600.0,10600.0,10600.0,10600.0,10800.0,10600.0,10600.0,10700.0,10700.0,11000.0,11000.0,10900.0,11000.0,11000.0,11150.0,11150.0,11150.0,11200.0,11200.0,11200.0,11200.0,11450.0,11450.0,11400.0,11400.0,11400.0,11400.0,11500.0,11600.0,11600.0,11600.0,11600.0,11650.0,11650.0,11650.0,11650.0,11650.0,11650.0,11650.0,11650.0,11650.0,11650.0,11750.0,11750.0,12100.0,12100.0,12100.0,12100.0,12100.0,12100.0,12100.0,12100.0,12100.0,12100.0,12100.0,12150.0,12150.0,12150.0,12150.0,12150.0,12150.0,12150.0,11950.0,11950.0,11950.0,11950.0,11750.0,11800.0,11800.0,11550.0,11550.0,11650.0,11400.0,11400.0,11350.0,11350.0,11350.0,11350.0,11350.0,11350.0,11350.0,11350.0,11550.0,11550.0,11567.0,11583.0,11600.0,11600.0,11600.0,11600.0,11600.0,11650.0,11650.0,11650.0,11550.0,11550.0,11550.0,11550.0,11550.0,11550.0,11550.0,11550.0,11550.0,11550.0,11550.0,11550.0,11550.0,11550.0,11550.0,11550.0,11550.0,11650.0,11650.0,11650.0,11400.0,11400.0,11400.0,11400.0,11400.0,11400.0,11400.0,11400.0,11400.0,11400.0,11400.0,11400.0,11400.0,11400.0,11400.0,11400.0,11400.0,11400.0,11450.0,11400.0,11400.0,11400.0,11400.0,11300.0,11300.0,11350.0,11350.0,11350.0,11350.0,11350.0,11300.0,11300.0,11250.0,11250.0,11250.0,11450.0,11450.0,11450.0,11450.0,11450.0,11450.0,11450.0,11450.0,11550.0,11550.0,11500.0,11500.0,11500.0,11750.0,11750.0,11800.0,11800.0,11800.0,11800.0,11800.0,11800.0,12000.0,12000.0,12050.0,12050.0,12050.0,12050.0,12150.0,12150.0,12150.0,12200.0,12200.0,12200.0,12250.0,12250.0,12250.0,12350.0,12350.0,12250.0,12450.0,12450.0,12450.0,12450.0,12450.0,12450.0,12450.0,12450.0,12450.0,12450.0,12450.0,12450.0,12450.0,12450.0,12650.0,12650.0,12950.0,12950.0,12950.0,13150.0,13150.0,13200.0,13200.0,13200.0,13350.0,13350.0,13350.0,13350.0,13350.0,13350.0,13350.0,13350.0,13350.0,13350.0,13400.0,13400.0,13350.0,13350.0,13350.0,13400.0,13400.0,13400.0,13400.0,13400.0,13400.0,13400.0,13350.0,13350.0,13350.0,13300.0,13300.0,13300.0,13300.0,13300.0,13250.0,13250.0,13250.0,13250.0,13200.0,13200.0,13200.0,13150.0,13150.0,13150.0,13200.0,13200.0,13200.0,13200.0,13250.0,13250.0,13250.0,13450.0,13450.0,13450.0,13450.0,13450.0,13450.0,13450.0,13450.0,13450.0,13450.0,13450.0,13450.0,13450.0,13450.0,13450.0,13450.0,13450.0,13450.0,13450.0,13450.0,13450.0,13450.0,13450.0,13450.0,13450.0,13450.0,13450.0,13450.0,13450.0,13450.0,13500.0,13500.0,13500.0,13450.0,13450.0,13450.0,13450.0,13450.0,13450.0,13450.0,13450.0,13450.0,13450.0,13500.0,13500.0,13500.0,13500.0,13450.0,13500.0,13500.0,13500.0,13500.0,13500.0,13500.0,13500.0,13500.0,13500.0,13500.0,13450.0,13450.0,13450.0,13450.0,13450.0,13500.0,13500.0,13500.0,13500.0,13450.0,13450.0,13450.0,13450.0,13450.0,13450.0,13400.0,13400.0,13450.0,13450.0,13450.0,13450.0,13450.0,13400.0,13400.0,13400.0,13400.0,13400.0,13400.0,13450.0,13450.0,13450.0,13450.0,13450.0,13400.0,13400.0,13400.0,13400.0,13300.0,13400.0,13400.0,13400.0,13400.0,13400.0,13400.0,13400.0,13400.0,13400.0,13400.0,13400.0,13350.0,13350.0,13350.0,13400.0,13400.0,13350.0,13350.0,13350.0,13350.0,13350.0,13350.0,13350.0,13350.0,13350.0,13350.0,13350.0,13400.0,13400.0,13350.0,13350.0,13350.0,13350.0,13350.0,13350.0,13350.0,13350.0,13350.0,13350.0,13350.0,13350.0,13350.0,13350.0,13350.0,13250.0,13250.0,13200.0,13200.0,13200.0,13250.0,13250.0,13250.0,13250.0,13250.0,13300.0,13300.0,13300.0,13350.0,13350.0,13350.0,13350.0,13350.0,13500.0,13500.0,13500.0,13500.0,13500.0,13500.0,13500.0,13500.0,13500.0,13500.0,13500.0,13500.0,13500.0,13500.0,13500.0,13500.0,13500.0,13500.0,13500.0,13500.0,13500.0,13500.0,13500.0,13500.0,13500.0,13550.0,13550.0,13550.0,13550.0,13550.0,13550.0,13550.0,13550.0,13550.0,13550.0,13550.0,13550.0,13500.0,13500.0,13550.0,13450.0,13450.0,13450.0,13450.0,13450.0],\"type\":\"scatter\"},{\"line\":{\"color\":\"green\",\"width\":2},\"mode\":\"lines\",\"name\":\"Prediksi Polinomial (Degree 4)\",\"x\":[1.0,5.070234113712375,9.14046822742475,13.210702341137125,17.2809364548495,21.351170568561873,25.42140468227425,29.491638795986624,33.561872909699,37.63210702341137,41.702341137123746,45.77257525083612,49.8428093645485,53.913043478260875,57.98327759197325,62.05351170568562,66.123745819398,70.19397993311037,74.26421404682274,78.33444816053512,82.40468227424749,86.47491638795987,90.54515050167224,94.61538461538461,98.685618729097,102.75585284280938,106.82608695652175,110.89632107023412,114.9665551839465,119.03678929765887,123.10702341137124,127.17725752508362,131.247491638796,135.31772575250838,139.38795986622074,143.45819397993313,147.5284280936455,151.59866220735788,155.66889632107024,159.73913043478262,163.80936454849498,167.87959866220737,171.94983277591973,176.02006688963212,180.09030100334448,184.16053511705687,188.23076923076923,192.30100334448161,196.371237458194,200.44147157190636,204.51170568561875,208.5819397993311,212.6521739130435,216.72240802675586,220.79264214046825,224.8628762541806,228.933110367893,233.00334448160535,237.07357859531774,241.1438127090301,245.2140468227425,249.28428093645485,253.35451505016724,257.4247491638796,261.494983277592,265.5652173913044,269.63545150501676,273.7056856187291,277.7759197324415,281.84615384615387,285.91638795986626,289.9866220735786,294.056856187291,298.12709030100336,302.19732441471575,306.2675585284281,310.33779264214047,314.40802675585286,318.47826086956525,322.5484949832776,326.61872909698997,330.68896321070235,334.75919732441474,338.82943143812713,342.89966555183946,346.96989966555185,351.04013377926424,355.1103678929766,359.18060200668896,363.25083612040135,367.32107023411373,371.3913043478261,375.46153846153845,379.53177257525084,383.60200668896323,387.6722408026756,391.742474916388,395.81270903010034,399.8829431438127,403.9531772575251,408.0234113712375,412.09364548494983,416.1638795986622,420.2341137123746,424.304347826087,428.3745819397993,432.4448160535117,436.5150501672241,440.5852842809365,444.6555183946488,448.7257525083612,452.7959866220736,456.866220735786,460.9364548494984,465.0066889632107,469.0769230769231,473.1471571906355,477.21739130434787,481.2876254180602,485.3578595317726,489.428093645485,493.49832775919737,497.5685618729097,501.6387959866221,505.7090301003345,509.77926421404686,513.8494983277592,517.9197324414716,521.989966555184,526.0602006688963,530.1304347826087,534.2006688963211,538.2709030100335,542.3411371237459,546.4113712374582,550.4816053511706,554.551839464883,558.6220735785953,562.6923076923077,566.7625418060201,570.8327759197325,574.9030100334448,578.9732441471572,583.0434782608696,587.113712374582,591.1839464882944,595.2541806020067,599.3244147157191,603.3946488294315,607.4648829431438,611.5351170568562,615.6053511705686,619.6755852842809,623.7458193979934,627.8160535117057,631.886287625418,635.9565217391305,640.0267558528428,644.0969899665552,648.1672240802676,652.2374581939799,656.3076923076924,660.3779264214047,664.448160535117,668.5183946488295,672.5886287625418,676.6588628762543,680.7290969899666,684.7993311036789,688.8695652173914,692.9397993311037,697.010033444816,701.0802675585285,705.1505016722408,709.2207357859533,713.2909698996656,717.3612040133779,721.4314381270904,725.5016722408027,729.5719063545151,733.6421404682275,737.7123745819398,741.7826086956522,745.8528428093646,749.9230769230769,753.9933110367894,758.0635451505017,762.1337792642141,766.2040133779265,770.2742474916388,774.3444816053512,778.4147157190636,782.484949832776,786.5551839464883,790.6254180602007,794.6956521739131,798.7658862876254,802.8361204013378,806.9063545150502,810.9765886287626,815.046822742475,819.1170568561873,823.1872909698997,827.2575250836121,831.3277591973244,835.3979933110368,839.4682274247492,843.5384615384615,847.608695652174,851.6789297658863,855.7491638795987,859.8193979933111,863.8896321070234,867.9598662207359,872.0301003344482,876.1003344481605,880.170568561873,884.2408026755853,888.3110367892976,892.3812709030101,896.4515050167224,900.5217391304349,904.5919732441472,908.6622073578595,912.732441471572,916.8026755852843,920.8729096989968,924.9431438127091,929.0133779264214,933.0836120401339,937.1538461538462,941.2240802675585,945.294314381271,949.3645484949833,953.4347826086957,957.5050167224081,961.5752508361204,965.6454849498328,969.7157190635452,973.7859531772575,977.85618729097,981.9264214046823,985.9966555183947,990.0668896321071,994.1371237458194,998.2073578595318,1002.2775919732442,1006.3478260869566,1010.418060200669,1014.4882943143813,1018.5585284280937,1022.628762541806,1026.6989966555184,1030.7692307692307,1034.8394648829433,1038.9096989966556,1042.979933110368,1047.0501672240803,1051.1204013377926,1055.1906354515052,1059.2608695652175,1063.3311036789298,1067.4013377926422,1071.4715719063545,1075.541806020067,1079.6120401337794,1083.6822742474917,1087.752508361204,1091.8227424749164,1095.8929765886287,1099.9632107023413,1104.0334448160536,1108.103678929766,1112.1739130434783,1116.2441471571906,1120.3143812709031,1124.3846153846155,1128.4548494983278,1132.5250836120401,1136.5953177257525,1140.665551839465,1144.7357859531774,1148.8060200668897,1152.876254180602,1156.9464882943143,1161.016722408027,1165.0869565217392,1169.1571906354516,1173.227424749164,1177.2976588628762,1181.3678929765888,1185.4381270903011,1189.5083612040135,1193.5785953177258,1197.6488294314381,1201.7190635451504,1205.789297658863,1209.8595317725753,1213.9297658862877,1218.0],\"y\":[9735.269969968516,9750.896192455908,9765.765659334176,9779.894835423322,9793.30006335046,9805.997563549816,9818.003434262724,9829.333651537634,9840.004069230099,9850.03041900279,9859.428310325482,9868.213230475065,9876.400544535538,9884.005495398009,9891.043203760702,9897.528668128944,9903.47676481518,9908.902247938957,9913.819749426943,9918.243779012906,9922.188724237732,9925.668850449418,9928.698300803062,9931.291096260886,9933.461135592212,9935.222195373477,9936.587929988229,9937.571871627124,9938.187430287931,9938.44789377553,9938.366427701907,9937.956075486163,9937.229758354511,9936.200275340268,9934.880303283868,9933.282396832852,9931.418988441872,9929.302388372693,9926.944784694186,9924.358243282339,9921.554707820242,9918.545999798103,9915.34381851324,9911.959741070075,9908.405222380148,9904.691595162107,9900.830069941709,9896.831735051823,9892.707556632426,9888.468378630612,9884.124922800578,9879.687788703637,9875.167453708209,9870.574272989828,9865.918479531136,9861.210184121885,9856.459375358938,9851.675919646274,9846.869561194972,9842.04992202323,9837.226501956357,9832.408678626764,9827.605707473982,9822.826721744646,9818.080732492508,9813.376628578424,9808.723176670364,9804.129021243407,9799.602684579744,9795.152566768678,9790.786945706617,9786.513977097087,9782.341694450719,9778.278009085256,9774.33071012555,9770.50746450357,9766.815816958386,9763.263190036188,9759.856884090268,9756.604077281037,9753.511825576008,9750.587062749812,9747.836600384184,9745.267127867977,9742.885212397146,9740.697298974765,9738.709710411013,9736.928647323179,9735.360188135668,9734.01028907999,9732.88478419477,9731.98938532574,9731.329682125743,9730.911142054734,9730.739110379782,9730.818810175055,9731.155342321845,9731.753685508547,9732.61869623067,9733.755108790827,9735.167535298751,9736.86046567128,9738.838267632362,9741.105186713059,9743.665346251539,9746.522747393088,9749.681269090093,9753.144668102059,9756.916578995597,9761.000514144433,9765.399863729397,9770.117895738438,9775.157755966608,9780.522468016074,9786.214933296113,9792.23793102311,9798.594118220562,9805.286029719082,9812.31607815638,9819.686553977293,9827.399625433756,9835.457338584822,9843.861617296649,9852.61426324251,9861.716955902786,9871.171252564971,9880.978588323664,9891.140276080585,9901.657506544552,9912.531348231501,9923.762747464481,9935.352528373644,9947.301392896255,9959.609920776697,9972.278569566452,9985.307674624119,9998.69744911541,10012.447984013139,10026.55924809724,10041.031087954747,10055.86322797982,10071.055270373714,10086.606695144801,10102.516860108566,10118.785000887603,10135.410230911612,10152.391541417406,10169.727801448915,10187.417757857174,10205.460035300322,10223.853136243626,10242.595440959443,10261.685207527253,10281.120571833651,10300.899547572326,10321.020026244096,10341.479777156872,10362.27644742569,10383.407561972688,10404.870523527119,10426.66261262535,10448.780987610846,10471.222684634193,10493.984617653083,10517.063578432322,10540.456236543825,10564.159139366617,10588.168712086836,10612.481257697722,10637.092956999639,10661.99986860005,10687.197928913536,10712.682952161787,10738.450630373598,10764.496533384881,10790.81610883866,10817.404682185059,10844.257456681327,10871.369513391806,10898.735811187968,10926.351186748383,10954.210354558734,10982.307906911816,11010.638313907533,11039.195923452906,11067.974961262056,11096.969530856213,11126.17361356374,11155.581068520081,11185.185632667804,11214.980920756605,11244.960425343252,11275.117516791655,11305.445443272829,11335.937330764886,11366.586183053063,11397.3848817297,11428.326186194254,11459.402733653276,11490.607039120458,11521.93149541657,11553.368373169511,11584.909820814288,11616.547864593016,11648.274408554928,11680.08123455635,11711.96000226074,11743.902249138644,11775.899390467745,11807.942719332812,11840.02340662574,11872.13250104553,11904.26092909829,11936.399495097245,11968.538881162724,12000.669647222167,12032.78223101014,12064.866948068298,12096.913991745414,12128.913433197378,12160.855221387179,12192.729183084928,12224.525022867843,12256.232323120244,12287.840544033581,12319.339023606393,12350.71697764434,12381.963499760197,12413.067561373835,12444.018011712247,12474.803577809538,12505.41286450693,12535.834354452722,12566.05640810237,12596.0672637184,12625.855037370471,12655.407722935353,12684.713192096915,12713.759194346145,12742.53335698114,12771.023185107104,12799.216061636362,12827.099247288332,12854.659880589552,12881.884977873684,12908.761433281483,12935.276018760804,12961.41538406665,12987.1660567611,13012.514442213345,13037.446823599723,13061.949361903637,13086.008095915633,13109.608942233344,13132.737695261538,13155.380027212068,13177.521488103921,13199.147505763167,13220.24338582302,13240.794311723772,13260.785344712864,13280.2014238448,13299.027365981221,13317.247865790901,13334.847495749671,13351.810706140523,13368.121825053526,13383.76505838588,13398.724489841874,13412.98408093294,13426.527670977595,13439.338977101464,13451.401594237293,13462.698995124943,13473.214530311398,13482.9314281507,13491.832794804046,13499.901614239749,13507.120748233207,13513.47293636694,13518.940796030576,13523.506822420852,13527.153388541628,13529.862745203867,13531.6170210256,13532.398222432068,13532.18823365553,13530.968816735383,13528.721611518165,13525.428135657494,13521.069784614097,13515.627831655811,13509.083427857615,13501.417602101552,13492.61126107682,13482.645189279687,13471.500049013583,13459.156380388962,13445.594601323512,13430.7950075419],\"type\":\"scatter\"}],                        {\"template\":{\"data\":{\"histogram2dcontour\":[{\"type\":\"histogram2dcontour\",\"colorbar\":{\"outlinewidth\":0,\"ticks\":\"\"},\"colorscale\":[[0.0,\"#0d0887\"],[0.1111111111111111,\"#46039f\"],[0.2222222222222222,\"#7201a8\"],[0.3333333333333333,\"#9c179e\"],[0.4444444444444444,\"#bd3786\"],[0.5555555555555556,\"#d8576b\"],[0.6666666666666666,\"#ed7953\"],[0.7777777777777778,\"#fb9f3a\"],[0.8888888888888888,\"#fdca26\"],[1.0,\"#f0f921\"]]}],\"choropleth\":[{\"type\":\"choropleth\",\"colorbar\":{\"outlinewidth\":0,\"ticks\":\"\"}}],\"histogram2d\":[{\"type\":\"histogram2d\",\"colorbar\":{\"outlinewidth\":0,\"ticks\":\"\"},\"colorscale\":[[0.0,\"#0d0887\"],[0.1111111111111111,\"#46039f\"],[0.2222222222222222,\"#7201a8\"],[0.3333333333333333,\"#9c179e\"],[0.4444444444444444,\"#bd3786\"],[0.5555555555555556,\"#d8576b\"],[0.6666666666666666,\"#ed7953\"],[0.7777777777777778,\"#fb9f3a\"],[0.8888888888888888,\"#fdca26\"],[1.0,\"#f0f921\"]]}],\"heatmap\":[{\"type\":\"heatmap\",\"colorbar\":{\"outlinewidth\":0,\"ticks\":\"\"},\"colorscale\":[[0.0,\"#0d0887\"],[0.1111111111111111,\"#46039f\"],[0.2222222222222222,\"#7201a8\"],[0.3333333333333333,\"#9c179e\"],[0.4444444444444444,\"#bd3786\"],[0.5555555555555556,\"#d8576b\"],[0.6666666666666666,\"#ed7953\"],[0.7777777777777778,\"#fb9f3a\"],[0.8888888888888888,\"#fdca26\"],[1.0,\"#f0f921\"]]}],\"heatmapgl\":[{\"type\":\"heatmapgl\",\"colorbar\":{\"outlinewidth\":0,\"ticks\":\"\"},\"colorscale\":[[0.0,\"#0d0887\"],[0.1111111111111111,\"#46039f\"],[0.2222222222222222,\"#7201a8\"],[0.3333333333333333,\"#9c179e\"],[0.4444444444444444,\"#bd3786\"],[0.5555555555555556,\"#d8576b\"],[0.6666666666666666,\"#ed7953\"],[0.7777777777777778,\"#fb9f3a\"],[0.8888888888888888,\"#fdca26\"],[1.0,\"#f0f921\"]]}],\"contourcarpet\":[{\"type\":\"contourcarpet\",\"colorbar\":{\"outlinewidth\":0,\"ticks\":\"\"}}],\"contour\":[{\"type\":\"contour\",\"colorbar\":{\"outlinewidth\":0,\"ticks\":\"\"},\"colorscale\":[[0.0,\"#0d0887\"],[0.1111111111111111,\"#46039f\"],[0.2222222222222222,\"#7201a8\"],[0.3333333333333333,\"#9c179e\"],[0.4444444444444444,\"#bd3786\"],[0.5555555555555556,\"#d8576b\"],[0.6666666666666666,\"#ed7953\"],[0.7777777777777778,\"#fb9f3a\"],[0.8888888888888888,\"#fdca26\"],[1.0,\"#f0f921\"]]}],\"surface\":[{\"type\":\"surface\",\"colorbar\":{\"outlinewidth\":0,\"ticks\":\"\"},\"colorscale\":[[0.0,\"#0d0887\"],[0.1111111111111111,\"#46039f\"],[0.2222222222222222,\"#7201a8\"],[0.3333333333333333,\"#9c179e\"],[0.4444444444444444,\"#bd3786\"],[0.5555555555555556,\"#d8576b\"],[0.6666666666666666,\"#ed7953\"],[0.7777777777777778,\"#fb9f3a\"],[0.8888888888888888,\"#fdca26\"],[1.0,\"#f0f921\"]]}],\"mesh3d\":[{\"type\":\"mesh3d\",\"colorbar\":{\"outlinewidth\":0,\"ticks\":\"\"}}],\"scatter\":[{\"fillpattern\":{\"fillmode\":\"overlay\",\"size\":10,\"solidity\":0.2},\"type\":\"scatter\"}],\"parcoords\":[{\"type\":\"parcoords\",\"line\":{\"colorbar\":{\"outlinewidth\":0,\"ticks\":\"\"}}}],\"scatterpolargl\":[{\"type\":\"scatterpolargl\",\"marker\":{\"colorbar\":{\"outlinewidth\":0,\"ticks\":\"\"}}}],\"bar\":[{\"error_x\":{\"color\":\"#2a3f5f\"},\"error_y\":{\"color\":\"#2a3f5f\"},\"marker\":{\"line\":{\"color\":\"#E5ECF6\",\"width\":0.5},\"pattern\":{\"fillmode\":\"overlay\",\"size\":10,\"solidity\":0.2}},\"type\":\"bar\"}],\"scattergeo\":[{\"type\":\"scattergeo\",\"marker\":{\"colorbar\":{\"outlinewidth\":0,\"ticks\":\"\"}}}],\"scatterpolar\":[{\"type\":\"scatterpolar\",\"marker\":{\"colorbar\":{\"outlinewidth\":0,\"ticks\":\"\"}}}],\"histogram\":[{\"marker\":{\"pattern\":{\"fillmode\":\"overlay\",\"size\":10,\"solidity\":0.2}},\"type\":\"histogram\"}],\"scattergl\":[{\"type\":\"scattergl\",\"marker\":{\"colorbar\":{\"outlinewidth\":0,\"ticks\":\"\"}}}],\"scatter3d\":[{\"type\":\"scatter3d\",\"line\":{\"colorbar\":{\"outlinewidth\":0,\"ticks\":\"\"}},\"marker\":{\"colorbar\":{\"outlinewidth\":0,\"ticks\":\"\"}}}],\"scattermapbox\":[{\"type\":\"scattermapbox\",\"marker\":{\"colorbar\":{\"outlinewidth\":0,\"ticks\":\"\"}}}],\"scatterternary\":[{\"type\":\"scatterternary\",\"marker\":{\"colorbar\":{\"outlinewidth\":0,\"ticks\":\"\"}}}],\"scattercarpet\":[{\"type\":\"scattercarpet\",\"marker\":{\"colorbar\":{\"outlinewidth\":0,\"ticks\":\"\"}}}],\"carpet\":[{\"aaxis\":{\"endlinecolor\":\"#2a3f5f\",\"gridcolor\":\"white\",\"linecolor\":\"white\",\"minorgridcolor\":\"white\",\"startlinecolor\":\"#2a3f5f\"},\"baxis\":{\"endlinecolor\":\"#2a3f5f\",\"gridcolor\":\"white\",\"linecolor\":\"white\",\"minorgridcolor\":\"white\",\"startlinecolor\":\"#2a3f5f\"},\"type\":\"carpet\"}],\"table\":[{\"cells\":{\"fill\":{\"color\":\"#EBF0F8\"},\"line\":{\"color\":\"white\"}},\"header\":{\"fill\":{\"color\":\"#C8D4E3\"},\"line\":{\"color\":\"white\"}},\"type\":\"table\"}],\"barpolar\":[{\"marker\":{\"line\":{\"color\":\"#E5ECF6\",\"width\":0.5},\"pattern\":{\"fillmode\":\"overlay\",\"size\":10,\"solidity\":0.2}},\"type\":\"barpolar\"}],\"pie\":[{\"automargin\":true,\"type\":\"pie\"}]},\"layout\":{\"autotypenumbers\":\"strict\",\"colorway\":[\"#636efa\",\"#EF553B\",\"#00cc96\",\"#ab63fa\",\"#FFA15A\",\"#19d3f3\",\"#FF6692\",\"#B6E880\",\"#FF97FF\",\"#FECB52\"],\"font\":{\"color\":\"#2a3f5f\"},\"hovermode\":\"closest\",\"hoverlabel\":{\"align\":\"left\"},\"paper_bgcolor\":\"white\",\"plot_bgcolor\":\"#E5ECF6\",\"polar\":{\"bgcolor\":\"#E5ECF6\",\"angularaxis\":{\"gridcolor\":\"white\",\"linecolor\":\"white\",\"ticks\":\"\"},\"radialaxis\":{\"gridcolor\":\"white\",\"linecolor\":\"white\",\"ticks\":\"\"}},\"ternary\":{\"bgcolor\":\"#E5ECF6\",\"aaxis\":{\"gridcolor\":\"white\",\"linecolor\":\"white\",\"ticks\":\"\"},\"baxis\":{\"gridcolor\":\"white\",\"linecolor\":\"white\",\"ticks\":\"\"},\"caxis\":{\"gridcolor\":\"white\",\"linecolor\":\"white\",\"ticks\":\"\"}},\"coloraxis\":{\"colorbar\":{\"outlinewidth\":0,\"ticks\":\"\"}},\"colorscale\":{\"sequential\":[[0.0,\"#0d0887\"],[0.1111111111111111,\"#46039f\"],[0.2222222222222222,\"#7201a8\"],[0.3333333333333333,\"#9c179e\"],[0.4444444444444444,\"#bd3786\"],[0.5555555555555556,\"#d8576b\"],[0.6666666666666666,\"#ed7953\"],[0.7777777777777778,\"#fb9f3a\"],[0.8888888888888888,\"#fdca26\"],[1.0,\"#f0f921\"]],\"sequentialminus\":[[0.0,\"#0d0887\"],[0.1111111111111111,\"#46039f\"],[0.2222222222222222,\"#7201a8\"],[0.3333333333333333,\"#9c179e\"],[0.4444444444444444,\"#bd3786\"],[0.5555555555555556,\"#d8576b\"],[0.6666666666666666,\"#ed7953\"],[0.7777777777777778,\"#fb9f3a\"],[0.8888888888888888,\"#fdca26\"],[1.0,\"#f0f921\"]],\"diverging\":[[0,\"#8e0152\"],[0.1,\"#c51b7d\"],[0.2,\"#de77ae\"],[0.3,\"#f1b6da\"],[0.4,\"#fde0ef\"],[0.5,\"#f7f7f7\"],[0.6,\"#e6f5d0\"],[0.7,\"#b8e186\"],[0.8,\"#7fbc41\"],[0.9,\"#4d9221\"],[1,\"#276419\"]]},\"xaxis\":{\"gridcolor\":\"white\",\"linecolor\":\"white\",\"ticks\":\"\",\"title\":{\"standoff\":15},\"zerolinecolor\":\"white\",\"automargin\":true,\"zerolinewidth\":2},\"yaxis\":{\"gridcolor\":\"white\",\"linecolor\":\"white\",\"ticks\":\"\",\"title\":{\"standoff\":15},\"zerolinecolor\":\"white\",\"automargin\":true,\"zerolinewidth\":2},\"scene\":{\"xaxis\":{\"backgroundcolor\":\"#E5ECF6\",\"gridcolor\":\"white\",\"linecolor\":\"white\",\"showbackground\":true,\"ticks\":\"\",\"zerolinecolor\":\"white\",\"gridwidth\":2},\"yaxis\":{\"backgroundcolor\":\"#E5ECF6\",\"gridcolor\":\"white\",\"linecolor\":\"white\",\"showbackground\":true,\"ticks\":\"\",\"zerolinecolor\":\"white\",\"gridwidth\":2},\"zaxis\":{\"backgroundcolor\":\"#E5ECF6\",\"gridcolor\":\"white\",\"linecolor\":\"white\",\"showbackground\":true,\"ticks\":\"\",\"zerolinecolor\":\"white\",\"gridwidth\":2}},\"shapedefaults\":{\"line\":{\"color\":\"#2a3f5f\"}},\"annotationdefaults\":{\"arrowcolor\":\"#2a3f5f\",\"arrowhead\":0,\"arrowwidth\":1},\"geo\":{\"bgcolor\":\"white\",\"landcolor\":\"#E5ECF6\",\"subunitcolor\":\"white\",\"showland\":true,\"showlakes\":true,\"lakecolor\":\"white\"},\"title\":{\"x\":0.05},\"mapbox\":{\"style\":\"light\"}}},\"title\":{\"text\":\"Prediksi Harga Beras dengan Regresi Polinomial Degree 4\",\"x\":0.5},\"xaxis\":{\"title\":{\"text\":\"Independent Variabel\"},\"tickangle\":-45,\"showgrid\":true,\"gridcolor\":\"lightgrey\"},\"yaxis\":{\"title\":{\"text\":\"Harga Beras\"},\"tickformat\":\"d\",\"showgrid\":true,\"gridcolor\":\"lightgrey\"},\"font\":{\"family\":\"Arial, sans-serif\",\"size\":12},\"legend\":{\"x\":0.5,\"y\":1.1,\"xanchor\":\"center\",\"yanchor\":\"top\",\"orientation\":\"h\"},\"width\":1000,\"height\":600,\"plot_bgcolor\":\"white\",\"shapes\":[{\"line\":{\"color\":\"black\",\"width\":1},\"type\":\"rect\",\"x0\":0,\"x1\":1,\"xref\":\"paper\",\"y0\":0,\"y1\":1,\"yref\":\"paper\"}]},                        {\"responsive\": true}                    ).then(function(){\n",
              "                            \n",
              "var gd = document.getElementById('d88ca3a9-dae9-4d44-bbf3-7c8754720671');\n",
              "var x = new MutationObserver(function (mutations, observer) {{\n",
              "        var display = window.getComputedStyle(gd).display;\n",
              "        if (!display || display === 'none') {{\n",
              "            console.log([gd, 'removed!']);\n",
              "            Plotly.purge(gd);\n",
              "            observer.disconnect();\n",
              "        }}\n",
              "}});\n",
              "\n",
              "// Listen for the removal of the full notebook cells\n",
              "var notebookContainer = gd.closest('#notebook-container');\n",
              "if (notebookContainer) {{\n",
              "    x.observe(notebookContainer, {childList: true});\n",
              "}}\n",
              "\n",
              "// Listen for the clearing of the current output cell\n",
              "var outputEl = gd.closest('.output');\n",
              "if (outputEl) {{\n",
              "    x.observe(outputEl, {childList: true});\n",
              "}}\n",
              "\n",
              "                        })                };                            </script>        </div>\n",
              "</body>\n",
              "</html>"
            ]
          },
          "metadata": {}
        }
      ]
    },
    {
      "cell_type": "code",
      "source": [
        "X_smooth = np.linspace(X.min(), X.max(), 300).reshape(-1, 1)\n",
        "poly_5 = PolynomialFeatures(degree=5)\n",
        "X_smooth_poly_5 = poly_5.fit_transform(X_smooth)\n",
        "Y_pred_poly_5_smooth = poly_5_model.predict(X_smooth_poly_5)\n",
        "\n",
        "fig = go.Figure()\n",
        "\n",
        "fig.add_trace(go.Scatter(\n",
        "    x=X.flatten(),\n",
        "    y=Y,\n",
        "    mode='markers',\n",
        "    marker=dict(color='blue', size=6, opacity=0.6),\n",
        "    name='Data Asli'\n",
        "))\n",
        "\n",
        "fig.add_trace(go.Scatter(\n",
        "    x=X_smooth.flatten(),\n",
        "    y=Y_pred_poly_4_smooth,\n",
        "    mode='lines',\n",
        "    line=dict(color='green', width=2),\n",
        "    name='Prediksi Polinomial (Degree 5)'\n",
        "))\n",
        "\n",
        "fig.update_layout(\n",
        "    title=dict(text=\"Prediksi Harga Beras dengan Regresi Polinomial Degree 5\", x=0.5),\n",
        "    xaxis=dict(title=\"Independent Variabel\", tickangle=-45, showgrid=True, gridcolor='lightgrey'),\n",
        "    yaxis=dict(title=\"Harga Beras\", tickformat='d', showgrid=True, gridcolor='lightgrey'),\n",
        "    width=1000,\n",
        "    height=600,\n",
        "    plot_bgcolor='white',\n",
        "    font=dict(family=\"Arial, sans-serif\", size=12),\n",
        "    shapes=[dict(\n",
        "        type=\"rect\", x0=0, y0=0, x1=1, y1=1, xref=\"paper\", yref=\"paper\",\n",
        "        line=dict(color=\"black\", width=1)\n",
        "    )],\n",
        "    legend=dict(\n",
        "        x=0.5, y=1.1, xanchor=\"center\", yanchor=\"top\", orientation=\"h\"\n",
        "    )\n",
        ")\n",
        "fig.show()\n"
      ],
      "metadata": {
        "colab": {
          "base_uri": "https://localhost:8080/",
          "height": 617
        },
        "id": "_7XQRD9-PKMi",
        "outputId": "a9dce670-ccff-4964-f761-bf0e29f53abe"
      },
      "execution_count": 24,
      "outputs": [
        {
          "output_type": "display_data",
          "data": {
            "text/html": [
              "<html>\n",
              "<head><meta charset=\"utf-8\" /></head>\n",
              "<body>\n",
              "    <div>            <script src=\"https://cdnjs.cloudflare.com/ajax/libs/mathjax/2.7.5/MathJax.js?config=TeX-AMS-MML_SVG\"></script><script type=\"text/javascript\">if (window.MathJax && window.MathJax.Hub && window.MathJax.Hub.Config) {window.MathJax.Hub.Config({SVG: {font: \"STIX-Web\"}});}</script>                <script type=\"text/javascript\">window.PlotlyConfig = {MathJaxConfig: 'local'};</script>\n",
              "        <script charset=\"utf-8\" src=\"https://cdn.plot.ly/plotly-2.35.2.min.js\"></script>                <div id=\"aad5448d-c0a8-443f-bbfb-66f031f65b03\" class=\"plotly-graph-div\" style=\"height:600px; width:1000px;\"></div>            <script type=\"text/javascript\">                                    window.PLOTLYENV=window.PLOTLYENV || {};                                    if (document.getElementById(\"aad5448d-c0a8-443f-bbfb-66f031f65b03\")) {                    Plotly.newPlot(                        \"aad5448d-c0a8-443f-bbfb-66f031f65b03\",                        [{\"marker\":{\"color\":\"blue\",\"opacity\":0.6,\"size\":6},\"mode\":\"markers\",\"name\":\"Data Asli\",\"x\":[1,2,3,4,5,6,7,8,9,10,11,12,13,14,15,16,17,18,19,20,21,22,23,24,25,26,27,28,29,30,31,32,33,34,35,36,37,38,39,40,41,42,43,44,45,46,47,48,49,50,51,52,53,54,55,56,57,58,59,60,61,62,63,64,65,66,67,68,69,70,71,72,73,74,75,76,77,78,79,80,81,82,83,84,85,86,87,88,89,90,91,92,93,94,95,96,97,98,99,100,101,102,103,104,105,106,107,108,109,110,111,112,113,114,115,116,117,118,119,120,121,122,123,124,125,126,127,128,129,130,131,132,133,134,135,136,137,138,139,140,141,142,143,144,145,146,147,148,149,150,151,152,153,154,155,156,157,158,159,160,161,162,163,164,165,166,167,168,169,170,171,172,173,174,175,176,177,178,179,180,181,182,183,184,185,186,187,188,189,190,191,192,193,194,195,196,197,198,199,200,201,202,203,204,205,206,207,208,209,210,211,212,213,214,215,216,217,218,219,220,221,222,223,224,225,226,227,228,229,230,231,232,233,234,235,236,237,238,239,240,241,242,243,244,245,246,247,248,249,250,251,252,253,254,255,256,257,258,259,260,261,262,263,264,265,266,267,268,269,270,271,272,273,274,275,276,277,278,279,280,281,282,283,284,285,286,287,288,289,290,291,292,293,294,295,296,297,298,299,300,301,302,303,304,305,306,307,308,309,310,311,312,313,314,315,316,317,318,319,320,321,322,323,324,325,326,327,328,329,330,331,332,333,334,335,336,337,338,339,340,341,342,343,344,345,346,347,348,349,350,351,352,353,354,355,356,357,358,359,360,361,362,363,364,365,366,367,368,369,370,371,372,373,374,375,376,377,378,379,380,381,382,383,384,385,386,387,388,389,390,391,392,393,394,395,396,397,398,399,400,401,402,403,404,405,406,407,408,409,410,411,412,413,414,415,416,417,418,419,420,421,422,423,424,425,426,427,428,429,430,431,432,433,434,435,436,437,438,439,440,441,442,443,444,445,446,447,448,449,450,451,452,453,454,455,456,457,458,459,460,461,462,463,464,465,466,467,468,469,470,471,472,473,474,475,476,477,478,479,480,481,482,483,484,485,486,487,488,489,490,491,492,493,494,495,496,497,498,499,500,501,502,503,504,505,506,507,508,509,510,511,512,513,514,515,516,517,518,519,520,521,522,523,524,525,526,527,528,529,530,531,532,533,534,535,536,537,538,539,540,541,542,543,544,545,546,547,548,549,550,551,552,553,554,555,556,557,558,559,560,561,562,563,564,565,566,567,568,569,570,571,572,573,574,575,576,577,578,579,580,581,582,583,584,585,586,587,588,589,590,591,592,593,594,595,596,597,598,599,600,601,602,603,604,605,606,607,608,609,610,611,612,613,614,615,616,617,618,619,620,621,622,623,624,625,626,627,628,629,630,631,632,633,634,635,636,637,638,639,640,641,642,643,644,645,646,647,648,649,650,651,652,653,654,655,656,657,658,659,660,661,662,663,664,665,666,667,668,669,670,671,672,673,674,675,676,677,678,679,680,681,682,683,684,685,686,687,688,689,690,691,692,693,694,695,696,697,698,699,700,701,702,703,704,705,706,707,708,709,710,711,712,713,714,715,716,717,718,719,720,721,722,723,724,725,726,727,728,729,730,731,732,733,734,735,736,737,738,739,740,741,742,743,744,745,746,747,748,749,750,751,752,753,754,755,756,757,758,759,760,761,762,763,764,765,766,767,768,769,770,771,772,773,774,775,776,777,778,779,780,781,782,783,784,785,786,787,788,789,790,791,792,793,794,795,796,797,798,799,800,801,802,803,804,805,806,807,808,809,810,811,812,813,814,815,816,817,818,819,820,821,822,823,824,825,826,827,828,829,830,831,832,833,834,835,836,837,838,839,840,841,842,843,844,845,846,847,848,849,850,851,852,853,854,855,856,857,858,859,860,861,862,863,864,865,866,867,868,869,870,871,872,873,874,875,876,877,878,879,880,881,882,883,884,885,886,887,888,889,890,891,892,893,894,895,896,897,898,899,900,901,902,903,904,905,906,907,908,909,910,911,912,913,914,915,916,917,918,919,920,921,922,923,924,925,926,927,928,929,930,931,932,933,934,935,936,937,938,939,940,941,942,943,944,945,946,947,948,949,950,951,952,953,954,955,956,957,958,959,960,961,962,963,964,965,966,967,968,969,970,971,972,973,974,975,976,977,978,979,980,981,982,983,984,985,986,987,988,989,990,991,992,993,994,995,996,997,998,999,1000,1001,1002,1003,1004,1005,1006,1007,1008,1009,1010,1011,1012,1013,1014,1015,1016,1017,1018,1019,1020,1021,1022,1023,1024,1025,1026,1027,1028,1029,1030,1031,1032,1033,1034,1035,1036,1037,1038,1039,1040,1041,1042,1043,1044,1045,1046,1047,1048,1049,1050,1051,1052,1053,1054,1055,1056,1057,1058,1059,1060,1061,1062,1063,1064,1065,1066,1067,1068,1069,1070,1071,1072,1073,1074,1075,1076,1077,1078,1079,1080,1081,1082,1083,1084,1085,1086,1087,1088,1089,1090,1091,1092,1093,1094,1095,1096,1097,1098,1099,1100,1101,1102,1103,1104,1105,1106,1107,1108,1109,1110,1111,1112,1113,1114,1115,1116,1117,1118,1119,1120,1121,1122,1123,1124,1125,1126,1127,1128,1129,1130,1131,1132,1133,1134,1135,1136,1137,1138,1139,1140,1141,1142,1143,1144,1145,1146,1147,1148,1149,1150,1151,1152,1153,1154,1155,1156,1157,1158,1159,1160,1161,1162,1163,1164,1165,1166,1167,1168,1169,1170,1171,1172,1173,1174,1175,1176,1177,1178,1179,1180,1181,1182,1183,1184,1185,1186,1187,1188,1189,1190,1191,1192,1193,1194,1195,1196,1197,1198,1199,1200,1201,1202,1203,1204,1205,1206,1207,1208,1209,1210,1211,1212,1213,1214,1215,1216,1217,1218],\"y\":[10000.0,10000.0,10000.0,10000.0,10000.0,10000.0,10000.0,10000.0,10000.0,10000.0,10000.0,10000.0,10000.0,10000.0,10000.0,10000.0,10000.0,10000.0,10050.0,10050.0,10050.0,10050.0,10050.0,10050.0,10050.0,10050.0,10050.0,10050.0,10050.0,10050.0,10050.0,10050.0,10050.0,10050.0,10050.0,10050.0,10050.0,10050.0,9400.0,9400.0,9400.0,9400.0,9400.0,9400.0,9400.0,9400.0,9400.0,9400.0,9400.0,9400.0,9400.0,9400.0,9400.0,9450.0,9450.0,9450.0,9450.0,9450.0,9600.0,9600.0,9600.0,9600.0,9600.0,9650.0,9650.0,9700.0,9700.0,9700.0,9750.0,9750.0,9750.0,9750.0,9750.0,9750.0,9750.0,9750.0,9750.0,9750.0,9750.0,9750.0,9750.0,9750.0,9750.0,9750.0,9750.0,9750.0,9750.0,9800.0,9850.0,9850.0,9850.0,9850.0,9850.0,9850.0,9850.0,9850.0,9850.0,9850.0,9850.0,9850.0,9900.0,9912.0,9925.0,9938.0,9950.0,9950.0,9950.0,9950.0,9950.0,9950.0,9950.0,9950.0,9950.0,9900.0,9900.0,9850.0,9850.0,9850.0,9850.0,9900.0,9900.0,9900.0,9900.0,9950.0,9950.0,9950.0,9950.0,9950.0,9950.0,9950.0,9950.0,9950.0,9950.0,9950.0,9950.0,9950.0,9950.0,9950.0,9950.0,9950.0,9950.0,9950.0,9950.0,9950.0,9950.0,9950.0,9950.0,9950.0,9950.0,9950.0,9950.0,9950.0,9950.0,9950.0,9950.0,9950.0,9950.0,9950.0,9950.0,9950.0,9950.0,9950.0,9950.0,9950.0,9950.0,9950.0,9933.0,9917.0,9900.0,9900.0,9900.0,9900.0,9900.0,9950.0,9950.0,9950.0,9950.0,9950.0,9950.0,9950.0,9950.0,9950.0,9950.0,9950.0,9950.0,9950.0,9950.0,9950.0,9950.0,9950.0,9950.0,9950.0,9950.0,9950.0,10000.0,9950.0,9950.0,9950.0,9950.0,9950.0,9950.0,9950.0,9950.0,9950.0,9950.0,9950.0,9950.0,9950.0,9950.0,9950.0,9950.0,9950.0,9950.0,9950.0,9950.0,9950.0,9950.0,9950.0,9950.0,9950.0,9950.0,9950.0,9950.0,9950.0,9950.0,9950.0,9950.0,9800.0,9800.0,9850.0,9850.0,9850.0,9850.0,9850.0,9850.0,9850.0,9850.0,9850.0,9850.0,9850.0,9850.0,9850.0,9850.0,9900.0,9900.0,9900.0,9900.0,9900.0,9900.0,9900.0,9900.0,9900.0,9900.0,9950.0,9950.0,9950.0,9967.0,9983.0,10000.0,10000.0,10000.0,9983.0,9967.0,9950.0,9950.0,9950.0,9950.0,9950.0,9950.0,9950.0,9950.0,9950.0,9950.0,9950.0,9950.0,9950.0,9950.0,9950.0,9950.0,9950.0,9950.0,9950.0,9950.0,9950.0,9950.0,9950.0,9950.0,9950.0,9950.0,9950.0,9950.0,9950.0,9850.0,9750.0,9750.0,9750.0,9750.0,9750.0,9750.0,9750.0,9750.0,9750.0,9750.0,9700.0,9700.0,9700.0,9700.0,9700.0,9700.0,9700.0,9700.0,9700.0,9700.0,9700.0,9700.0,9750.0,9750.0,9750.0,9750.0,9750.0,9750.0,9750.0,9750.0,9750.0,9750.0,9750.0,9750.0,9750.0,9750.0,9750.0,9750.0,9750.0,9750.0,9750.0,9750.0,9750.0,9700.0,9700.0,9700.0,9700.0,9700.0,9750.0,9750.0,9750.0,9750.0,9750.0,9750.0,9600.0,9600.0,9600.0,9600.0,9600.0,9600.0,9600.0,9750.0,9750.0,9750.0,9750.0,9750.0,9600.0,9600.0,9600.0,9600.0,9600.0,9600.0,9600.0,9600.0,9600.0,9600.0,9600.0,9600.0,9600.0,9600.0,9600.0,9600.0,9600.0,9600.0,9600.0,9600.0,9600.0,9600.0,9600.0,9600.0,9600.0,9600.0,9600.0,9600.0,9600.0,9600.0,9600.0,9600.0,9600.0,9600.0,9600.0,9600.0,9600.0,9600.0,9600.0,9600.0,9600.0,9600.0,9600.0,9600.0,9600.0,9600.0,9600.0,9600.0,9600.0,9600.0,9600.0,9600.0,9650.0,9600.0,9600.0,9600.0,9600.0,9600.0,9750.0,9800.0,9800.0,9800.0,9800.0,9800.0,9800.0,9800.0,9800.0,9800.0,9800.0,9800.0,9800.0,9800.0,9800.0,9800.0,9800.0,9800.0,9800.0,9800.0,9800.0,9750.0,9750.0,9700.0,9700.0,9700.0,9750.0,9750.0,9750.0,9750.0,9750.0,9750.0,9750.0,9750.0,9750.0,9700.0,9700.0,9700.0,9700.0,9700.0,9700.0,9700.0,9700.0,9700.0,9700.0,9700.0,9700.0,9700.0,9700.0,9700.0,9700.0,9700.0,9700.0,9700.0,9700.0,9700.0,9700.0,9700.0,9700.0,9700.0,9700.0,9700.0,9700.0,9700.0,9700.0,9700.0,9700.0,9700.0,9700.0,9700.0,9700.0,9750.0,9750.0,9750.0,9750.0,9750.0,9750.0,9750.0,9750.0,9750.0,9750.0,9750.0,9750.0,9750.0,9750.0,9750.0,9750.0,9750.0,9750.0,9750.0,9800.0,9800.0,9800.0,9800.0,9800.0,9800.0,9900.0,9900.0,10000.0,10000.0,10000.0,10000.0,10000.0,10000.0,10000.0,10000.0,10000.0,10000.0,10200.0,10200.0,10300.0,10300.0,10300.0,10300.0,10300.0,10300.0,10300.0,10300.0,10350.0,10350.0,10350.0,10300.0,10300.0,10300.0,10300.0,10300.0,10250.0,10250.0,10250.0,10250.0,10250.0,10400.0,10400.0,10200.0,10200.0,10200.0,10300.0,10300.0,10250.0,10300.0,10300.0,10300.0,10300.0,10300.0,10300.0,10300.0,10300.0,10300.0,10300.0,10275.0,10250.0,10250.0,10250.0,10250.0,10250.0,10250.0,10250.0,10250.0,10250.0,10250.0,10250.0,10250.0,10250.0,10200.0,10200.0,10200.0,10150.0,10150.0,10150.0,10150.0,10150.0,10150.0,10150.0,10150.0,10150.0,10150.0,10150.0,10150.0,10150.0,10150.0,10150.0,10150.0,10150.0,10150.0,10150.0,10150.0,10150.0,10150.0,10150.0,10150.0,10143.0,10136.0,10129.0,10121.0,10114.0,10107.0,10100.0,10100.0,10100.0,10100.0,10100.0,10100.0,10100.0,10100.0,10100.0,10100.0,10100.0,10100.0,10100.0,10100.0,10100.0,10100.0,10100.0,10100.0,10100.0,10100.0,10100.0,10100.0,10000.0,10000.0,10000.0,10000.0,10000.0,10100.0,10100.0,10100.0,10100.0,10100.0,10100.0,10100.0,10150.0,10150.0,10150.0,10150.0,10150.0,10150.0,10150.0,10150.0,10150.0,10150.0,10150.0,10150.0,10150.0,10150.0,10150.0,10150.0,10150.0,10150.0,10200.0,10200.0,10200.0,10300.0,10300.0,10300.0,10300.0,10250.0,10400.0,10400.0,10350.0,10350.0,10500.0,10850.0,10800.0,10900.0,10900.0,10950.0,11050.0,11050.0,11050.0,11050.0,11200.0,11150.0,11150.0,11150.0,11150.0,11150.0,11150.0,11150.0,11150.0,11150.0,11150.0,11200.0,11200.0,11250.0,11250.0,11250.0,11250.0,11250.0,11250.0,11250.0,11200.0,11200.0,11200.0,11050.0,11050.0,11050.0,11100.0,11100.0,11150.0,11150.0,11150.0,11150.0,11150.0,11200.0,11200.0,11175.0,11150.0,11150.0,11150.0,11150.0,11200.0,11150.0,11150.0,11100.0,11100.0,11150.0,11100.0,11100.0,11050.0,11050.0,11000.0,11000.0,11000.0,10850.0,10850.0,10900.0,10900.0,10900.0,10750.0,10750.0,10700.0,10700.0,10700.0,10800.0,10800.0,10700.0,10700.0,10700.0,10600.0,10600.0,10600.0,10600.0,10600.0,10800.0,10600.0,10600.0,10700.0,10700.0,11000.0,11000.0,10900.0,11000.0,11000.0,11150.0,11150.0,11150.0,11200.0,11200.0,11200.0,11200.0,11450.0,11450.0,11400.0,11400.0,11400.0,11400.0,11500.0,11600.0,11600.0,11600.0,11600.0,11650.0,11650.0,11650.0,11650.0,11650.0,11650.0,11650.0,11650.0,11650.0,11650.0,11750.0,11750.0,12100.0,12100.0,12100.0,12100.0,12100.0,12100.0,12100.0,12100.0,12100.0,12100.0,12100.0,12150.0,12150.0,12150.0,12150.0,12150.0,12150.0,12150.0,11950.0,11950.0,11950.0,11950.0,11750.0,11800.0,11800.0,11550.0,11550.0,11650.0,11400.0,11400.0,11350.0,11350.0,11350.0,11350.0,11350.0,11350.0,11350.0,11350.0,11550.0,11550.0,11567.0,11583.0,11600.0,11600.0,11600.0,11600.0,11600.0,11650.0,11650.0,11650.0,11550.0,11550.0,11550.0,11550.0,11550.0,11550.0,11550.0,11550.0,11550.0,11550.0,11550.0,11550.0,11550.0,11550.0,11550.0,11550.0,11550.0,11650.0,11650.0,11650.0,11400.0,11400.0,11400.0,11400.0,11400.0,11400.0,11400.0,11400.0,11400.0,11400.0,11400.0,11400.0,11400.0,11400.0,11400.0,11400.0,11400.0,11400.0,11450.0,11400.0,11400.0,11400.0,11400.0,11300.0,11300.0,11350.0,11350.0,11350.0,11350.0,11350.0,11300.0,11300.0,11250.0,11250.0,11250.0,11450.0,11450.0,11450.0,11450.0,11450.0,11450.0,11450.0,11450.0,11550.0,11550.0,11500.0,11500.0,11500.0,11750.0,11750.0,11800.0,11800.0,11800.0,11800.0,11800.0,11800.0,12000.0,12000.0,12050.0,12050.0,12050.0,12050.0,12150.0,12150.0,12150.0,12200.0,12200.0,12200.0,12250.0,12250.0,12250.0,12350.0,12350.0,12250.0,12450.0,12450.0,12450.0,12450.0,12450.0,12450.0,12450.0,12450.0,12450.0,12450.0,12450.0,12450.0,12450.0,12450.0,12650.0,12650.0,12950.0,12950.0,12950.0,13150.0,13150.0,13200.0,13200.0,13200.0,13350.0,13350.0,13350.0,13350.0,13350.0,13350.0,13350.0,13350.0,13350.0,13350.0,13400.0,13400.0,13350.0,13350.0,13350.0,13400.0,13400.0,13400.0,13400.0,13400.0,13400.0,13400.0,13350.0,13350.0,13350.0,13300.0,13300.0,13300.0,13300.0,13300.0,13250.0,13250.0,13250.0,13250.0,13200.0,13200.0,13200.0,13150.0,13150.0,13150.0,13200.0,13200.0,13200.0,13200.0,13250.0,13250.0,13250.0,13450.0,13450.0,13450.0,13450.0,13450.0,13450.0,13450.0,13450.0,13450.0,13450.0,13450.0,13450.0,13450.0,13450.0,13450.0,13450.0,13450.0,13450.0,13450.0,13450.0,13450.0,13450.0,13450.0,13450.0,13450.0,13450.0,13450.0,13450.0,13450.0,13450.0,13500.0,13500.0,13500.0,13450.0,13450.0,13450.0,13450.0,13450.0,13450.0,13450.0,13450.0,13450.0,13450.0,13500.0,13500.0,13500.0,13500.0,13450.0,13500.0,13500.0,13500.0,13500.0,13500.0,13500.0,13500.0,13500.0,13500.0,13500.0,13450.0,13450.0,13450.0,13450.0,13450.0,13500.0,13500.0,13500.0,13500.0,13450.0,13450.0,13450.0,13450.0,13450.0,13450.0,13400.0,13400.0,13450.0,13450.0,13450.0,13450.0,13450.0,13400.0,13400.0,13400.0,13400.0,13400.0,13400.0,13450.0,13450.0,13450.0,13450.0,13450.0,13400.0,13400.0,13400.0,13400.0,13300.0,13400.0,13400.0,13400.0,13400.0,13400.0,13400.0,13400.0,13400.0,13400.0,13400.0,13400.0,13350.0,13350.0,13350.0,13400.0,13400.0,13350.0,13350.0,13350.0,13350.0,13350.0,13350.0,13350.0,13350.0,13350.0,13350.0,13350.0,13400.0,13400.0,13350.0,13350.0,13350.0,13350.0,13350.0,13350.0,13350.0,13350.0,13350.0,13350.0,13350.0,13350.0,13350.0,13350.0,13350.0,13250.0,13250.0,13200.0,13200.0,13200.0,13250.0,13250.0,13250.0,13250.0,13250.0,13300.0,13300.0,13300.0,13350.0,13350.0,13350.0,13350.0,13350.0,13500.0,13500.0,13500.0,13500.0,13500.0,13500.0,13500.0,13500.0,13500.0,13500.0,13500.0,13500.0,13500.0,13500.0,13500.0,13500.0,13500.0,13500.0,13500.0,13500.0,13500.0,13500.0,13500.0,13500.0,13500.0,13550.0,13550.0,13550.0,13550.0,13550.0,13550.0,13550.0,13550.0,13550.0,13550.0,13550.0,13550.0,13500.0,13500.0,13550.0,13450.0,13450.0,13450.0,13450.0,13450.0],\"type\":\"scatter\"},{\"line\":{\"color\":\"green\",\"width\":2},\"mode\":\"lines\",\"name\":\"Prediksi Polinomial (Degree 5)\",\"x\":[1.0,5.070234113712375,9.14046822742475,13.210702341137125,17.2809364548495,21.351170568561873,25.42140468227425,29.491638795986624,33.561872909699,37.63210702341137,41.702341137123746,45.77257525083612,49.8428093645485,53.913043478260875,57.98327759197325,62.05351170568562,66.123745819398,70.19397993311037,74.26421404682274,78.33444816053512,82.40468227424749,86.47491638795987,90.54515050167224,94.61538461538461,98.685618729097,102.75585284280938,106.82608695652175,110.89632107023412,114.9665551839465,119.03678929765887,123.10702341137124,127.17725752508362,131.247491638796,135.31772575250838,139.38795986622074,143.45819397993313,147.5284280936455,151.59866220735788,155.66889632107024,159.73913043478262,163.80936454849498,167.87959866220737,171.94983277591973,176.02006688963212,180.09030100334448,184.16053511705687,188.23076923076923,192.30100334448161,196.371237458194,200.44147157190636,204.51170568561875,208.5819397993311,212.6521739130435,216.72240802675586,220.79264214046825,224.8628762541806,228.933110367893,233.00334448160535,237.07357859531774,241.1438127090301,245.2140468227425,249.28428093645485,253.35451505016724,257.4247491638796,261.494983277592,265.5652173913044,269.63545150501676,273.7056856187291,277.7759197324415,281.84615384615387,285.91638795986626,289.9866220735786,294.056856187291,298.12709030100336,302.19732441471575,306.2675585284281,310.33779264214047,314.40802675585286,318.47826086956525,322.5484949832776,326.61872909698997,330.68896321070235,334.75919732441474,338.82943143812713,342.89966555183946,346.96989966555185,351.04013377926424,355.1103678929766,359.18060200668896,363.25083612040135,367.32107023411373,371.3913043478261,375.46153846153845,379.53177257525084,383.60200668896323,387.6722408026756,391.742474916388,395.81270903010034,399.8829431438127,403.9531772575251,408.0234113712375,412.09364548494983,416.1638795986622,420.2341137123746,424.304347826087,428.3745819397993,432.4448160535117,436.5150501672241,440.5852842809365,444.6555183946488,448.7257525083612,452.7959866220736,456.866220735786,460.9364548494984,465.0066889632107,469.0769230769231,473.1471571906355,477.21739130434787,481.2876254180602,485.3578595317726,489.428093645485,493.49832775919737,497.5685618729097,501.6387959866221,505.7090301003345,509.77926421404686,513.8494983277592,517.9197324414716,521.989966555184,526.0602006688963,530.1304347826087,534.2006688963211,538.2709030100335,542.3411371237459,546.4113712374582,550.4816053511706,554.551839464883,558.6220735785953,562.6923076923077,566.7625418060201,570.8327759197325,574.9030100334448,578.9732441471572,583.0434782608696,587.113712374582,591.1839464882944,595.2541806020067,599.3244147157191,603.3946488294315,607.4648829431438,611.5351170568562,615.6053511705686,619.6755852842809,623.7458193979934,627.8160535117057,631.886287625418,635.9565217391305,640.0267558528428,644.0969899665552,648.1672240802676,652.2374581939799,656.3076923076924,660.3779264214047,664.448160535117,668.5183946488295,672.5886287625418,676.6588628762543,680.7290969899666,684.7993311036789,688.8695652173914,692.9397993311037,697.010033444816,701.0802675585285,705.1505016722408,709.2207357859533,713.2909698996656,717.3612040133779,721.4314381270904,725.5016722408027,729.5719063545151,733.6421404682275,737.7123745819398,741.7826086956522,745.8528428093646,749.9230769230769,753.9933110367894,758.0635451505017,762.1337792642141,766.2040133779265,770.2742474916388,774.3444816053512,778.4147157190636,782.484949832776,786.5551839464883,790.6254180602007,794.6956521739131,798.7658862876254,802.8361204013378,806.9063545150502,810.9765886287626,815.046822742475,819.1170568561873,823.1872909698997,827.2575250836121,831.3277591973244,835.3979933110368,839.4682274247492,843.5384615384615,847.608695652174,851.6789297658863,855.7491638795987,859.8193979933111,863.8896321070234,867.9598662207359,872.0301003344482,876.1003344481605,880.170568561873,884.2408026755853,888.3110367892976,892.3812709030101,896.4515050167224,900.5217391304349,904.5919732441472,908.6622073578595,912.732441471572,916.8026755852843,920.8729096989968,924.9431438127091,929.0133779264214,933.0836120401339,937.1538461538462,941.2240802675585,945.294314381271,949.3645484949833,953.4347826086957,957.5050167224081,961.5752508361204,965.6454849498328,969.7157190635452,973.7859531772575,977.85618729097,981.9264214046823,985.9966555183947,990.0668896321071,994.1371237458194,998.2073578595318,1002.2775919732442,1006.3478260869566,1010.418060200669,1014.4882943143813,1018.5585284280937,1022.628762541806,1026.6989966555184,1030.7692307692307,1034.8394648829433,1038.9096989966556,1042.979933110368,1047.0501672240803,1051.1204013377926,1055.1906354515052,1059.2608695652175,1063.3311036789298,1067.4013377926422,1071.4715719063545,1075.541806020067,1079.6120401337794,1083.6822742474917,1087.752508361204,1091.8227424749164,1095.8929765886287,1099.9632107023413,1104.0334448160536,1108.103678929766,1112.1739130434783,1116.2441471571906,1120.3143812709031,1124.3846153846155,1128.4548494983278,1132.5250836120401,1136.5953177257525,1140.665551839465,1144.7357859531774,1148.8060200668897,1152.876254180602,1156.9464882943143,1161.016722408027,1165.0869565217392,1169.1571906354516,1173.227424749164,1177.2976588628762,1181.3678929765888,1185.4381270903011,1189.5083612040135,1193.5785953177258,1197.6488294314381,1201.7190635451504,1205.789297658863,1209.8595317725753,1213.9297658862877,1218.0],\"y\":[9735.269969968516,9750.896192455908,9765.765659334176,9779.894835423322,9793.30006335046,9805.997563549816,9818.003434262724,9829.333651537634,9840.004069230099,9850.03041900279,9859.428310325482,9868.213230475065,9876.400544535538,9884.005495398009,9891.043203760702,9897.528668128944,9903.47676481518,9908.902247938957,9913.819749426943,9918.243779012906,9922.188724237732,9925.668850449418,9928.698300803062,9931.291096260886,9933.461135592212,9935.222195373477,9936.587929988229,9937.571871627124,9938.187430287931,9938.44789377553,9938.366427701907,9937.956075486163,9937.229758354511,9936.200275340268,9934.880303283868,9933.282396832852,9931.418988441872,9929.302388372693,9926.944784694186,9924.358243282339,9921.554707820242,9918.545999798103,9915.34381851324,9911.959741070075,9908.405222380148,9904.691595162107,9900.830069941709,9896.831735051823,9892.707556632426,9888.468378630612,9884.124922800578,9879.687788703637,9875.167453708209,9870.574272989828,9865.918479531136,9861.210184121885,9856.459375358938,9851.675919646274,9846.869561194972,9842.04992202323,9837.226501956357,9832.408678626764,9827.605707473982,9822.826721744646,9818.080732492508,9813.376628578424,9808.723176670364,9804.129021243407,9799.602684579744,9795.152566768678,9790.786945706617,9786.513977097087,9782.341694450719,9778.278009085256,9774.33071012555,9770.50746450357,9766.815816958386,9763.263190036188,9759.856884090268,9756.604077281037,9753.511825576008,9750.587062749812,9747.836600384184,9745.267127867977,9742.885212397146,9740.697298974765,9738.709710411013,9736.928647323179,9735.360188135668,9734.01028907999,9732.88478419477,9731.98938532574,9731.329682125743,9730.911142054734,9730.739110379782,9730.818810175055,9731.155342321845,9731.753685508547,9732.61869623067,9733.755108790827,9735.167535298751,9736.86046567128,9738.838267632362,9741.105186713059,9743.665346251539,9746.522747393088,9749.681269090093,9753.144668102059,9756.916578995597,9761.000514144433,9765.399863729397,9770.117895738438,9775.157755966608,9780.522468016074,9786.214933296113,9792.23793102311,9798.594118220562,9805.286029719082,9812.31607815638,9819.686553977293,9827.399625433756,9835.457338584822,9843.861617296649,9852.61426324251,9861.716955902786,9871.171252564971,9880.978588323664,9891.140276080585,9901.657506544552,9912.531348231501,9923.762747464481,9935.352528373644,9947.301392896255,9959.609920776697,9972.278569566452,9985.307674624119,9998.69744911541,10012.447984013139,10026.55924809724,10041.031087954747,10055.86322797982,10071.055270373714,10086.606695144801,10102.516860108566,10118.785000887603,10135.410230911612,10152.391541417406,10169.727801448915,10187.417757857174,10205.460035300322,10223.853136243626,10242.595440959443,10261.685207527253,10281.120571833651,10300.899547572326,10321.020026244096,10341.479777156872,10362.27644742569,10383.407561972688,10404.870523527119,10426.66261262535,10448.780987610846,10471.222684634193,10493.984617653083,10517.063578432322,10540.456236543825,10564.159139366617,10588.168712086836,10612.481257697722,10637.092956999639,10661.99986860005,10687.197928913536,10712.682952161787,10738.450630373598,10764.496533384881,10790.81610883866,10817.404682185059,10844.257456681327,10871.369513391806,10898.735811187968,10926.351186748383,10954.210354558734,10982.307906911816,11010.638313907533,11039.195923452906,11067.974961262056,11096.969530856213,11126.17361356374,11155.581068520081,11185.185632667804,11214.980920756605,11244.960425343252,11275.117516791655,11305.445443272829,11335.937330764886,11366.586183053063,11397.3848817297,11428.326186194254,11459.402733653276,11490.607039120458,11521.93149541657,11553.368373169511,11584.909820814288,11616.547864593016,11648.274408554928,11680.08123455635,11711.96000226074,11743.902249138644,11775.899390467745,11807.942719332812,11840.02340662574,11872.13250104553,11904.26092909829,11936.399495097245,11968.538881162724,12000.669647222167,12032.78223101014,12064.866948068298,12096.913991745414,12128.913433197378,12160.855221387179,12192.729183084928,12224.525022867843,12256.232323120244,12287.840544033581,12319.339023606393,12350.71697764434,12381.963499760197,12413.067561373835,12444.018011712247,12474.803577809538,12505.41286450693,12535.834354452722,12566.05640810237,12596.0672637184,12625.855037370471,12655.407722935353,12684.713192096915,12713.759194346145,12742.53335698114,12771.023185107104,12799.216061636362,12827.099247288332,12854.659880589552,12881.884977873684,12908.761433281483,12935.276018760804,12961.41538406665,12987.1660567611,13012.514442213345,13037.446823599723,13061.949361903637,13086.008095915633,13109.608942233344,13132.737695261538,13155.380027212068,13177.521488103921,13199.147505763167,13220.24338582302,13240.794311723772,13260.785344712864,13280.2014238448,13299.027365981221,13317.247865790901,13334.847495749671,13351.810706140523,13368.121825053526,13383.76505838588,13398.724489841874,13412.98408093294,13426.527670977595,13439.338977101464,13451.401594237293,13462.698995124943,13473.214530311398,13482.9314281507,13491.832794804046,13499.901614239749,13507.120748233207,13513.47293636694,13518.940796030576,13523.506822420852,13527.153388541628,13529.862745203867,13531.6170210256,13532.398222432068,13532.18823365553,13530.968816735383,13528.721611518165,13525.428135657494,13521.069784614097,13515.627831655811,13509.083427857615,13501.417602101552,13492.61126107682,13482.645189279687,13471.500049013583,13459.156380388962,13445.594601323512,13430.7950075419],\"type\":\"scatter\"}],                        {\"template\":{\"data\":{\"histogram2dcontour\":[{\"type\":\"histogram2dcontour\",\"colorbar\":{\"outlinewidth\":0,\"ticks\":\"\"},\"colorscale\":[[0.0,\"#0d0887\"],[0.1111111111111111,\"#46039f\"],[0.2222222222222222,\"#7201a8\"],[0.3333333333333333,\"#9c179e\"],[0.4444444444444444,\"#bd3786\"],[0.5555555555555556,\"#d8576b\"],[0.6666666666666666,\"#ed7953\"],[0.7777777777777778,\"#fb9f3a\"],[0.8888888888888888,\"#fdca26\"],[1.0,\"#f0f921\"]]}],\"choropleth\":[{\"type\":\"choropleth\",\"colorbar\":{\"outlinewidth\":0,\"ticks\":\"\"}}],\"histogram2d\":[{\"type\":\"histogram2d\",\"colorbar\":{\"outlinewidth\":0,\"ticks\":\"\"},\"colorscale\":[[0.0,\"#0d0887\"],[0.1111111111111111,\"#46039f\"],[0.2222222222222222,\"#7201a8\"],[0.3333333333333333,\"#9c179e\"],[0.4444444444444444,\"#bd3786\"],[0.5555555555555556,\"#d8576b\"],[0.6666666666666666,\"#ed7953\"],[0.7777777777777778,\"#fb9f3a\"],[0.8888888888888888,\"#fdca26\"],[1.0,\"#f0f921\"]]}],\"heatmap\":[{\"type\":\"heatmap\",\"colorbar\":{\"outlinewidth\":0,\"ticks\":\"\"},\"colorscale\":[[0.0,\"#0d0887\"],[0.1111111111111111,\"#46039f\"],[0.2222222222222222,\"#7201a8\"],[0.3333333333333333,\"#9c179e\"],[0.4444444444444444,\"#bd3786\"],[0.5555555555555556,\"#d8576b\"],[0.6666666666666666,\"#ed7953\"],[0.7777777777777778,\"#fb9f3a\"],[0.8888888888888888,\"#fdca26\"],[1.0,\"#f0f921\"]]}],\"heatmapgl\":[{\"type\":\"heatmapgl\",\"colorbar\":{\"outlinewidth\":0,\"ticks\":\"\"},\"colorscale\":[[0.0,\"#0d0887\"],[0.1111111111111111,\"#46039f\"],[0.2222222222222222,\"#7201a8\"],[0.3333333333333333,\"#9c179e\"],[0.4444444444444444,\"#bd3786\"],[0.5555555555555556,\"#d8576b\"],[0.6666666666666666,\"#ed7953\"],[0.7777777777777778,\"#fb9f3a\"],[0.8888888888888888,\"#fdca26\"],[1.0,\"#f0f921\"]]}],\"contourcarpet\":[{\"type\":\"contourcarpet\",\"colorbar\":{\"outlinewidth\":0,\"ticks\":\"\"}}],\"contour\":[{\"type\":\"contour\",\"colorbar\":{\"outlinewidth\":0,\"ticks\":\"\"},\"colorscale\":[[0.0,\"#0d0887\"],[0.1111111111111111,\"#46039f\"],[0.2222222222222222,\"#7201a8\"],[0.3333333333333333,\"#9c179e\"],[0.4444444444444444,\"#bd3786\"],[0.5555555555555556,\"#d8576b\"],[0.6666666666666666,\"#ed7953\"],[0.7777777777777778,\"#fb9f3a\"],[0.8888888888888888,\"#fdca26\"],[1.0,\"#f0f921\"]]}],\"surface\":[{\"type\":\"surface\",\"colorbar\":{\"outlinewidth\":0,\"ticks\":\"\"},\"colorscale\":[[0.0,\"#0d0887\"],[0.1111111111111111,\"#46039f\"],[0.2222222222222222,\"#7201a8\"],[0.3333333333333333,\"#9c179e\"],[0.4444444444444444,\"#bd3786\"],[0.5555555555555556,\"#d8576b\"],[0.6666666666666666,\"#ed7953\"],[0.7777777777777778,\"#fb9f3a\"],[0.8888888888888888,\"#fdca26\"],[1.0,\"#f0f921\"]]}],\"mesh3d\":[{\"type\":\"mesh3d\",\"colorbar\":{\"outlinewidth\":0,\"ticks\":\"\"}}],\"scatter\":[{\"fillpattern\":{\"fillmode\":\"overlay\",\"size\":10,\"solidity\":0.2},\"type\":\"scatter\"}],\"parcoords\":[{\"type\":\"parcoords\",\"line\":{\"colorbar\":{\"outlinewidth\":0,\"ticks\":\"\"}}}],\"scatterpolargl\":[{\"type\":\"scatterpolargl\",\"marker\":{\"colorbar\":{\"outlinewidth\":0,\"ticks\":\"\"}}}],\"bar\":[{\"error_x\":{\"color\":\"#2a3f5f\"},\"error_y\":{\"color\":\"#2a3f5f\"},\"marker\":{\"line\":{\"color\":\"#E5ECF6\",\"width\":0.5},\"pattern\":{\"fillmode\":\"overlay\",\"size\":10,\"solidity\":0.2}},\"type\":\"bar\"}],\"scattergeo\":[{\"type\":\"scattergeo\",\"marker\":{\"colorbar\":{\"outlinewidth\":0,\"ticks\":\"\"}}}],\"scatterpolar\":[{\"type\":\"scatterpolar\",\"marker\":{\"colorbar\":{\"outlinewidth\":0,\"ticks\":\"\"}}}],\"histogram\":[{\"marker\":{\"pattern\":{\"fillmode\":\"overlay\",\"size\":10,\"solidity\":0.2}},\"type\":\"histogram\"}],\"scattergl\":[{\"type\":\"scattergl\",\"marker\":{\"colorbar\":{\"outlinewidth\":0,\"ticks\":\"\"}}}],\"scatter3d\":[{\"type\":\"scatter3d\",\"line\":{\"colorbar\":{\"outlinewidth\":0,\"ticks\":\"\"}},\"marker\":{\"colorbar\":{\"outlinewidth\":0,\"ticks\":\"\"}}}],\"scattermapbox\":[{\"type\":\"scattermapbox\",\"marker\":{\"colorbar\":{\"outlinewidth\":0,\"ticks\":\"\"}}}],\"scatterternary\":[{\"type\":\"scatterternary\",\"marker\":{\"colorbar\":{\"outlinewidth\":0,\"ticks\":\"\"}}}],\"scattercarpet\":[{\"type\":\"scattercarpet\",\"marker\":{\"colorbar\":{\"outlinewidth\":0,\"ticks\":\"\"}}}],\"carpet\":[{\"aaxis\":{\"endlinecolor\":\"#2a3f5f\",\"gridcolor\":\"white\",\"linecolor\":\"white\",\"minorgridcolor\":\"white\",\"startlinecolor\":\"#2a3f5f\"},\"baxis\":{\"endlinecolor\":\"#2a3f5f\",\"gridcolor\":\"white\",\"linecolor\":\"white\",\"minorgridcolor\":\"white\",\"startlinecolor\":\"#2a3f5f\"},\"type\":\"carpet\"}],\"table\":[{\"cells\":{\"fill\":{\"color\":\"#EBF0F8\"},\"line\":{\"color\":\"white\"}},\"header\":{\"fill\":{\"color\":\"#C8D4E3\"},\"line\":{\"color\":\"white\"}},\"type\":\"table\"}],\"barpolar\":[{\"marker\":{\"line\":{\"color\":\"#E5ECF6\",\"width\":0.5},\"pattern\":{\"fillmode\":\"overlay\",\"size\":10,\"solidity\":0.2}},\"type\":\"barpolar\"}],\"pie\":[{\"automargin\":true,\"type\":\"pie\"}]},\"layout\":{\"autotypenumbers\":\"strict\",\"colorway\":[\"#636efa\",\"#EF553B\",\"#00cc96\",\"#ab63fa\",\"#FFA15A\",\"#19d3f3\",\"#FF6692\",\"#B6E880\",\"#FF97FF\",\"#FECB52\"],\"font\":{\"color\":\"#2a3f5f\"},\"hovermode\":\"closest\",\"hoverlabel\":{\"align\":\"left\"},\"paper_bgcolor\":\"white\",\"plot_bgcolor\":\"#E5ECF6\",\"polar\":{\"bgcolor\":\"#E5ECF6\",\"angularaxis\":{\"gridcolor\":\"white\",\"linecolor\":\"white\",\"ticks\":\"\"},\"radialaxis\":{\"gridcolor\":\"white\",\"linecolor\":\"white\",\"ticks\":\"\"}},\"ternary\":{\"bgcolor\":\"#E5ECF6\",\"aaxis\":{\"gridcolor\":\"white\",\"linecolor\":\"white\",\"ticks\":\"\"},\"baxis\":{\"gridcolor\":\"white\",\"linecolor\":\"white\",\"ticks\":\"\"},\"caxis\":{\"gridcolor\":\"white\",\"linecolor\":\"white\",\"ticks\":\"\"}},\"coloraxis\":{\"colorbar\":{\"outlinewidth\":0,\"ticks\":\"\"}},\"colorscale\":{\"sequential\":[[0.0,\"#0d0887\"],[0.1111111111111111,\"#46039f\"],[0.2222222222222222,\"#7201a8\"],[0.3333333333333333,\"#9c179e\"],[0.4444444444444444,\"#bd3786\"],[0.5555555555555556,\"#d8576b\"],[0.6666666666666666,\"#ed7953\"],[0.7777777777777778,\"#fb9f3a\"],[0.8888888888888888,\"#fdca26\"],[1.0,\"#f0f921\"]],\"sequentialminus\":[[0.0,\"#0d0887\"],[0.1111111111111111,\"#46039f\"],[0.2222222222222222,\"#7201a8\"],[0.3333333333333333,\"#9c179e\"],[0.4444444444444444,\"#bd3786\"],[0.5555555555555556,\"#d8576b\"],[0.6666666666666666,\"#ed7953\"],[0.7777777777777778,\"#fb9f3a\"],[0.8888888888888888,\"#fdca26\"],[1.0,\"#f0f921\"]],\"diverging\":[[0,\"#8e0152\"],[0.1,\"#c51b7d\"],[0.2,\"#de77ae\"],[0.3,\"#f1b6da\"],[0.4,\"#fde0ef\"],[0.5,\"#f7f7f7\"],[0.6,\"#e6f5d0\"],[0.7,\"#b8e186\"],[0.8,\"#7fbc41\"],[0.9,\"#4d9221\"],[1,\"#276419\"]]},\"xaxis\":{\"gridcolor\":\"white\",\"linecolor\":\"white\",\"ticks\":\"\",\"title\":{\"standoff\":15},\"zerolinecolor\":\"white\",\"automargin\":true,\"zerolinewidth\":2},\"yaxis\":{\"gridcolor\":\"white\",\"linecolor\":\"white\",\"ticks\":\"\",\"title\":{\"standoff\":15},\"zerolinecolor\":\"white\",\"automargin\":true,\"zerolinewidth\":2},\"scene\":{\"xaxis\":{\"backgroundcolor\":\"#E5ECF6\",\"gridcolor\":\"white\",\"linecolor\":\"white\",\"showbackground\":true,\"ticks\":\"\",\"zerolinecolor\":\"white\",\"gridwidth\":2},\"yaxis\":{\"backgroundcolor\":\"#E5ECF6\",\"gridcolor\":\"white\",\"linecolor\":\"white\",\"showbackground\":true,\"ticks\":\"\",\"zerolinecolor\":\"white\",\"gridwidth\":2},\"zaxis\":{\"backgroundcolor\":\"#E5ECF6\",\"gridcolor\":\"white\",\"linecolor\":\"white\",\"showbackground\":true,\"ticks\":\"\",\"zerolinecolor\":\"white\",\"gridwidth\":2}},\"shapedefaults\":{\"line\":{\"color\":\"#2a3f5f\"}},\"annotationdefaults\":{\"arrowcolor\":\"#2a3f5f\",\"arrowhead\":0,\"arrowwidth\":1},\"geo\":{\"bgcolor\":\"white\",\"landcolor\":\"#E5ECF6\",\"subunitcolor\":\"white\",\"showland\":true,\"showlakes\":true,\"lakecolor\":\"white\"},\"title\":{\"x\":0.05},\"mapbox\":{\"style\":\"light\"}}},\"title\":{\"text\":\"Prediksi Harga Beras dengan Regresi Polinomial Degree 5\",\"x\":0.5},\"xaxis\":{\"title\":{\"text\":\"Independent Variabel\"},\"tickangle\":-45,\"showgrid\":true,\"gridcolor\":\"lightgrey\"},\"yaxis\":{\"title\":{\"text\":\"Harga Beras\"},\"tickformat\":\"d\",\"showgrid\":true,\"gridcolor\":\"lightgrey\"},\"font\":{\"family\":\"Arial, sans-serif\",\"size\":12},\"legend\":{\"x\":0.5,\"y\":1.1,\"xanchor\":\"center\",\"yanchor\":\"top\",\"orientation\":\"h\"},\"width\":1000,\"height\":600,\"plot_bgcolor\":\"white\",\"shapes\":[{\"line\":{\"color\":\"black\",\"width\":1},\"type\":\"rect\",\"x0\":0,\"x1\":1,\"xref\":\"paper\",\"y0\":0,\"y1\":1,\"yref\":\"paper\"}]},                        {\"responsive\": true}                    ).then(function(){\n",
              "                            \n",
              "var gd = document.getElementById('aad5448d-c0a8-443f-bbfb-66f031f65b03');\n",
              "var x = new MutationObserver(function (mutations, observer) {{\n",
              "        var display = window.getComputedStyle(gd).display;\n",
              "        if (!display || display === 'none') {{\n",
              "            console.log([gd, 'removed!']);\n",
              "            Plotly.purge(gd);\n",
              "            observer.disconnect();\n",
              "        }}\n",
              "}});\n",
              "\n",
              "// Listen for the removal of the full notebook cells\n",
              "var notebookContainer = gd.closest('#notebook-container');\n",
              "if (notebookContainer) {{\n",
              "    x.observe(notebookContainer, {childList: true});\n",
              "}}\n",
              "\n",
              "// Listen for the clearing of the current output cell\n",
              "var outputEl = gd.closest('.output');\n",
              "if (outputEl) {{\n",
              "    x.observe(outputEl, {childList: true});\n",
              "}}\n",
              "\n",
              "                        })                };                            </script>        </div>\n",
              "</body>\n",
              "</html>"
            ]
          },
          "metadata": {}
        }
      ]
    },
    {
      "cell_type": "markdown",
      "source": [
        "#*Model Testing*\n",
        "\n",
        "> Tahap pengujian membandingkan prediksi model dengan nilai aktual harga beras pada data testing, menggunakan tiga metrik evaluasi yaitu Mean Absolute Error (MAE) Root Mean Squared Error (RMSE) dan Mean Absolute Percentage Error (MAPE)\n",
        "\n"
      ],
      "metadata": {
        "id": "I52rLlPDYDuN"
      }
    },
    {
      "cell_type": "code",
      "source": [
        "# Prediksi regresi linear\n",
        "Y_pred_linear = model_linear.predict(X_test)\n",
        "\n",
        "# Hitung metrik evaluasi untuk regresi linear\n",
        "mae_linear = mean_absolute_error(Y_test, Y_pred_linear)\n",
        "rmse_linear = np.sqrt(np.mean((Y_test - Y_pred_linear) ** 2))\n",
        "mape_linear = np.mean(np.abs((Y_test - Y_pred_linear) / Y_test)) * 100\n",
        "\n",
        "# Cetak hasil evaluasi regresi linear\n",
        "print(\"Regresi Linear\")\n",
        "print(f\"  MAE : {mae_linear:.4f}\")\n",
        "print(f\"  RMSE: {rmse_linear:.4f}\")\n",
        "print(f\"  MAPE: {mape_linear:.2f}%\\n\")\n"
      ],
      "metadata": {
        "colab": {
          "base_uri": "https://localhost:8080/"
        },
        "id": "86rJDZuIQ_6x",
        "outputId": "0f4c5b03-2d49-4d6f-80d7-516112b5958b"
      },
      "execution_count": 25,
      "outputs": [
        {
          "output_type": "stream",
          "name": "stdout",
          "text": [
            "Regresi Linear\n",
            "  MAE : 554.0741\n",
            "  RMSE: 614.2957\n",
            "  MAPE: 5.16%\n",
            "\n"
          ]
        }
      ]
    },
    {
      "cell_type": "code",
      "source": [
        "# Mapping model dan poly transformernya\n",
        "models = {\n",
        "    2: (poly_2_model, poly_2),\n",
        "    3: (poly_3_model, poly_3),\n",
        "    4: (poly_4_model, poly_4),\n",
        "    5: (poly_5_model, poly_5)\n",
        "}\n",
        "\n",
        "# Loop untuk prediksi dan evaluasi\n",
        "for degree, (model, poly) in models.items():\n",
        "    # The problem was here. Changed X_test to X_train\n",
        "    Y_pred = model.predict(poly.transform(X_test))\n",
        "\n",
        "    mae = mean_absolute_error(Y_test, Y_pred)\n",
        "    rmse = np.sqrt(np.mean((Y_test - Y_pred) ** 2))\n",
        "    mape = np.mean(np.abs((Y_test - Y_pred) / Y_test)) * 100\n",
        "\n",
        "    print(f\"Polynomial Degree {degree}\")\n",
        "    print(f\"  MAE : {mae:.2f}\")\n",
        "    print(f\"  RMSE: {rmse:.2f}\")\n",
        "    print(f\"  MAPE: {mape:.2f}%\\n\")"
      ],
      "metadata": {
        "colab": {
          "base_uri": "https://localhost:8080/"
        },
        "id": "cPUnmgQShpo9",
        "outputId": "1ec66d83-757a-4ec6-8317-2dd978fbe798"
      },
      "execution_count": 26,
      "outputs": [
        {
          "output_type": "stream",
          "name": "stdout",
          "text": [
            "Polynomial Degree 2\n",
            "  MAE : 286.50\n",
            "  RMSE: 359.55\n",
            "  MAPE: 2.54%\n",
            "\n",
            "Polynomial Degree 3\n",
            "  MAE : 280.43\n",
            "  RMSE: 345.92\n",
            "  MAPE: 2.53%\n",
            "\n",
            "Polynomial Degree 4\n",
            "  MAE : 205.23\n",
            "  RMSE: 284.88\n",
            "  MAPE: 1.85%\n",
            "\n",
            "Polynomial Degree 5\n",
            "  MAE : 210.25\n",
            "  RMSE: 281.02\n",
            "  MAPE: 1.90%\n",
            "\n"
          ]
        }
      ]
    },
    {
      "cell_type": "markdown",
      "source": [
        "# *Future Prediction*\n",
        "Memprediksi Masa depan berdasarkan model yang sudah dibuat"
      ],
      "metadata": {
        "id": "NH8B_zw6YlEF"
      }
    },
    {
      "cell_type": "code",
      "source": [
        "# 1. Cari X terakhir\n",
        "X_last = X.max()\n",
        "\n",
        "# 2. Buat 10 hari ke depan\n",
        "X_future = np.linspace(X_last + 1, X_last + 10, 10).reshape(-1, 1)\n",
        "\n",
        "# 3. Prediksi menggunakan model regresi linear\n",
        "Y_future_pred_linear = model_linear.predict(X_future)\n",
        "\n",
        "# 4. Tampilkan hasil prediksi\n",
        "print(\"Prediksi Harga Beras 10 Hari ke Depan (Regresi Linear):\")\n",
        "for i, harga in enumerate(Y_future_pred_linear, start=1):\n",
        "    print(f\"Hari ke-{i}: {harga:.2f}\")\n"
      ],
      "metadata": {
        "colab": {
          "base_uri": "https://localhost:8080/"
        },
        "id": "4uTJOZweSQjt",
        "outputId": "56e63e61-d46b-4bab-d1ec-31bb88e062c0"
      },
      "execution_count": 27,
      "outputs": [
        {
          "output_type": "stream",
          "name": "stdout",
          "text": [
            "Prediksi Harga Beras 10 Hari ke Depan (Regresi Linear):\n",
            "Hari ke-1: 13227.38\n",
            "Hari ke-2: 13231.00\n",
            "Hari ke-3: 13234.63\n",
            "Hari ke-4: 13238.26\n",
            "Hari ke-5: 13241.88\n",
            "Hari ke-6: 13245.51\n",
            "Hari ke-7: 13249.14\n",
            "Hari ke-8: 13252.77\n",
            "Hari ke-9: 13256.39\n",
            "Hari ke-10: 13260.02\n"
          ]
        }
      ]
    },
    {
      "cell_type": "code",
      "source": [
        "# 1. Cari X terakhir\n",
        "X_last = X.max()\n",
        "\n",
        "# 2. Buat 10 hari ke depan\n",
        "X_future = np.linspace(X_last + 1, X_last + 10, 10).reshape(-1, 1)\n",
        "\n",
        "# 3. Transformasi X_future ke polynomial degree 2\n",
        "X_future_poly = poly_2.transform(X_future)\n",
        "\n",
        "# 4. Prediksi harga masa depan\n",
        "Y_future_pred = poly_2_model.predict(X_future_poly)\n",
        "\n",
        "# 5. Tampilkan hasil prediksi\n",
        "print(\"Prediksi Harga Beras 10 Hari ke Depan:\")\n",
        "for i, harga in enumerate(Y_future_pred, start=1):\n",
        "    print(f\"Hari ke-{i}: {harga:.2f}\")\n"
      ],
      "metadata": {
        "colab": {
          "base_uri": "https://localhost:8080/"
        },
        "id": "fWii7XZZSf5I",
        "outputId": "03fa5de8-50e3-4084-ed03-f2c37cee2424"
      },
      "execution_count": 28,
      "outputs": [
        {
          "output_type": "stream",
          "name": "stdout",
          "text": [
            "Prediksi Harga Beras 10 Hari ke Depan:\n",
            "Hari ke-1: 14368.99\n",
            "Hari ke-2: 14378.27\n",
            "Hari ke-3: 14387.56\n",
            "Hari ke-4: 14396.86\n",
            "Hari ke-5: 14406.16\n",
            "Hari ke-6: 14415.48\n",
            "Hari ke-7: 14424.81\n",
            "Hari ke-8: 14434.14\n",
            "Hari ke-9: 14443.49\n",
            "Hari ke-10: 14452.84\n"
          ]
        }
      ]
    },
    {
      "cell_type": "code",
      "source": [
        "X_last = X.max()\n",
        "\n",
        "X_future = np.linspace(X_last + 1, X_last + 10, 10).reshape(-1, 1)\n",
        "\n",
        "X_future_poly = poly_3.transform(X_future)\n",
        "\n",
        "# 4. Prediksi harga masa depan\n",
        "Y_future_pred = poly_3_model.predict(X_future_poly)\n",
        "\n",
        "print(\"Prediksi Harga Beras 10 Hari ke Depan:\")\n",
        "for i, harga in enumerate(Y_future_pred, start=1):\n",
        "    print(f\"Hari ke-{i}: {harga:.2f}\")\n"
      ],
      "metadata": {
        "colab": {
          "base_uri": "https://localhost:8080/"
        },
        "id": "lNlZ_E--TMKn",
        "outputId": "da0473c2-09a1-40b3-8f28-148d2f2480f7"
      },
      "execution_count": 29,
      "outputs": [
        {
          "output_type": "stream",
          "name": "stdout",
          "text": [
            "Prediksi Harga Beras 10 Hari ke Depan:\n",
            "Hari ke-1: 14021.14\n",
            "Hari ke-2: 14026.97\n",
            "Hari ke-3: 14032.79\n",
            "Hari ke-4: 14038.61\n",
            "Hari ke-5: 14044.42\n",
            "Hari ke-6: 14050.23\n",
            "Hari ke-7: 14056.03\n",
            "Hari ke-8: 14061.83\n",
            "Hari ke-9: 14067.63\n",
            "Hari ke-10: 14073.42\n"
          ]
        }
      ]
    },
    {
      "cell_type": "code",
      "source": [
        "X_last = X.max()\n",
        "\n",
        "X_future = np.linspace(X_last + 1, X_last + 10, 10).reshape(-1, 1)\n",
        "\n",
        "X_future_poly = poly_4.transform(X_future)\n",
        "\n",
        "# 4. Prediksi harga masa depan\n",
        "Y_future_pred = poly_4_model.predict(X_future_poly)\n",
        "\n",
        "print(\"Prediksi Harga Beras 10 Hari ke Depan:\")\n",
        "for i, harga in enumerate(Y_future_pred, start=1):\n",
        "    print(f\"Hari ke-{i}: {harga:.2f}\")\n"
      ],
      "metadata": {
        "colab": {
          "base_uri": "https://localhost:8080/"
        },
        "id": "5EmKmadBTVia",
        "outputId": "c1c7c934-dba4-4a7a-a3be-bf5aaeed8d17"
      },
      "execution_count": 30,
      "outputs": [
        {
          "output_type": "stream",
          "name": "stdout",
          "text": [
            "Prediksi Harga Beras 10 Hari ke Depan:\n",
            "Hari ke-1: 13426.97\n",
            "Hari ke-2: 13423.06\n",
            "Hari ke-3: 13419.08\n",
            "Hari ke-4: 13415.03\n",
            "Hari ke-5: 13410.89\n",
            "Hari ke-6: 13406.68\n",
            "Hari ke-7: 13402.39\n",
            "Hari ke-8: 13398.02\n",
            "Hari ke-9: 13393.58\n",
            "Hari ke-10: 13389.05\n"
          ]
        }
      ]
    },
    {
      "cell_type": "code",
      "source": [
        "X_last = X.max()\n",
        "\n",
        "X_future = np.linspace(X_last + 1, X_last + 10, 10).reshape(-1, 1)\n",
        "\n",
        "X_future_poly = poly_5.transform(X_future)\n",
        "\n",
        "# 4. Prediksi harga masa depan\n",
        "Y_future_pred = poly_5_model.predict(X_future_poly)\n",
        "\n",
        "print(\"Prediksi Harga Beras 10 Hari ke Depan:\")\n",
        "for i, harga in enumerate(Y_future_pred, start=1):\n",
        "    print(f\"Hari ke-{i}: {harga:.2f}\")\n"
      ],
      "metadata": {
        "colab": {
          "base_uri": "https://localhost:8080/"
        },
        "id": "1CODq6hzTeO8",
        "outputId": "9cd2b1ab-92f3-435b-a236-2a4d6dae6b70"
      },
      "execution_count": 31,
      "outputs": [
        {
          "output_type": "stream",
          "name": "stdout",
          "text": [
            "Prediksi Harga Beras 10 Hari ke Depan:\n",
            "Hari ke-1: 13289.79\n",
            "Hari ke-2: 13282.47\n",
            "Hari ke-3: 13275.04\n",
            "Hari ke-4: 13267.49\n",
            "Hari ke-5: 13259.82\n",
            "Hari ke-6: 13252.03\n",
            "Hari ke-7: 13244.12\n",
            "Hari ke-8: 13236.10\n",
            "Hari ke-9: 13227.95\n",
            "Hari ke-10: 13219.69\n"
          ]
        }
      ]
    }
  ],
  "metadata": {
    "kernelspec": {
      "display_name": "Python 3 (ipykernel)",
      "language": "python",
      "name": "python3"
    },
    "language_info": {
      "codemirror_mode": {
        "name": "ipython",
        "version": 3
      },
      "file_extension": ".py",
      "mimetype": "text/x-python",
      "name": "python",
      "nbconvert_exporter": "python",
      "pygments_lexer": "ipython3",
      "version": "3.12.7"
    },
    "colab": {
      "provenance": [],
      "toc_visible": true
    }
  },
  "nbformat": 4,
  "nbformat_minor": 0
}